{
 "cells": [
  {
   "cell_type": "code",
   "execution_count": 1,
   "metadata": {},
   "outputs": [],
   "source": [
    "import pandas as pd\n",
    "import numpy as np\n",
    "import matplotlib.pyplot as plt\n",
    "import json\n",
    "\n",
    "%matplotlib inline"
   ]
  },
  {
   "cell_type": "markdown",
   "metadata": {},
   "source": [
    "## Part 1 - Exploratory Data Analysis\n",
    "The attached logins.json file contains (simulated) timestamps of user logins in a particular geographic location. Aggregate these login counts based on 15minute time intervals, and visualize and describe the resulting time series of login counts in ways that best characterize the underlying patterns of the demand. Please report/illustrate important features of the demand,\n",
    "such as daily cycles. If there are data quality issues, please report them."
   ]
  },
  {
   "cell_type": "markdown",
   "metadata": {},
   "source": [
    "#### Read the data"
   ]
  },
  {
   "cell_type": "code",
   "execution_count": 2,
   "metadata": {},
   "outputs": [
    {
     "data": {
      "text/html": [
       "<div>\n",
       "<style scoped>\n",
       "    .dataframe tbody tr th:only-of-type {\n",
       "        vertical-align: middle;\n",
       "    }\n",
       "\n",
       "    .dataframe tbody tr th {\n",
       "        vertical-align: top;\n",
       "    }\n",
       "\n",
       "    .dataframe thead th {\n",
       "        text-align: right;\n",
       "    }\n",
       "</style>\n",
       "<table border=\"1\" class=\"dataframe\">\n",
       "  <thead>\n",
       "    <tr style=\"text-align: right;\">\n",
       "      <th></th>\n",
       "      <th>num_login</th>\n",
       "    </tr>\n",
       "    <tr>\n",
       "      <th>login_time</th>\n",
       "      <th></th>\n",
       "    </tr>\n",
       "  </thead>\n",
       "  <tbody>\n",
       "    <tr>\n",
       "      <th>1970-01-01 20:13:18</th>\n",
       "      <td>1</td>\n",
       "    </tr>\n",
       "    <tr>\n",
       "      <th>1970-01-01 20:16:10</th>\n",
       "      <td>1</td>\n",
       "    </tr>\n",
       "    <tr>\n",
       "      <th>1970-01-01 20:16:37</th>\n",
       "      <td>1</td>\n",
       "    </tr>\n",
       "    <tr>\n",
       "      <th>1970-01-01 20:16:36</th>\n",
       "      <td>1</td>\n",
       "    </tr>\n",
       "    <tr>\n",
       "      <th>1970-01-01 20:26:21</th>\n",
       "      <td>1</td>\n",
       "    </tr>\n",
       "  </tbody>\n",
       "</table>\n",
       "</div>"
      ],
      "text/plain": [
       "                     num_login\n",
       "login_time                    \n",
       "1970-01-01 20:13:18          1\n",
       "1970-01-01 20:16:10          1\n",
       "1970-01-01 20:16:37          1\n",
       "1970-01-01 20:16:36          1\n",
       "1970-01-01 20:26:21          1"
      ]
     },
     "metadata": {},
     "output_type": "display_data"
    }
   ],
   "source": [
    "# read the data\n",
    "logins = pd.read_json('logins.json', convert_dates=True)\n",
    "# make login_time the index (for resampling)\n",
    "logins.index = logins['login_time']\n",
    "# make a num_login column (1s for now - will sum later)\n",
    "logins['num_login'] = 1\n",
    "# drop the login_time column\n",
    "logins.drop('login_time', axis=1, inplace=True)\n",
    "\n",
    "display(logins.head())"
   ]
  },
  {
   "cell_type": "markdown",
   "metadata": {},
   "source": [
    "#### Resample to 15 minute intervals"
   ]
  },
  {
   "cell_type": "code",
   "execution_count": 3,
   "metadata": {},
   "outputs": [
    {
     "data": {
      "text/html": [
       "<div>\n",
       "<style scoped>\n",
       "    .dataframe tbody tr th:only-of-type {\n",
       "        vertical-align: middle;\n",
       "    }\n",
       "\n",
       "    .dataframe tbody tr th {\n",
       "        vertical-align: top;\n",
       "    }\n",
       "\n",
       "    .dataframe thead th {\n",
       "        text-align: right;\n",
       "    }\n",
       "</style>\n",
       "<table border=\"1\" class=\"dataframe\">\n",
       "  <thead>\n",
       "    <tr style=\"text-align: right;\">\n",
       "      <th></th>\n",
       "      <th>num_login</th>\n",
       "    </tr>\n",
       "    <tr>\n",
       "      <th>login_time</th>\n",
       "      <th></th>\n",
       "    </tr>\n",
       "  </thead>\n",
       "  <tbody>\n",
       "    <tr>\n",
       "      <th>1970-01-01 20:00:00</th>\n",
       "      <td>2</td>\n",
       "    </tr>\n",
       "    <tr>\n",
       "      <th>1970-01-01 20:15:00</th>\n",
       "      <td>6</td>\n",
       "    </tr>\n",
       "    <tr>\n",
       "      <th>1970-01-01 20:30:00</th>\n",
       "      <td>9</td>\n",
       "    </tr>\n",
       "    <tr>\n",
       "      <th>1970-01-01 20:45:00</th>\n",
       "      <td>7</td>\n",
       "    </tr>\n",
       "    <tr>\n",
       "      <th>1970-01-01 21:00:00</th>\n",
       "      <td>1</td>\n",
       "    </tr>\n",
       "  </tbody>\n",
       "</table>\n",
       "</div>"
      ],
      "text/plain": [
       "                     num_login\n",
       "login_time                    \n",
       "1970-01-01 20:00:00          2\n",
       "1970-01-01 20:15:00          6\n",
       "1970-01-01 20:30:00          9\n",
       "1970-01-01 20:45:00          7\n",
       "1970-01-01 21:00:00          1"
      ]
     },
     "metadata": {},
     "output_type": "display_data"
    },
    {
     "data": {
      "text/html": [
       "<div>\n",
       "<style scoped>\n",
       "    .dataframe tbody tr th:only-of-type {\n",
       "        vertical-align: middle;\n",
       "    }\n",
       "\n",
       "    .dataframe tbody tr th {\n",
       "        vertical-align: top;\n",
       "    }\n",
       "\n",
       "    .dataframe thead th {\n",
       "        text-align: right;\n",
       "    }\n",
       "</style>\n",
       "<table border=\"1\" class=\"dataframe\">\n",
       "  <thead>\n",
       "    <tr style=\"text-align: right;\">\n",
       "      <th></th>\n",
       "      <th>num_login</th>\n",
       "    </tr>\n",
       "  </thead>\n",
       "  <tbody>\n",
       "    <tr>\n",
       "      <th>count</th>\n",
       "      <td>9788.000000</td>\n",
       "    </tr>\n",
       "    <tr>\n",
       "      <th>mean</th>\n",
       "      <td>9.515938</td>\n",
       "    </tr>\n",
       "    <tr>\n",
       "      <th>std</th>\n",
       "      <td>8.328818</td>\n",
       "    </tr>\n",
       "    <tr>\n",
       "      <th>min</th>\n",
       "      <td>0.000000</td>\n",
       "    </tr>\n",
       "    <tr>\n",
       "      <th>25%</th>\n",
       "      <td>3.000000</td>\n",
       "    </tr>\n",
       "    <tr>\n",
       "      <th>50%</th>\n",
       "      <td>7.000000</td>\n",
       "    </tr>\n",
       "    <tr>\n",
       "      <th>75%</th>\n",
       "      <td>13.000000</td>\n",
       "    </tr>\n",
       "    <tr>\n",
       "      <th>max</th>\n",
       "      <td>73.000000</td>\n",
       "    </tr>\n",
       "  </tbody>\n",
       "</table>\n",
       "</div>"
      ],
      "text/plain": [
       "         num_login\n",
       "count  9788.000000\n",
       "mean      9.515938\n",
       "std       8.328818\n",
       "min       0.000000\n",
       "25%       3.000000\n",
       "50%       7.000000\n",
       "75%      13.000000\n",
       "max      73.000000"
      ]
     },
     "metadata": {},
     "output_type": "display_data"
    }
   ],
   "source": [
    "# resample to 15 minute intervals\n",
    "logins_15 = logins.resample('15T').sum()\n",
    "\n",
    "display(logins_15.head())\n",
    "display(logins_15.describe())"
   ]
  },
  {
   "cell_type": "markdown",
   "metadata": {},
   "source": [
    "#### Plot the time series"
   ]
  },
  {
   "cell_type": "code",
   "execution_count": 4,
   "metadata": {},
   "outputs": [
    {
     "data": {
      "image/png": "[encoded data removed]",
      "text/plain": [
       "<Figure size 864x720 with 2 Axes>"
      ]
     },
     "metadata": {},
     "output_type": "display_data"
    }
   ],
   "source": [
    "fig, axes = plt.subplots(2, 1, figsize=(12, 10))\n",
    "\n",
    "_ = logins_15.plot(ax=axes[0])\n",
    "_ = logins_15[:'1970-1-10'].plot(ax=axes[1])\n",
    "\n",
    "_ = axes[0].set(xlabel='Date', ylabel='Number of Logins', \n",
    "                title='Logins per 15 Minute Intervals')\n",
    "\n",
    "_ = axes[1].set(xlabel='Date', ylabel='Number of Logins', \n",
    "                title='Logins per 15 Minute Intervals\\n(First 10 Days)')\n",
    "\n",
    "fig.tight_layout()"
   ]
  },
  {
   "cell_type": "markdown",
   "metadata": {},
   "source": [
    "#### Plot logins by day of week"
   ]
  },
  {
   "cell_type": "code",
   "execution_count": 5,
   "metadata": {},
   "outputs": [
    {
     "data": {
      "image/png": "[encoded data removed]",
      "text/plain": [
       "<Figure size 576x288 with 1 Axes>"
      ]
     },
     "metadata": {},
     "output_type": "display_data"
    }
   ],
   "source": [
    "logins_15['day_of_week'] = logins_15.index.dayofweek\n",
    "\n",
    "fig, ax = plt.subplots(1, 1, figsize=(8, 4))\n",
    "\n",
    "_ = logins_15.groupby('day_of_week').mean()['num_login'].plot(ax=ax, legend=False)\n",
    "\n",
    "_ = ax.set_xticks(range(7))\n",
    "_ = ax.set_xticklabels(['Monday', 'Tuesday', 'Wednesday', 'Thursday',\n",
    "                        'Friday', 'Saturday', 'Sunday'])\n",
    "_ = ax.set(xlabel='Day of Week', ylabel='Average Logins per Day',\n",
    "           title='Average Logins by Day of Week')\n",
    "_ = ax.grid()\n",
    "_ = ax.set_xlim([0, 6])\n",
    "_ = ax.set_ylim([0, 14])"
   ]
  },
  {
   "cell_type": "markdown",
   "metadata": {},
   "source": [
    "#### Plot logins by hour"
   ]
  },
  {
   "cell_type": "code",
   "execution_count": 6,
   "metadata": {},
   "outputs": [
    {
     "data": {
      "image/png": "[encoded data removed]",
      "text/plain": [
       "<Figure size 576x288 with 1 Axes>"
      ]
     },
     "metadata": {},
     "output_type": "display_data"
    }
   ],
   "source": [
    "logins_15['hour'] = logins_15.index.hour\n",
    "\n",
    "fig, ax = plt.subplots(1, 1, figsize=(8, 4))\n",
    "\n",
    "_ = logins_15.groupby('hour').mean()['num_login'].plot(ax=ax)\n",
    "\n",
    "_ = ax.grid()\n",
    "_ = ax.set(xlabel='', ylabel='Number of Logins', \n",
    "           title='Number of Logins by Hour')\n",
    "_ = ax.set_xticks([0, 6, 12, 18])\n",
    "_ = ax.set_xticklabels(['Midnight', '6 AM', 'Noon', '6 PM'])\n",
    "_ = ax.set_xlim([0, 23])\n",
    "_ = ax.set_ylim([0, 17])"
   ]
  },
  {
   "cell_type": "markdown",
   "metadata": {},
   "source": [
    "## Part 2 - Experiment and Metrics Design\n",
    "The neighboring cities of Gotham and Metropolis have complementary circadian rhythms: on weekdays, Ultimate Gotham is most active at night, and Ultimate Metropolis is most active during the day. On weekends, there is reasonable activity in both cities.\n",
    "\n",
    "However, a toll bridge, with a two way toll, between the two cities causes driver partners to tend to be exclusive to each city. The Ultimate managers of city operations for the two cities have proposed an experiment to encourage driver partners to be available in both cities, by reimbursing all toll costs. \n",
    "1. What would you choose as the key measure of success of this experiment in encouraging driver partners to serve both cities, and why would you choose this metric?\n",
    "2. Describe a practical experiment you would design to compare the effectiveness of the proposed change in relation to the key measure of success. Please provide details on:  \n",
    " a. how you will implement the experiment  \n",
    " b. what statistical test(s) you will conduct to verify the significance of the observation  \n",
    " c. how you would interpret the results and provide recommendations to the city operations team along with any caveats."
   ]
  },
  {
   "cell_type": "markdown",
   "metadata": {},
   "source": [
    "### Answer:\n",
    "#### 1. \n",
    "For this problem, my key metric of interest would be the number (or percentage) of driver partners that cross the toll bridge before and after the reimbursement experiment start date. Since the problem mentions that driver partners tend to be exclusive to each city due to the two-way toll, data on driver partners currently crossing the toll bridge must be available. Comparing the number of driver partners crossing the toll bridge before and after the reimbursement experiment would give a clear picture as to whether the experiment was a success or failure.\n",
    "\n",
    "#### 2. \n",
    "For this experiment, I would perform a two sample hypothesis test on the average daily number of driver partners that cross the toll bridge before and after the experiment. The hypothesis test would look like this:\n",
    "\n",
    "$$H_0: \\mu_b \\ge \\mu_a$$\n",
    "$$H_a: \\mu_b \\lt \\mu_a$$\n",
    "\n",
    "where $\\mu_b$ is the average daily number of driver partners that cross the toll bridge before the experiment, and $\\mu_a$ is the average daily number of driver partners that cross the toll bridge after the experiment. \n",
    "\n",
    "An upper-tailed paired sample t-test will be used to compare the means of the before and after samples. If we are able to reject the null hypothesis with a 95% confidence level, then we can provide the city with statistical proof that the experiment was a success, and that driver partners are taking advantage of the toll reimbursement.\n",
    "\n",
    "The experiment as detailed above assumes that data for driver partners crossing the bridge is available before the implementation of the toll reimbursement experiment. If this data turns out to be unavailable, the experiment will need to be redesigned to accommodate using the number of toll reimbursements. An unfortunate side effect of using this data will be that there are zero reimbursements before the experiment."
   ]
  },
  {
   "cell_type": "markdown",
   "metadata": {},
   "source": [
    "## Part 3 - Predictive Modeling\n",
    "Ultimate is interested in predicting rider retention. To help explore this question, we have provided a sample dataset of a cohort of users who signed up for an Ultimate account in January 2014. The data was pulled several months later; we consider a user retained if they were “active” (i.e. took a trip) in the preceding 30 days. \n",
    "\n",
    "We would like you to use this data set to help understand what factors are the best predictors for retention, and offer suggestions to operationalize those insights to help Ultimate.\n",
    "\n",
    "The data is in the attached file ultimate_data_challenge.json. See below for a detailed\n",
    "description of the dataset. Please include any code you wrote for the analysis and delete the\n",
    "dataset when you have finished with the challenge.\n",
    "\n",
    "1. Perform any cleaning, exploratory analysis, and/or visualizations to use the provided data for this analysis (a few sentences/plots describing your approach will suffice). What fraction of the observed users were retained?\n",
    "\n",
    "2. Build a predictive model to help Ultimate determine whether or not a user will be active in their 6th month on the system. Discuss why you chose your approach, what alternatives you considered, and any concerns you have. How valid is your model? Include any key indicators of model performance.\n",
    "\n",
    "3. Briefly discuss how Ultimate might leverage the insights gained from the model to improve its longterm rider retention (again, a few sentences will suffice)."
   ]
  },
  {
   "cell_type": "code",
   "execution_count": 7,
   "metadata": {},
   "outputs": [
    {
     "data": {
      "text/html": [
       "<div>\n",
       "<style scoped>\n",
       "    .dataframe tbody tr th:only-of-type {\n",
       "        vertical-align: middle;\n",
       "    }\n",
       "\n",
       "    .dataframe tbody tr th {\n",
       "        vertical-align: top;\n",
       "    }\n",
       "\n",
       "    .dataframe thead th {\n",
       "        text-align: right;\n",
       "    }\n",
       "</style>\n",
       "<table border=\"1\" class=\"dataframe\">\n",
       "  <thead>\n",
       "    <tr style=\"text-align: right;\">\n",
       "      <th></th>\n",
       "      <th>city</th>\n",
       "      <th>phone</th>\n",
       "      <th>signup_date</th>\n",
       "      <th>last_trip_date</th>\n",
       "      <th>avg_dist</th>\n",
       "      <th>avg_rating_by_driver</th>\n",
       "      <th>avg_rating_of_driver</th>\n",
       "      <th>surge_pct</th>\n",
       "      <th>avg_surge</th>\n",
       "      <th>trips_in_first_30_days</th>\n",
       "      <th>ultimate_black_user</th>\n",
       "      <th>weekday_pct</th>\n",
       "      <th>retained</th>\n",
       "    </tr>\n",
       "  </thead>\n",
       "  <tbody>\n",
       "    <tr>\n",
       "      <th>0</th>\n",
       "      <td>King's Landing</td>\n",
       "      <td>iPhone</td>\n",
       "      <td>2014-01-25</td>\n",
       "      <td>2014-06-17</td>\n",
       "      <td>3.67</td>\n",
       "      <td>5.0</td>\n",
       "      <td>4.7</td>\n",
       "      <td>15.4</td>\n",
       "      <td>1.10</td>\n",
       "      <td>4</td>\n",
       "      <td>True</td>\n",
       "      <td>46.2</td>\n",
       "      <td>True</td>\n",
       "    </tr>\n",
       "    <tr>\n",
       "      <th>1</th>\n",
       "      <td>Astapor</td>\n",
       "      <td>Android</td>\n",
       "      <td>2014-01-29</td>\n",
       "      <td>2014-05-05</td>\n",
       "      <td>8.26</td>\n",
       "      <td>5.0</td>\n",
       "      <td>5.0</td>\n",
       "      <td>0.0</td>\n",
       "      <td>1.00</td>\n",
       "      <td>0</td>\n",
       "      <td>False</td>\n",
       "      <td>50.0</td>\n",
       "      <td>False</td>\n",
       "    </tr>\n",
       "    <tr>\n",
       "      <th>2</th>\n",
       "      <td>Astapor</td>\n",
       "      <td>iPhone</td>\n",
       "      <td>2014-01-06</td>\n",
       "      <td>2014-01-07</td>\n",
       "      <td>0.77</td>\n",
       "      <td>5.0</td>\n",
       "      <td>4.3</td>\n",
       "      <td>0.0</td>\n",
       "      <td>1.00</td>\n",
       "      <td>3</td>\n",
       "      <td>False</td>\n",
       "      <td>100.0</td>\n",
       "      <td>True</td>\n",
       "    </tr>\n",
       "    <tr>\n",
       "      <th>3</th>\n",
       "      <td>King's Landing</td>\n",
       "      <td>iPhone</td>\n",
       "      <td>2014-01-10</td>\n",
       "      <td>2014-06-29</td>\n",
       "      <td>2.36</td>\n",
       "      <td>4.9</td>\n",
       "      <td>4.6</td>\n",
       "      <td>20.0</td>\n",
       "      <td>1.14</td>\n",
       "      <td>9</td>\n",
       "      <td>True</td>\n",
       "      <td>80.0</td>\n",
       "      <td>True</td>\n",
       "    </tr>\n",
       "    <tr>\n",
       "      <th>4</th>\n",
       "      <td>Winterfell</td>\n",
       "      <td>Android</td>\n",
       "      <td>2014-01-27</td>\n",
       "      <td>2014-03-15</td>\n",
       "      <td>3.13</td>\n",
       "      <td>4.9</td>\n",
       "      <td>4.4</td>\n",
       "      <td>11.8</td>\n",
       "      <td>1.19</td>\n",
       "      <td>14</td>\n",
       "      <td>False</td>\n",
       "      <td>82.4</td>\n",
       "      <td>True</td>\n",
       "    </tr>\n",
       "  </tbody>\n",
       "</table>\n",
       "</div>"
      ],
      "text/plain": [
       "             city    phone signup_date last_trip_date  avg_dist  \\\n",
       "0  King's Landing   iPhone  2014-01-25     2014-06-17      3.67   \n",
       "1         Astapor  Android  2014-01-29     2014-05-05      8.26   \n",
       "2         Astapor   iPhone  2014-01-06     2014-01-07      0.77   \n",
       "3  King's Landing   iPhone  2014-01-10     2014-06-29      2.36   \n",
       "4      Winterfell  Android  2014-01-27     2014-03-15      3.13   \n",
       "\n",
       "   avg_rating_by_driver  avg_rating_of_driver  surge_pct  avg_surge  \\\n",
       "0                   5.0                   4.7       15.4       1.10   \n",
       "1                   5.0                   5.0        0.0       1.00   \n",
       "2                   5.0                   4.3        0.0       1.00   \n",
       "3                   4.9                   4.6       20.0       1.14   \n",
       "4                   4.9                   4.4       11.8       1.19   \n",
       "\n",
       "   trips_in_first_30_days  ultimate_black_user  weekday_pct  retained  \n",
       "0                       4                 True         46.2      True  \n",
       "1                       0                False         50.0     False  \n",
       "2                       3                False        100.0      True  \n",
       "3                       9                 True         80.0      True  \n",
       "4                      14                False         82.4      True  "
      ]
     },
     "execution_count": 7,
     "metadata": {},
     "output_type": "execute_result"
    }
   ],
   "source": [
    "# load the json data\n",
    "data = json.load((open('ultimate_data_challenge.json')))\n",
    "# convert json to dataframe\n",
    "data = pd.io.json.json_normalize(data)\n",
    "# reorder the rows \n",
    "data = data[['city', 'phone', 'signup_date', 'last_trip_date', 'avg_dist',\n",
    "             'avg_rating_by_driver', 'avg_rating_of_driver', 'surge_pct', \n",
    "             'avg_surge', 'trips_in_first_30_days', 'ultimate_black_user',\n",
    "             'weekday_pct']]\n",
    "# add a retained column\n",
    "data['retained'] = data['trips_in_first_30_days'] > 0\n",
    "# convert signup_date and last_trip_date to datetimes\n",
    "for col in ['signup_date', 'last_trip_date']:\n",
    "    data[col] = pd.to_datetime(data[col])\n",
    "\n",
    "data.head()"
   ]
  },
  {
   "cell_type": "code",
   "execution_count": 8,
   "metadata": {},
   "outputs": [
    {
     "name": "stdout",
     "output_type": "stream",
     "text": [
      "Percentage of retained users: 69.22%\n"
     ]
    }
   ],
   "source": [
    "print('Percentage of retained users: {:.4}%'.format(data['retained'].mean() * 100))"
   ]
  },
  {
   "cell_type": "markdown",
   "metadata": {},
   "source": [
    "Almost 70% of customers were \"retained\" meaning that they took at least one trip in the first 30 days after signup."
   ]
  },
  {
   "cell_type": "code",
   "execution_count": 9,
   "metadata": {},
   "outputs": [
    {
     "name": "stdout",
     "output_type": "stream",
     "text": [
      "First Signup: 2014-01-01 00:00:00\n",
      "Last Signup: 2014-01-31 00:00:00\n",
      "\n",
      "Last Trip Max: 2014-07-01 00:00:00\n"
     ]
    }
   ],
   "source": [
    "print('First Signup: {}\\nLast Signup: {}'.format(data['signup_date'].min(), \n",
    "                                                 data['signup_date'].max()))\n",
    "\n",
    "print('\\nLast Trip Max: {}'.format(data['last_trip_date'].max()))"
   ]
  },
  {
   "cell_type": "code",
   "execution_count": 10,
   "metadata": {},
   "outputs": [
    {
     "name": "stdout",
     "output_type": "stream",
     "text": [
      "Missing data by column: \n",
      "city                         0\n",
      "phone                      396\n",
      "signup_date                  0\n",
      "last_trip_date               0\n",
      "avg_dist                     0\n",
      "avg_rating_by_driver       201\n",
      "avg_rating_of_driver      8122\n",
      "surge_pct                    0\n",
      "avg_surge                    0\n",
      "trips_in_first_30_days       0\n",
      "ultimate_black_user          0\n",
      "weekday_pct                  0\n",
      "retained                     0\n",
      "dtype: int64\n"
     ]
    }
   ],
   "source": [
    "print('Missing data by column: \\n{}'.format(data.isnull().sum()))"
   ]
  },
  {
   "cell_type": "markdown",
   "metadata": {},
   "source": [
    "I'll start by filling in the missing *phone* observations. I could fill by the most frequent device used, but there actually may be a reason why the values are missing. Maybe they are windows phones? I'll simply fill the missing values with \"other\"."
   ]
  },
  {
   "cell_type": "code",
   "execution_count": 11,
   "metadata": {},
   "outputs": [
    {
     "name": "stdout",
     "output_type": "stream",
     "text": [
      "Missing data by column: \n",
      "city                         0\n",
      "phone                        0\n",
      "signup_date                  0\n",
      "last_trip_date               0\n",
      "avg_dist                     0\n",
      "avg_rating_by_driver       201\n",
      "avg_rating_of_driver      8122\n",
      "surge_pct                    0\n",
      "avg_surge                    0\n",
      "trips_in_first_30_days       0\n",
      "ultimate_black_user          0\n",
      "weekday_pct                  0\n",
      "retained                     0\n",
      "dtype: int64\n"
     ]
    }
   ],
   "source": [
    "data['phone'].fillna('other', inplace=True)\n",
    "print('Missing data by column: \\n{}'.format(data.isnull().sum()))"
   ]
  },
  {
   "cell_type": "markdown",
   "metadata": {},
   "source": [
    "Next I'll fill in the numerical values of *avg_rating_by_driver* and *avg_rating_of_driver* by simply using the mean."
   ]
  },
  {
   "cell_type": "code",
   "execution_count": 12,
   "metadata": {},
   "outputs": [
    {
     "name": "stdout",
     "output_type": "stream",
     "text": [
      "Missing data by column: \n",
      "city                      0\n",
      "phone                     0\n",
      "signup_date               0\n",
      "last_trip_date            0\n",
      "avg_dist                  0\n",
      "avg_rating_by_driver      0\n",
      "avg_rating_of_driver      0\n",
      "surge_pct                 0\n",
      "avg_surge                 0\n",
      "trips_in_first_30_days    0\n",
      "ultimate_black_user       0\n",
      "weekday_pct               0\n",
      "retained                  0\n",
      "dtype: int64\n"
     ]
    }
   ],
   "source": [
    "from sklearn.preprocessing import Imputer\n",
    "\n",
    "imp = Imputer()\n",
    "\n",
    "data[['avg_rating_by_driver', 'avg_rating_of_driver']] = \\\n",
    "    imp.fit_transform(data[['avg_rating_by_driver', \n",
    "                            'avg_rating_of_driver']])\n",
    "\n",
    "print('Missing data by column: \\n{}'.format(data.isnull().sum()))"
   ]
  },
  {
   "cell_type": "markdown",
   "metadata": {},
   "source": [
    "I'm going to perform two predictions based on this data. The first is to predict whether a user will be \"retained\" or not. The second will predict whether or not a user will be active in their 6th month after signup. "
   ]
  },
  {
   "cell_type": "markdown",
   "metadata": {},
   "source": [
    "### Encoding categorical variables\n",
    "The only categorical variables are *city* and *phone*. I'll use `pd.get_dummies()` to encode these variables. ~~*Note*: I'm dropping the first column of each encoded categorical variable to avoid the \"dummy variable trap\".~~"
   ]
  },
  {
   "cell_type": "code",
   "execution_count": 13,
   "metadata": {},
   "outputs": [
    {
     "data": {
      "text/html": [
       "<div>\n",
       "<style scoped>\n",
       "    .dataframe tbody tr th:only-of-type {\n",
       "        vertical-align: middle;\n",
       "    }\n",
       "\n",
       "    .dataframe tbody tr th {\n",
       "        vertical-align: top;\n",
       "    }\n",
       "\n",
       "    .dataframe thead th {\n",
       "        text-align: right;\n",
       "    }\n",
       "</style>\n",
       "<table border=\"1\" class=\"dataframe\">\n",
       "  <thead>\n",
       "    <tr style=\"text-align: right;\">\n",
       "      <th></th>\n",
       "      <th>signup_date</th>\n",
       "      <th>last_trip_date</th>\n",
       "      <th>avg_dist</th>\n",
       "      <th>avg_rating_by_driver</th>\n",
       "      <th>avg_rating_of_driver</th>\n",
       "      <th>surge_pct</th>\n",
       "      <th>avg_surge</th>\n",
       "      <th>trips_in_first_30_days</th>\n",
       "      <th>ultimate_black_user</th>\n",
       "      <th>weekday_pct</th>\n",
       "      <th>retained</th>\n",
       "      <th>city_Astapor</th>\n",
       "      <th>city_King's Landing</th>\n",
       "      <th>city_Winterfell</th>\n",
       "      <th>phone_Android</th>\n",
       "      <th>phone_iPhone</th>\n",
       "      <th>phone_other</th>\n",
       "    </tr>\n",
       "  </thead>\n",
       "  <tbody>\n",
       "    <tr>\n",
       "      <th>0</th>\n",
       "      <td>2014-01-25</td>\n",
       "      <td>2014-06-17</td>\n",
       "      <td>3.67</td>\n",
       "      <td>5.0</td>\n",
       "      <td>4.7</td>\n",
       "      <td>15.4</td>\n",
       "      <td>1.10</td>\n",
       "      <td>4</td>\n",
       "      <td>True</td>\n",
       "      <td>46.2</td>\n",
       "      <td>True</td>\n",
       "      <td>0</td>\n",
       "      <td>1</td>\n",
       "      <td>0</td>\n",
       "      <td>0</td>\n",
       "      <td>1</td>\n",
       "      <td>0</td>\n",
       "    </tr>\n",
       "    <tr>\n",
       "      <th>1</th>\n",
       "      <td>2014-01-29</td>\n",
       "      <td>2014-05-05</td>\n",
       "      <td>8.26</td>\n",
       "      <td>5.0</td>\n",
       "      <td>5.0</td>\n",
       "      <td>0.0</td>\n",
       "      <td>1.00</td>\n",
       "      <td>0</td>\n",
       "      <td>False</td>\n",
       "      <td>50.0</td>\n",
       "      <td>False</td>\n",
       "      <td>1</td>\n",
       "      <td>0</td>\n",
       "      <td>0</td>\n",
       "      <td>1</td>\n",
       "      <td>0</td>\n",
       "      <td>0</td>\n",
       "    </tr>\n",
       "    <tr>\n",
       "      <th>2</th>\n",
       "      <td>2014-01-06</td>\n",
       "      <td>2014-01-07</td>\n",
       "      <td>0.77</td>\n",
       "      <td>5.0</td>\n",
       "      <td>4.3</td>\n",
       "      <td>0.0</td>\n",
       "      <td>1.00</td>\n",
       "      <td>3</td>\n",
       "      <td>False</td>\n",
       "      <td>100.0</td>\n",
       "      <td>True</td>\n",
       "      <td>1</td>\n",
       "      <td>0</td>\n",
       "      <td>0</td>\n",
       "      <td>0</td>\n",
       "      <td>1</td>\n",
       "      <td>0</td>\n",
       "    </tr>\n",
       "    <tr>\n",
       "      <th>3</th>\n",
       "      <td>2014-01-10</td>\n",
       "      <td>2014-06-29</td>\n",
       "      <td>2.36</td>\n",
       "      <td>4.9</td>\n",
       "      <td>4.6</td>\n",
       "      <td>20.0</td>\n",
       "      <td>1.14</td>\n",
       "      <td>9</td>\n",
       "      <td>True</td>\n",
       "      <td>80.0</td>\n",
       "      <td>True</td>\n",
       "      <td>0</td>\n",
       "      <td>1</td>\n",
       "      <td>0</td>\n",
       "      <td>0</td>\n",
       "      <td>1</td>\n",
       "      <td>0</td>\n",
       "    </tr>\n",
       "    <tr>\n",
       "      <th>4</th>\n",
       "      <td>2014-01-27</td>\n",
       "      <td>2014-03-15</td>\n",
       "      <td>3.13</td>\n",
       "      <td>4.9</td>\n",
       "      <td>4.4</td>\n",
       "      <td>11.8</td>\n",
       "      <td>1.19</td>\n",
       "      <td>14</td>\n",
       "      <td>False</td>\n",
       "      <td>82.4</td>\n",
       "      <td>True</td>\n",
       "      <td>0</td>\n",
       "      <td>0</td>\n",
       "      <td>1</td>\n",
       "      <td>1</td>\n",
       "      <td>0</td>\n",
       "      <td>0</td>\n",
       "    </tr>\n",
       "  </tbody>\n",
       "</table>\n",
       "</div>"
      ],
      "text/plain": [
       "  signup_date last_trip_date  avg_dist  avg_rating_by_driver  \\\n",
       "0  2014-01-25     2014-06-17      3.67                   5.0   \n",
       "1  2014-01-29     2014-05-05      8.26                   5.0   \n",
       "2  2014-01-06     2014-01-07      0.77                   5.0   \n",
       "3  2014-01-10     2014-06-29      2.36                   4.9   \n",
       "4  2014-01-27     2014-03-15      3.13                   4.9   \n",
       "\n",
       "   avg_rating_of_driver  surge_pct  avg_surge  trips_in_first_30_days  \\\n",
       "0                   4.7       15.4       1.10                       4   \n",
       "1                   5.0        0.0       1.00                       0   \n",
       "2                   4.3        0.0       1.00                       3   \n",
       "3                   4.6       20.0       1.14                       9   \n",
       "4                   4.4       11.8       1.19                      14   \n",
       "\n",
       "   ultimate_black_user  weekday_pct  retained  city_Astapor  \\\n",
       "0                 True         46.2      True             0   \n",
       "1                False         50.0     False             1   \n",
       "2                False        100.0      True             1   \n",
       "3                 True         80.0      True             0   \n",
       "4                False         82.4      True             0   \n",
       "\n",
       "   city_King's Landing  city_Winterfell  phone_Android  phone_iPhone  \\\n",
       "0                    1                0              0             1   \n",
       "1                    0                0              1             0   \n",
       "2                    0                0              0             1   \n",
       "3                    1                0              0             1   \n",
       "4                    0                1              1             0   \n",
       "\n",
       "   phone_other  \n",
       "0            0  \n",
       "1            0  \n",
       "2            0  \n",
       "3            0  \n",
       "4            0  "
      ]
     },
     "execution_count": 13,
     "metadata": {},
     "output_type": "execute_result"
    }
   ],
   "source": [
    "data = pd.get_dummies(data)\n",
    "\n",
    "data.head()"
   ]
  },
  {
   "cell_type": "markdown",
   "metadata": {},
   "source": [
    "#### Predicting \"retained\"\n",
    "To avoid data leakage, I'll need to exclude the *trips_in_first_30_days* columns since that's what the target variable was constructed from. Also, *signup_date* and *last_trip_date* are datetimes which we won't be able to use in a predictive model (although time deltas may come in handy later)."
   ]
  },
  {
   "cell_type": "code",
   "execution_count": 14,
   "metadata": {},
   "outputs": [
    {
     "data": {
      "text/html": [
       "<div>\n",
       "<style scoped>\n",
       "    .dataframe tbody tr th:only-of-type {\n",
       "        vertical-align: middle;\n",
       "    }\n",
       "\n",
       "    .dataframe tbody tr th {\n",
       "        vertical-align: top;\n",
       "    }\n",
       "\n",
       "    .dataframe thead th {\n",
       "        text-align: right;\n",
       "    }\n",
       "</style>\n",
       "<table border=\"1\" class=\"dataframe\">\n",
       "  <thead>\n",
       "    <tr style=\"text-align: right;\">\n",
       "      <th></th>\n",
       "      <th>signup_date</th>\n",
       "      <th>last_trip_date</th>\n",
       "      <th>avg_dist</th>\n",
       "      <th>avg_rating_by_driver</th>\n",
       "      <th>avg_rating_of_driver</th>\n",
       "      <th>surge_pct</th>\n",
       "      <th>avg_surge</th>\n",
       "      <th>trips_in_first_30_days</th>\n",
       "      <th>ultimate_black_user</th>\n",
       "      <th>weekday_pct</th>\n",
       "      <th>retained</th>\n",
       "      <th>city_Astapor</th>\n",
       "      <th>city_King's Landing</th>\n",
       "      <th>city_Winterfell</th>\n",
       "      <th>phone_Android</th>\n",
       "      <th>phone_iPhone</th>\n",
       "      <th>phone_other</th>\n",
       "    </tr>\n",
       "  </thead>\n",
       "  <tbody>\n",
       "    <tr>\n",
       "      <th>0</th>\n",
       "      <td>2014-01-25</td>\n",
       "      <td>2014-06-17</td>\n",
       "      <td>3.67</td>\n",
       "      <td>5.0</td>\n",
       "      <td>4.7</td>\n",
       "      <td>15.4</td>\n",
       "      <td>1.10</td>\n",
       "      <td>4</td>\n",
       "      <td>True</td>\n",
       "      <td>46.2</td>\n",
       "      <td>True</td>\n",
       "      <td>0</td>\n",
       "      <td>1</td>\n",
       "      <td>0</td>\n",
       "      <td>0</td>\n",
       "      <td>1</td>\n",
       "      <td>0</td>\n",
       "    </tr>\n",
       "    <tr>\n",
       "      <th>1</th>\n",
       "      <td>2014-01-29</td>\n",
       "      <td>2014-05-05</td>\n",
       "      <td>8.26</td>\n",
       "      <td>5.0</td>\n",
       "      <td>5.0</td>\n",
       "      <td>0.0</td>\n",
       "      <td>1.00</td>\n",
       "      <td>0</td>\n",
       "      <td>False</td>\n",
       "      <td>50.0</td>\n",
       "      <td>False</td>\n",
       "      <td>1</td>\n",
       "      <td>0</td>\n",
       "      <td>0</td>\n",
       "      <td>1</td>\n",
       "      <td>0</td>\n",
       "      <td>0</td>\n",
       "    </tr>\n",
       "    <tr>\n",
       "      <th>2</th>\n",
       "      <td>2014-01-06</td>\n",
       "      <td>2014-01-07</td>\n",
       "      <td>0.77</td>\n",
       "      <td>5.0</td>\n",
       "      <td>4.3</td>\n",
       "      <td>0.0</td>\n",
       "      <td>1.00</td>\n",
       "      <td>3</td>\n",
       "      <td>False</td>\n",
       "      <td>100.0</td>\n",
       "      <td>True</td>\n",
       "      <td>1</td>\n",
       "      <td>0</td>\n",
       "      <td>0</td>\n",
       "      <td>0</td>\n",
       "      <td>1</td>\n",
       "      <td>0</td>\n",
       "    </tr>\n",
       "    <tr>\n",
       "      <th>3</th>\n",
       "      <td>2014-01-10</td>\n",
       "      <td>2014-06-29</td>\n",
       "      <td>2.36</td>\n",
       "      <td>4.9</td>\n",
       "      <td>4.6</td>\n",
       "      <td>20.0</td>\n",
       "      <td>1.14</td>\n",
       "      <td>9</td>\n",
       "      <td>True</td>\n",
       "      <td>80.0</td>\n",
       "      <td>True</td>\n",
       "      <td>0</td>\n",
       "      <td>1</td>\n",
       "      <td>0</td>\n",
       "      <td>0</td>\n",
       "      <td>1</td>\n",
       "      <td>0</td>\n",
       "    </tr>\n",
       "    <tr>\n",
       "      <th>4</th>\n",
       "      <td>2014-01-27</td>\n",
       "      <td>2014-03-15</td>\n",
       "      <td>3.13</td>\n",
       "      <td>4.9</td>\n",
       "      <td>4.4</td>\n",
       "      <td>11.8</td>\n",
       "      <td>1.19</td>\n",
       "      <td>14</td>\n",
       "      <td>False</td>\n",
       "      <td>82.4</td>\n",
       "      <td>True</td>\n",
       "      <td>0</td>\n",
       "      <td>0</td>\n",
       "      <td>1</td>\n",
       "      <td>1</td>\n",
       "      <td>0</td>\n",
       "      <td>0</td>\n",
       "    </tr>\n",
       "  </tbody>\n",
       "</table>\n",
       "</div>"
      ],
      "text/plain": [
       "  signup_date last_trip_date  avg_dist  avg_rating_by_driver  \\\n",
       "0  2014-01-25     2014-06-17      3.67                   5.0   \n",
       "1  2014-01-29     2014-05-05      8.26                   5.0   \n",
       "2  2014-01-06     2014-01-07      0.77                   5.0   \n",
       "3  2014-01-10     2014-06-29      2.36                   4.9   \n",
       "4  2014-01-27     2014-03-15      3.13                   4.9   \n",
       "\n",
       "   avg_rating_of_driver  surge_pct  avg_surge  trips_in_first_30_days  \\\n",
       "0                   4.7       15.4       1.10                       4   \n",
       "1                   5.0        0.0       1.00                       0   \n",
       "2                   4.3        0.0       1.00                       3   \n",
       "3                   4.6       20.0       1.14                       9   \n",
       "4                   4.4       11.8       1.19                      14   \n",
       "\n",
       "   ultimate_black_user  weekday_pct  retained  city_Astapor  \\\n",
       "0                 True         46.2      True             0   \n",
       "1                False         50.0     False             1   \n",
       "2                False        100.0      True             1   \n",
       "3                 True         80.0      True             0   \n",
       "4                False         82.4      True             0   \n",
       "\n",
       "   city_King's Landing  city_Winterfell  phone_Android  phone_iPhone  \\\n",
       "0                    1                0              0             1   \n",
       "1                    0                0              1             0   \n",
       "2                    0                0              0             1   \n",
       "3                    1                0              0             1   \n",
       "4                    0                1              1             0   \n",
       "\n",
       "   phone_other  \n",
       "0            0  \n",
       "1            0  \n",
       "2            0  \n",
       "3            0  \n",
       "4            0  "
      ]
     },
     "execution_count": 14,
     "metadata": {},
     "output_type": "execute_result"
    }
   ],
   "source": [
    "data.head()"
   ]
  },
  {
   "cell_type": "code",
   "execution_count": 15,
   "metadata": {},
   "outputs": [],
   "source": [
    "cols_to_drop = ['signup_date', 'last_trip_date', 'trips_in_first_30_days', 'retained']\n",
    "\n",
    "cols_to_scale = ['avg_dist', 'avg_rating_by_driver', 'avg_rating_of_driver', 'surge_pct',\n",
    "                 'avg_surge', 'trips_in_first_30_days', 'weekday_pct']"
   ]
  },
  {
   "cell_type": "code",
   "execution_count": 16,
   "metadata": {},
   "outputs": [
    {
     "data": {
      "text/html": [
       "<div>\n",
       "<style scoped>\n",
       "    .dataframe tbody tr th:only-of-type {\n",
       "        vertical-align: middle;\n",
       "    }\n",
       "\n",
       "    .dataframe tbody tr th {\n",
       "        vertical-align: top;\n",
       "    }\n",
       "\n",
       "    .dataframe thead th {\n",
       "        text-align: right;\n",
       "    }\n",
       "</style>\n",
       "<table border=\"1\" class=\"dataframe\">\n",
       "  <thead>\n",
       "    <tr style=\"text-align: right;\">\n",
       "      <th></th>\n",
       "      <th>signup_date</th>\n",
       "      <th>last_trip_date</th>\n",
       "      <th>avg_dist</th>\n",
       "      <th>avg_rating_by_driver</th>\n",
       "      <th>avg_rating_of_driver</th>\n",
       "      <th>surge_pct</th>\n",
       "      <th>avg_surge</th>\n",
       "      <th>trips_in_first_30_days</th>\n",
       "      <th>ultimate_black_user</th>\n",
       "      <th>weekday_pct</th>\n",
       "      <th>retained</th>\n",
       "      <th>city_Astapor</th>\n",
       "      <th>city_King's Landing</th>\n",
       "      <th>city_Winterfell</th>\n",
       "      <th>phone_Android</th>\n",
       "      <th>phone_iPhone</th>\n",
       "      <th>phone_other</th>\n",
       "    </tr>\n",
       "  </thead>\n",
       "  <tbody>\n",
       "    <tr>\n",
       "      <th>0</th>\n",
       "      <td>2014-01-25</td>\n",
       "      <td>2014-06-17</td>\n",
       "      <td>-0.372650</td>\n",
       "      <td>0.497684</td>\n",
       "      <td>0.174240</td>\n",
       "      <td>0.328202</td>\n",
       "      <td>0.113506</td>\n",
       "      <td>0.453984</td>\n",
       "      <td>True</td>\n",
       "      <td>-0.397131</td>\n",
       "      <td>True</td>\n",
       "      <td>0</td>\n",
       "      <td>1</td>\n",
       "      <td>0</td>\n",
       "      <td>0</td>\n",
       "      <td>1</td>\n",
       "      <td>0</td>\n",
       "    </tr>\n",
       "    <tr>\n",
       "      <th>1</th>\n",
       "      <td>2014-01-29</td>\n",
       "      <td>2014-05-05</td>\n",
       "      <td>0.431583</td>\n",
       "      <td>0.497684</td>\n",
       "      <td>0.705241</td>\n",
       "      <td>-0.443394</td>\n",
       "      <td>-0.336268</td>\n",
       "      <td>-0.600689</td>\n",
       "      <td>False</td>\n",
       "      <td>-0.294653</td>\n",
       "      <td>False</td>\n",
       "      <td>1</td>\n",
       "      <td>0</td>\n",
       "      <td>0</td>\n",
       "      <td>1</td>\n",
       "      <td>0</td>\n",
       "      <td>0</td>\n",
       "    </tr>\n",
       "    <tr>\n",
       "      <th>2</th>\n",
       "      <td>2014-01-06</td>\n",
       "      <td>2014-01-07</td>\n",
       "      <td>-0.880771</td>\n",
       "      <td>0.497684</td>\n",
       "      <td>-0.533761</td>\n",
       "      <td>-0.443394</td>\n",
       "      <td>-0.336268</td>\n",
       "      <td>0.190316</td>\n",
       "      <td>False</td>\n",
       "      <td>1.053741</td>\n",
       "      <td>True</td>\n",
       "      <td>1</td>\n",
       "      <td>0</td>\n",
       "      <td>0</td>\n",
       "      <td>0</td>\n",
       "      <td>1</td>\n",
       "      <td>0</td>\n",
       "    </tr>\n",
       "    <tr>\n",
       "      <th>3</th>\n",
       "      <td>2014-01-10</td>\n",
       "      <td>2014-06-29</td>\n",
       "      <td>-0.602181</td>\n",
       "      <td>0.273342</td>\n",
       "      <td>-0.002760</td>\n",
       "      <td>0.558679</td>\n",
       "      <td>0.293416</td>\n",
       "      <td>1.772325</td>\n",
       "      <td>True</td>\n",
       "      <td>0.514383</td>\n",
       "      <td>True</td>\n",
       "      <td>0</td>\n",
       "      <td>1</td>\n",
       "      <td>0</td>\n",
       "      <td>0</td>\n",
       "      <td>1</td>\n",
       "      <td>0</td>\n",
       "    </tr>\n",
       "    <tr>\n",
       "      <th>4</th>\n",
       "      <td>2014-01-27</td>\n",
       "      <td>2014-03-15</td>\n",
       "      <td>-0.467266</td>\n",
       "      <td>0.273342</td>\n",
       "      <td>-0.356760</td>\n",
       "      <td>0.147829</td>\n",
       "      <td>0.518303</td>\n",
       "      <td>3.090665</td>\n",
       "      <td>False</td>\n",
       "      <td>0.579106</td>\n",
       "      <td>True</td>\n",
       "      <td>0</td>\n",
       "      <td>0</td>\n",
       "      <td>1</td>\n",
       "      <td>1</td>\n",
       "      <td>0</td>\n",
       "      <td>0</td>\n",
       "    </tr>\n",
       "  </tbody>\n",
       "</table>\n",
       "</div>"
      ],
      "text/plain": [
       "  signup_date last_trip_date  avg_dist  avg_rating_by_driver  \\\n",
       "0  2014-01-25     2014-06-17 -0.372650              0.497684   \n",
       "1  2014-01-29     2014-05-05  0.431583              0.497684   \n",
       "2  2014-01-06     2014-01-07 -0.880771              0.497684   \n",
       "3  2014-01-10     2014-06-29 -0.602181              0.273342   \n",
       "4  2014-01-27     2014-03-15 -0.467266              0.273342   \n",
       "\n",
       "   avg_rating_of_driver  surge_pct  avg_surge  trips_in_first_30_days  \\\n",
       "0              0.174240   0.328202   0.113506                0.453984   \n",
       "1              0.705241  -0.443394  -0.336268               -0.600689   \n",
       "2             -0.533761  -0.443394  -0.336268                0.190316   \n",
       "3             -0.002760   0.558679   0.293416                1.772325   \n",
       "4             -0.356760   0.147829   0.518303                3.090665   \n",
       "\n",
       "   ultimate_black_user  weekday_pct  retained  city_Astapor  \\\n",
       "0                 True    -0.397131      True             0   \n",
       "1                False    -0.294653     False             1   \n",
       "2                False     1.053741      True             1   \n",
       "3                 True     0.514383      True             0   \n",
       "4                False     0.579106      True             0   \n",
       "\n",
       "   city_King's Landing  city_Winterfell  phone_Android  phone_iPhone  \\\n",
       "0                    1                0              0             1   \n",
       "1                    0                0              1             0   \n",
       "2                    0                0              0             1   \n",
       "3                    1                0              0             1   \n",
       "4                    0                1              1             0   \n",
       "\n",
       "   phone_other  \n",
       "0            0  \n",
       "1            0  \n",
       "2            0  \n",
       "3            0  \n",
       "4            0  "
      ]
     },
     "execution_count": 16,
     "metadata": {},
     "output_type": "execute_result"
    }
   ],
   "source": [
    "from sklearn.preprocessing import StandardScaler\n",
    "\n",
    "scaler = StandardScaler()\n",
    "\n",
    "data_scaled = data.copy()\n",
    "\n",
    "data_scaled[cols_to_scale] = scaler.fit_transform(data[cols_to_scale])\n",
    "\n",
    "data_scaled.head()"
   ]
  },
  {
   "cell_type": "markdown",
   "metadata": {},
   "source": [
    "#### Balancing the classes"
   ]
  },
  {
   "cell_type": "code",
   "execution_count": 17,
   "metadata": {},
   "outputs": [],
   "source": [
    "from sklearn.utils import resample\n",
    "\n",
    "majority = data_scaled[data_scaled['retained'] == True]\n",
    "minority = data_scaled[data_scaled['retained'] == False]\n",
    "\n",
    "majority_length = len(majority)\n",
    "minority_length = len(minority)\n",
    "\n",
    "minority_upsampled = resample(minority, replace=True, \n",
    "                              n_samples=(majority_length - minority_length),\n",
    "                              random_state=42)\n",
    "\n",
    "data_balanced = pd.concat([majority, minority, minority_upsampled])"
   ]
  },
  {
   "cell_type": "code",
   "execution_count": 18,
   "metadata": {},
   "outputs": [
    {
     "name": "stdout",
     "output_type": "stream",
     "text": [
      "(69220, 13) (69220,)\n"
     ]
    }
   ],
   "source": [
    "# construct X and y with necessary columns\n",
    "X = data_balanced.drop(cols_to_drop, axis=1)\n",
    "y = data_balanced['retained']\n",
    "\n",
    "print(X.shape, y.shape)"
   ]
  },
  {
   "cell_type": "code",
   "execution_count": 19,
   "metadata": {},
   "outputs": [
    {
     "name": "stdout",
     "output_type": "stream",
     "text": [
      "(48454, 13) (20766, 13)\n"
     ]
    }
   ],
   "source": [
    "from sklearn.model_selection import train_test_split\n",
    "\n",
    "X_train, X_test, y_train, y_test = train_test_split(X, y, stratify=y, test_size=0.3)\n",
    "\n",
    "print(X_train.shape, X_test.shape)"
   ]
  },
  {
   "cell_type": "code",
   "execution_count": 20,
   "metadata": {},
   "outputs": [],
   "source": [
    "from sklearn.linear_model import LogisticRegression\n",
    "from sklearn.neighbors import KNeighborsClassifier\n",
    "from sklearn.svm import SVC\n",
    "from sklearn.tree import DecisionTreeClassifier\n",
    "from sklearn.ensemble import AdaBoostClassifier, RandomForestClassifier\n",
    "\n",
    "models = {\n",
    "    'LogisticRegression': LogisticRegression(),\n",
    "    'KNeighborsClassifier': KNeighborsClassifier(),\n",
    "    'DecisionTreeClassifier': DecisionTreeClassifier(),\n",
    "    'RandomForestClassifier': RandomForestClassifier(),\n",
    "    'AdaBoostClassifier': AdaBoostClassifier()\n",
    "}\n",
    "\n",
    "params = {\n",
    "    'LogisticRegression': {'C': [0.001, 0.01, 0.1, 1, 10, 100]},\n",
    "    'KNeighborsClassifier': {'n_neighbors': [10, 25, 50, 100]},\n",
    "    'DecisionTreeClassifier': {'max_depth': [5, 10, 20],\n",
    "                               'min_samples_split': [5, 10, 20],\n",
    "                               'min_samples_leaf': [5, 10, 20]},\n",
    "    'RandomForestClassifier': {'n_estimators': [100, 250],\n",
    "                               'max_depth': [10, 20, 40],\n",
    "                               'min_samples_split': [5, 10, 20],\n",
    "                               'min_samples_leaf': [20, 40]},\n",
    "    'AdaBoostClassifier': {'n_estimators': [100, 250, 500],\n",
    "                           'learning_rate': [0.01, 0.1, 1, 10]}\n",
    "}"
   ]
  },
  {
   "cell_type": "code",
   "execution_count": 21,
   "metadata": {
    "scrolled": false
   },
   "outputs": [
    {
     "name": "stdout",
     "output_type": "stream",
     "text": [
      "Grid Search for LogisticRegression\n",
      "Fitting 3 folds for each of 6 candidates, totalling 18 fits\n"
     ]
    },
    {
     "name": "stderr",
     "output_type": "stream",
     "text": [
      "[Parallel(n_jobs=4)]: Done  18 out of  18 | elapsed:    1.1s finished\n"
     ]
    },
    {
     "name": "stdout",
     "output_type": "stream",
     "text": [
      "Best params: {'C': 0.001}\n",
      "Best cv score: 0.554195732034507\n",
      "Best test score: 0.555330829240104\n",
      "Confusion Matrix: \n",
      "[[5441 4942]\n",
      " [4292 6091]]\n",
      "Precision Score: 0.5520710595486269\n",
      "Recall Score: 0.5866319946065685\n",
      "F1 Score: 0.5688270451998506\n",
      "\n",
      "\n",
      "\n",
      "Grid Search for KNeighborsClassifier\n",
      "Fitting 3 folds for each of 4 candidates, totalling 12 fits\n"
     ]
    },
    {
     "name": "stderr",
     "output_type": "stream",
     "text": [
      "[Parallel(n_jobs=4)]: Done  12 out of  12 | elapsed:   30.2s finished\n"
     ]
    },
    {
     "name": "stdout",
     "output_type": "stream",
     "text": [
      "Best params: {'n_neighbors': 10}\n",
      "Best cv score: 0.624406653733438\n",
      "Best test score: 0.6346431667148223\n",
      "Confusion Matrix: \n",
      "[[7679 2704]\n",
      " [4883 5500]]\n",
      "Precision Score: 0.6704046806435885\n",
      "Recall Score: 0.5297120292786285\n",
      "F1 Score: 0.5918114811427341\n",
      "\n",
      "\n",
      "\n",
      "Grid Search for DecisionTreeClassifier\n",
      "Fitting 3 folds for each of 27 candidates, totalling 81 fits\n"
     ]
    },
    {
     "name": "stderr",
     "output_type": "stream",
     "text": [
      "[Parallel(n_jobs=4)]: Done  74 out of  81 | elapsed:    2.6s remaining:    0.3s\n",
      "[Parallel(n_jobs=4)]: Done  81 out of  81 | elapsed:    2.8s finished\n"
     ]
    },
    {
     "name": "stdout",
     "output_type": "stream",
     "text": [
      "Best params: {'max_depth': 20, 'min_samples_leaf': 5, 'min_samples_split': 10}\n",
      "Best cv score: 0.6438064968836422\n",
      "Best test score: 0.671385919291149\n",
      "Confusion Matrix: \n",
      "[[7729 2654]\n",
      " [4170 6213]]\n",
      "Precision Score: 0.7006879440622533\n",
      "Recall Score: 0.5983819705287489\n",
      "F1 Score: 0.6455064935064935\n",
      "\n",
      "\n",
      "\n",
      "Grid Search for RandomForestClassifier\n",
      "Fitting 3 folds for each of 36 candidates, totalling 108 fits\n"
     ]
    },
    {
     "name": "stderr",
     "output_type": "stream",
     "text": [
      "[Parallel(n_jobs=4)]: Done  42 tasks      | elapsed:   38.1s\n",
      "[Parallel(n_jobs=4)]: Done 108 out of 108 | elapsed:  1.6min finished\n"
     ]
    },
    {
     "name": "stdout",
     "output_type": "stream",
     "text": [
      "Best params: {'max_depth': 20, 'min_samples_leaf': 20, 'min_samples_split': 5, 'n_estimators': 100}\n",
      "Best cv score: 0.6467577496181945\n",
      "Best test score: 0.652412597515169\n",
      "Confusion Matrix: \n",
      "[[7644 2739]\n",
      " [4479 5904]]\n",
      "Precision Score: 0.6830961471711211\n",
      "Recall Score: 0.5686217856110951\n",
      "F1 Score: 0.6206244087038789\n",
      "\n",
      "\n",
      "\n",
      "Grid Search for AdaBoostClassifier\n",
      "Fitting 3 folds for each of 12 candidates, totalling 36 fits\n"
     ]
    },
    {
     "name": "stderr",
     "output_type": "stream",
     "text": [
      "[Parallel(n_jobs=4)]: Done  36 out of  36 | elapsed:  1.1min finished\n"
     ]
    },
    {
     "name": "stdout",
     "output_type": "stream",
     "text": [
      "Best params: {'learning_rate': 1, 'n_estimators': 250}\n",
      "Best cv score: 0.6347463573698766\n",
      "Best test score: 0.6356062794953289\n",
      "Confusion Matrix: \n",
      "[[7555 2828]\n",
      " [4739 5644]]\n",
      "Precision Score: 0.666194523135033\n",
      "Recall Score: 0.5435808533179235\n",
      "F1 Score: 0.5986740917528507\n",
      "\n",
      "\n",
      "\n"
     ]
    }
   ],
   "source": [
    "from sklearn.model_selection import GridSearchCV\n",
    "from sklearn.metrics import confusion_matrix\n",
    "from sklearn.metrics import precision_score, recall_score, f1_score\n",
    "\n",
    "best_test = 0\n",
    "\n",
    "for model in models.keys():\n",
    "    print('Grid Search for {}'.format(model))\n",
    "    gs = GridSearchCV(models[model], params[model], n_jobs=4, verbose=1)\n",
    "    gs.fit(X_train, y_train)\n",
    "    print('Best params: {}'.format(gs.best_params_))\n",
    "    print('Best cv score: {}'.format(gs.best_score_))\n",
    "    print('Best test score: {}'.format(gs.best_estimator_.score(X_test, y_test)))\n",
    "    print('Confusion Matrix: \\n{}'.format(confusion_matrix(y_test, gs.best_estimator_.predict(X_test))))\n",
    "    y_pred = gs.best_estimator_.predict(X_test)\n",
    "    print('Precision Score: {}'.format(precision_score(y_test, y_pred)))\n",
    "    print('Recall Score: {}'.format(recall_score(y_test, y_pred)))\n",
    "    print('F1 Score: {}'.format(f1_score(y_test, y_pred)))\n",
    "    print('\\n\\n')\n",
    "    if gs.best_estimator_.score(X_test, y_test) > best_test:\n",
    "        best_test = gs.best_estimator_.score(X_test, y_test)\n",
    "        best_model = gs.best_estimator_"
   ]
  },
  {
   "cell_type": "code",
   "execution_count": 22,
   "metadata": {},
   "outputs": [
    {
     "name": "stdout",
     "output_type": "stream",
     "text": [
      "Feature Importance\n",
      "avg_dist: 0.4316\n",
      "avg_rating_by_driver: 0.146\n",
      "avg_rating_of_driver: 0.09344\n",
      "surge_pct: 0.05626\n",
      "avg_surge: 0.04263\n",
      "ultimate_black_user: 0.03018\n",
      "weekday_pct: 0.1275\n",
      "city_Astapor: 0.01542\n",
      "city_King's Landing: 0.0119\n",
      "city_Winterfell: 0.01711\n",
      "phone_Android: 0.01168\n",
      "phone_iPhone: 0.01403\n",
      "phone_other: 0.002244\n"
     ]
    }
   ],
   "source": [
    "print('Feature Importance')\n",
    "for i, col in enumerate(X_train.columns):\n",
    "    print('{}: {:.4}'.format(col, best_model.feature_importances_[i]))"
   ]
  },
  {
   "cell_type": "markdown",
   "metadata": {},
   "source": [
    "#### Predicting 6th month activity"
   ]
  },
  {
   "cell_type": "code",
   "execution_count": 23,
   "metadata": {},
   "outputs": [
    {
     "data": {
      "text/html": [
       "<div>\n",
       "<style scoped>\n",
       "    .dataframe tbody tr th:only-of-type {\n",
       "        vertical-align: middle;\n",
       "    }\n",
       "\n",
       "    .dataframe tbody tr th {\n",
       "        vertical-align: top;\n",
       "    }\n",
       "\n",
       "    .dataframe thead th {\n",
       "        text-align: right;\n",
       "    }\n",
       "</style>\n",
       "<table border=\"1\" class=\"dataframe\">\n",
       "  <thead>\n",
       "    <tr style=\"text-align: right;\">\n",
       "      <th></th>\n",
       "      <th>signup_date</th>\n",
       "      <th>last_trip_date</th>\n",
       "      <th>avg_dist</th>\n",
       "      <th>avg_rating_by_driver</th>\n",
       "      <th>avg_rating_of_driver</th>\n",
       "      <th>surge_pct</th>\n",
       "      <th>avg_surge</th>\n",
       "      <th>trips_in_first_30_days</th>\n",
       "      <th>ultimate_black_user</th>\n",
       "      <th>weekday_pct</th>\n",
       "      <th>retained</th>\n",
       "      <th>city_Astapor</th>\n",
       "      <th>city_King's Landing</th>\n",
       "      <th>city_Winterfell</th>\n",
       "      <th>phone_Android</th>\n",
       "      <th>phone_iPhone</th>\n",
       "      <th>phone_other</th>\n",
       "      <th>tenure</th>\n",
       "      <th>active_6m</th>\n",
       "    </tr>\n",
       "  </thead>\n",
       "  <tbody>\n",
       "    <tr>\n",
       "      <th>0</th>\n",
       "      <td>2014-01-25</td>\n",
       "      <td>2014-06-17</td>\n",
       "      <td>-0.372650</td>\n",
       "      <td>0.497684</td>\n",
       "      <td>0.174240</td>\n",
       "      <td>0.328202</td>\n",
       "      <td>0.113506</td>\n",
       "      <td>0.453984</td>\n",
       "      <td>True</td>\n",
       "      <td>-0.397131</td>\n",
       "      <td>True</td>\n",
       "      <td>0</td>\n",
       "      <td>1</td>\n",
       "      <td>0</td>\n",
       "      <td>0</td>\n",
       "      <td>1</td>\n",
       "      <td>0</td>\n",
       "      <td>143 days</td>\n",
       "      <td>False</td>\n",
       "    </tr>\n",
       "    <tr>\n",
       "      <th>1</th>\n",
       "      <td>2014-01-29</td>\n",
       "      <td>2014-05-05</td>\n",
       "      <td>0.431583</td>\n",
       "      <td>0.497684</td>\n",
       "      <td>0.705241</td>\n",
       "      <td>-0.443394</td>\n",
       "      <td>-0.336268</td>\n",
       "      <td>-0.600689</td>\n",
       "      <td>False</td>\n",
       "      <td>-0.294653</td>\n",
       "      <td>False</td>\n",
       "      <td>1</td>\n",
       "      <td>0</td>\n",
       "      <td>0</td>\n",
       "      <td>1</td>\n",
       "      <td>0</td>\n",
       "      <td>0</td>\n",
       "      <td>96 days</td>\n",
       "      <td>False</td>\n",
       "    </tr>\n",
       "    <tr>\n",
       "      <th>2</th>\n",
       "      <td>2014-01-06</td>\n",
       "      <td>2014-01-07</td>\n",
       "      <td>-0.880771</td>\n",
       "      <td>0.497684</td>\n",
       "      <td>-0.533761</td>\n",
       "      <td>-0.443394</td>\n",
       "      <td>-0.336268</td>\n",
       "      <td>0.190316</td>\n",
       "      <td>False</td>\n",
       "      <td>1.053741</td>\n",
       "      <td>True</td>\n",
       "      <td>1</td>\n",
       "      <td>0</td>\n",
       "      <td>0</td>\n",
       "      <td>0</td>\n",
       "      <td>1</td>\n",
       "      <td>0</td>\n",
       "      <td>1 days</td>\n",
       "      <td>False</td>\n",
       "    </tr>\n",
       "    <tr>\n",
       "      <th>3</th>\n",
       "      <td>2014-01-10</td>\n",
       "      <td>2014-06-29</td>\n",
       "      <td>-0.602181</td>\n",
       "      <td>0.273342</td>\n",
       "      <td>-0.002760</td>\n",
       "      <td>0.558679</td>\n",
       "      <td>0.293416</td>\n",
       "      <td>1.772325</td>\n",
       "      <td>True</td>\n",
       "      <td>0.514383</td>\n",
       "      <td>True</td>\n",
       "      <td>0</td>\n",
       "      <td>1</td>\n",
       "      <td>0</td>\n",
       "      <td>0</td>\n",
       "      <td>1</td>\n",
       "      <td>0</td>\n",
       "      <td>170 days</td>\n",
       "      <td>True</td>\n",
       "    </tr>\n",
       "    <tr>\n",
       "      <th>4</th>\n",
       "      <td>2014-01-27</td>\n",
       "      <td>2014-03-15</td>\n",
       "      <td>-0.467266</td>\n",
       "      <td>0.273342</td>\n",
       "      <td>-0.356760</td>\n",
       "      <td>0.147829</td>\n",
       "      <td>0.518303</td>\n",
       "      <td>3.090665</td>\n",
       "      <td>False</td>\n",
       "      <td>0.579106</td>\n",
       "      <td>True</td>\n",
       "      <td>0</td>\n",
       "      <td>0</td>\n",
       "      <td>1</td>\n",
       "      <td>1</td>\n",
       "      <td>0</td>\n",
       "      <td>0</td>\n",
       "      <td>47 days</td>\n",
       "      <td>False</td>\n",
       "    </tr>\n",
       "  </tbody>\n",
       "</table>\n",
       "</div>"
      ],
      "text/plain": [
       "  signup_date last_trip_date  avg_dist  avg_rating_by_driver  \\\n",
       "0  2014-01-25     2014-06-17 -0.372650              0.497684   \n",
       "1  2014-01-29     2014-05-05  0.431583              0.497684   \n",
       "2  2014-01-06     2014-01-07 -0.880771              0.497684   \n",
       "3  2014-01-10     2014-06-29 -0.602181              0.273342   \n",
       "4  2014-01-27     2014-03-15 -0.467266              0.273342   \n",
       "\n",
       "   avg_rating_of_driver  surge_pct  avg_surge  trips_in_first_30_days  \\\n",
       "0              0.174240   0.328202   0.113506                0.453984   \n",
       "1              0.705241  -0.443394  -0.336268               -0.600689   \n",
       "2             -0.533761  -0.443394  -0.336268                0.190316   \n",
       "3             -0.002760   0.558679   0.293416                1.772325   \n",
       "4             -0.356760   0.147829   0.518303                3.090665   \n",
       "\n",
       "   ultimate_black_user  weekday_pct  retained  city_Astapor  \\\n",
       "0                 True    -0.397131      True             0   \n",
       "1                False    -0.294653     False             1   \n",
       "2                False     1.053741      True             1   \n",
       "3                 True     0.514383      True             0   \n",
       "4                False     0.579106      True             0   \n",
       "\n",
       "   city_King's Landing  city_Winterfell  phone_Android  phone_iPhone  \\\n",
       "0                    1                0              0             1   \n",
       "1                    0                0              1             0   \n",
       "2                    0                0              0             1   \n",
       "3                    1                0              0             1   \n",
       "4                    0                1              1             0   \n",
       "\n",
       "   phone_other   tenure  active_6m  \n",
       "0            0 143 days      False  \n",
       "1            0  96 days      False  \n",
       "2            0   1 days      False  \n",
       "3            0 170 days       True  \n",
       "4            0  47 days      False  "
      ]
     },
     "execution_count": 23,
     "metadata": {},
     "output_type": "execute_result"
    }
   ],
   "source": [
    "from datetime import timedelta\n",
    "\n",
    "# create a column, tenure, for last_trip_date - signup_date\n",
    "# anything >150 is active in the 6th month\n",
    "data_scaled['tenure'] = data_scaled['last_trip_date'] - data_scaled['signup_date']\n",
    "# now create a boolean column for active in 6th month\n",
    "data_scaled['active_6m'] = data_scaled['tenure'] >= timedelta(days=150)\n",
    "\n",
    "data_scaled.head()"
   ]
  },
  {
   "cell_type": "code",
   "execution_count": 24,
   "metadata": {},
   "outputs": [
    {
     "data": {
      "text/plain": [
       "0.25428"
      ]
     },
     "execution_count": 24,
     "metadata": {},
     "output_type": "execute_result"
    }
   ],
   "source": [
    "data_scaled['active_6m'].mean()"
   ]
  },
  {
   "cell_type": "markdown",
   "metadata": {},
   "source": [
    "About 25% of users were active in their 6th month."
   ]
  },
  {
   "cell_type": "code",
   "execution_count": 25,
   "metadata": {},
   "outputs": [],
   "source": [
    "from sklearn.utils import resample\n",
    "\n",
    "cols_to_drop = ['signup_date', 'last_trip_date', 'tenure', 'active_6m']\n",
    "\n",
    "majority = data_scaled[data_scaled['active_6m'] == False]\n",
    "minority = data_scaled[data_scaled['active_6m'] == True]\n",
    "\n",
    "majority_length = len(majority)\n",
    "minority_length = len(minority)\n",
    "\n",
    "minority_upsampled = resample(minority, replace=True, \n",
    "                              n_samples=(majority_length - minority_length),\n",
    "                              random_state=42)\n",
    "\n",
    "data_balanced = pd.concat([majority, minority, minority_upsampled])"
   ]
  },
  {
   "cell_type": "code",
   "execution_count": 26,
   "metadata": {},
   "outputs": [
    {
     "name": "stdout",
     "output_type": "stream",
     "text": [
      "(74572, 15) (74572,)\n"
     ]
    }
   ],
   "source": [
    "# construct X and y with necessary columns\n",
    "X = data_balanced.drop(cols_to_drop, axis=1)\n",
    "y = data_balanced['active_6m']\n",
    "\n",
    "print(X.shape, y.shape)"
   ]
  },
  {
   "cell_type": "code",
   "execution_count": 27,
   "metadata": {},
   "outputs": [
    {
     "name": "stdout",
     "output_type": "stream",
     "text": [
      "(52200, 15) (22372, 15)\n"
     ]
    }
   ],
   "source": [
    "from sklearn.model_selection import train_test_split\n",
    "\n",
    "X_train, X_test, y_train, y_test = train_test_split(X, y, stratify=y, test_size=0.3)\n",
    "\n",
    "print(X_train.shape, X_test.shape)"
   ]
  },
  {
   "cell_type": "code",
   "execution_count": 28,
   "metadata": {
    "scrolled": true
   },
   "outputs": [
    {
     "name": "stdout",
     "output_type": "stream",
     "text": [
      "Grid Search for LogisticRegression\n",
      "Fitting 3 folds for each of 6 candidates, totalling 18 fits\n"
     ]
    },
    {
     "name": "stderr",
     "output_type": "stream",
     "text": [
      "[Parallel(n_jobs=-1)]: Done  18 out of  18 | elapsed:    1.0s finished\n"
     ]
    },
    {
     "name": "stdout",
     "output_type": "stream",
     "text": [
      "Best params: {'C': 0.1}\n",
      "Best cv score: 0.6730842911877395\n",
      "Best test score: 0.6783479349186483\n",
      "Confusion Matrix: \n",
      "[[7908 3278]\n",
      " [3918 7268]]\n",
      "Precision Score: 0.6891712497629433\n",
      "Recall Score: 0.6497407473627749\n",
      "F1 Score: 0.6688753911282901\n",
      "\n",
      "\n",
      "\n",
      "Grid Search for KNeighborsClassifier\n",
      "Fitting 3 folds for each of 4 candidates, totalling 12 fits\n"
     ]
    },
    {
     "name": "stderr",
     "output_type": "stream",
     "text": [
      "[Parallel(n_jobs=-1)]: Done  10 out of  12 | elapsed:   40.9s remaining:    8.2s\n",
      "[Parallel(n_jobs=-1)]: Done  12 out of  12 | elapsed:   44.4s finished\n"
     ]
    },
    {
     "name": "stdout",
     "output_type": "stream",
     "text": [
      "Best params: {'n_neighbors': 10}\n",
      "Best cv score: 0.7332183908045977\n",
      "Best test score: 0.7440997675666011\n",
      "Confusion Matrix: \n",
      "[[8239 2947]\n",
      " [2778 8408]]\n",
      "Precision Score: 0.7404667547335976\n",
      "Recall Score: 0.751653853030574\n",
      "F1 Score: 0.7460183665320971\n",
      "\n",
      "\n",
      "\n",
      "Grid Search for DecisionTreeClassifier\n",
      "Fitting 3 folds for each of 27 candidates, totalling 81 fits\n"
     ]
    },
    {
     "name": "stderr",
     "output_type": "stream",
     "text": [
      "[Parallel(n_jobs=-1)]: Done  52 tasks      | elapsed:    1.9s\n",
      "[Parallel(n_jobs=-1)]: Done  66 out of  81 | elapsed:    2.5s remaining:    0.6s\n",
      "[Parallel(n_jobs=-1)]: Done  81 out of  81 | elapsed:    2.8s finished\n"
     ]
    },
    {
     "name": "stdout",
     "output_type": "stream",
     "text": [
      "Best params: {'max_depth': 20, 'min_samples_leaf': 5, 'min_samples_split': 5}\n",
      "Best cv score: 0.7560536398467433\n",
      "Best test score: 0.7779367065975327\n",
      "Confusion Matrix: \n",
      "[[8485 2701]\n",
      " [2267 8919]]\n",
      "Precision Score: 0.7675559380378657\n",
      "Recall Score: 0.7973359556588593\n",
      "F1 Score: 0.7821625887924232\n",
      "\n",
      "\n",
      "\n",
      "Grid Search for RandomForestClassifier\n",
      "Fitting 3 folds for each of 36 candidates, totalling 108 fits\n"
     ]
    },
    {
     "name": "stderr",
     "output_type": "stream",
     "text": [
      "[Parallel(n_jobs=-1)]: Done  34 tasks      | elapsed:   28.9s\n",
      "[Parallel(n_jobs=-1)]: Done 108 out of 108 | elapsed:  1.5min finished\n"
     ]
    },
    {
     "name": "stdout",
     "output_type": "stream",
     "text": [
      "Best params: {'max_depth': 20, 'min_samples_leaf': 20, 'min_samples_split': 5, 'n_estimators': 250}\n",
      "Best cv score: 0.7616091954022989\n",
      "Best test score: 0.7660468442696228\n",
      "Confusion Matrix: \n",
      "[[8480 2706]\n",
      " [2528 8658]]\n",
      "Precision Score: 0.7618796198521647\n",
      "Recall Score: 0.7740032183086001\n",
      "F1 Score: 0.7678935698447893\n",
      "\n",
      "\n",
      "\n",
      "Grid Search for AdaBoostClassifier\n",
      "Fitting 3 folds for each of 12 candidates, totalling 36 fits\n"
     ]
    },
    {
     "name": "stderr",
     "output_type": "stream",
     "text": [
      "[Parallel(n_jobs=-1)]: Done  36 out of  36 | elapsed:   47.1s finished\n"
     ]
    },
    {
     "name": "stdout",
     "output_type": "stream",
     "text": [
      "Best params: {'learning_rate': 1, 'n_estimators': 250}\n",
      "Best cv score: 0.748007662835249\n",
      "Best test score: 0.7527266225639192\n",
      "Confusion Matrix: \n",
      "[[8509 2677]\n",
      " [2855 8331]]\n",
      "Precision Score: 0.756813226744186\n",
      "Recall Score: 0.7447702485249419\n",
      "F1 Score: 0.7507434441741012\n",
      "\n",
      "\n",
      "\n"
     ]
    }
   ],
   "source": [
    "from sklearn.model_selection import GridSearchCV\n",
    "from sklearn.metrics import confusion_matrix\n",
    "from sklearn.metrics import precision_score, recall_score, f1_score\n",
    "\n",
    "best_test = 0\n",
    "\n",
    "for model in models.keys():\n",
    "    print('Grid Search for {}'.format(model))\n",
    "    gs = GridSearchCV(models[model], params[model], n_jobs=-1, verbose=1)\n",
    "    gs.fit(X_train, y_train)\n",
    "    print('Best params: {}'.format(gs.best_params_))\n",
    "    print('Best cv score: {}'.format(gs.best_score_))\n",
    "    print('Best test score: {}'.format(gs.best_estimator_.score(X_test, y_test)))\n",
    "    print('Confusion Matrix: \\n{}'.format(confusion_matrix(y_test, gs.best_estimator_.predict(X_test))))\n",
    "    y_pred = gs.best_estimator_.predict(X_test)\n",
    "    print('Precision Score: {}'.format(precision_score(y_test, y_pred)))\n",
    "    print('Recall Score: {}'.format(recall_score(y_test, y_pred)))\n",
    "    print('F1 Score: {}'.format(f1_score(y_test, y_pred)))\n",
    "    print('\\n\\n')\n",
    "    if gs.best_estimator_.score(X_test, y_test) > best_test:\n",
    "        best_test = gs.best_estimator_.score(X_test, y_test)\n",
    "        best_model = gs.best_estimator_"
   ]
  },
  {
   "cell_type": "code",
   "execution_count": 29,
   "metadata": {},
   "outputs": [
    {
     "name": "stdout",
     "output_type": "stream",
     "text": [
      "DecisionTreeClassifier(class_weight=None, criterion='gini', max_depth=20,\n",
      "            max_features=None, max_leaf_nodes=None,\n",
      "            min_impurity_decrease=0.0, min_impurity_split=None,\n",
      "            min_samples_leaf=5, min_samples_split=5,\n",
      "            min_weight_fraction_leaf=0.0, presort=False, random_state=None,\n",
      "            splitter='best')\n",
      "\n",
      "Test Accuracy: 0.7779367065975327\n",
      "Precision Score: 0.7973359556588593\n",
      "Recall Score: 0.7675559380378657\n",
      "F1 Score: 0.7821625887924232\n"
     ]
    }
   ],
   "source": [
    "print(best_model)\n",
    "y_pred = best_model.predict(X_test)\n",
    "print('\\nTest Accuracy: {}'.format(best_model.score(X_test, y_test)))\n",
    "print('Precision Score: {}'.format(precision_score(y_pred, y_test)))\n",
    "print('Recall Score: {}'.format(recall_score(y_pred, y_test)))\n",
    "print('F1 Score: {}'.format(f1_score(y_pred, y_test)))"
   ]
  },
  {
   "cell_type": "code",
   "execution_count": 30,
   "metadata": {},
   "outputs": [
    {
     "name": "stdout",
     "output_type": "stream",
     "text": [
      "Feature Importance\n",
      "avg_dist: 0.2534\n",
      "avg_rating_by_driver: 0.234\n",
      "avg_rating_of_driver: 0.06305\n",
      "surge_pct: 0.08269\n",
      "avg_surge: 0.03567\n",
      "trips_in_first_30_days: 0.04706\n",
      "ultimate_black_user: 0.02757\n",
      "weekday_pct: 0.1175\n",
      "retained: 0.008135\n",
      "city_Astapor: 0.01217\n",
      "city_King's Landing: 0.07345\n",
      "city_Winterfell: 0.009163\n",
      "phone_Android: 0.01212\n",
      "phone_iPhone: 0.02384\n",
      "phone_other: 0.0001935\n"
     ]
    }
   ],
   "source": [
    "print('Feature Importance')\n",
    "for i, col in enumerate(X_train.columns):\n",
    "    print('{}: {:.4}'.format(col, best_model.feature_importances_[i]))"
   ]
  },
  {
   "cell_type": "code",
   "execution_count": 31,
   "metadata": {},
   "outputs": [
    {
     "data": {
      "image/png": "[encoded data removed]",
      "text/plain": [
       "<Figure size 720x432 with 1 Axes>"
      ]
     },
     "metadata": {},
     "output_type": "display_data"
    }
   ],
   "source": [
    "fig, ax = plt.subplots(1, 1, figsize=(10, 6))\n",
    "\n",
    "_ = ax.bar(X_train.columns, best_model.feature_importances_)\n",
    "_ = ax.set(xlabel='Feature Name', ylabel='Feature Importance')\n",
    "_ = plt.xticks(rotation=90)"
   ]
  },
  {
   "cell_type": "markdown",
   "metadata": {},
   "source": [
    "So again the best model is a simple decision tree classifier which achieves a 77.5% accuracy of predicting if a user will be active in their 6th month. The 3 most important features for this model are average distance of trip, average rating of user by the driver, and what percentage of the trips are taken during the weekday.\n",
    "\n",
    "With this information, Ultimate could focus marketing efforts on retention of users that take long trips on weekdays to increase the likelihood that these users will stay active up to and past 6 months. Additionally, Ultimate could take actions which increase a users change of taking long trips. This could include discounts for longer trips/weekday trips or a perk package to keep these users engaged."
   ]
  },
  {
   "cell_type": "code",
   "execution_count": null,
   "metadata": {},
   "outputs": [],
   "source": []
  }
 ],
 "metadata": {
  "kernelspec": {
   "display_name": "Python 3",
   "language": "python",
   "name": "python3"
  },
  "language_info": {
   "codemirror_mode": {
    "name": "ipython",
    "version": 3
   },
   "file_extension": ".py",
   "mimetype": "text/x-python",
   "name": "python",
   "nbconvert_exporter": "python",
   "pygments_lexer": "ipython3",
   "version": "3.6.5"
  },
  "varInspector": {
   "cols": {
    "lenName": 16,
    "lenType": 16,
    "lenVar": 40
   },
   "kernels_config": {
    "python": {
     "delete_cmd_postfix": "",
     "delete_cmd_prefix": "del ",
     "library": "var_list.py",
     "varRefreshCmd": "print(var_dic_list())"
    },
    "r": {
     "delete_cmd_postfix": ") ",
     "delete_cmd_prefix": "rm(",
     "library": "var_list.r",
     "varRefreshCmd": "cat(var_dic_list()) "
    }
   },
   "types_to_exclude": [
    "module",
    "function",
    "builtin_function_or_method",
    "instance",
    "_Feature"
   ],
   "window_display": false
  }
 },
 "nbformat": 4,
 "nbformat_minor": 2
}
