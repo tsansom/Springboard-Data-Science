{
 "cells": [
  {
   "cell_type": "code",
   "execution_count": 1,
   "metadata": {},
   "outputs": [],
   "source": [
    "import requests\n",
    "from bs4 import BeautifulSoup\n",
    "import pandas as pd\n",
    "import numpy as np\n",
    "import re\n",
    "import json"
   ]
  },
  {
   "cell_type": "markdown",
   "metadata": {},
   "source": [
    "## Get Team List"
   ]
  },
  {
   "cell_type": "code",
   "execution_count": 2,
   "metadata": {},
   "outputs": [],
   "source": [
    "# get a page to pull the team names from first\n",
    "page = requests.get('http://www.spotrac.com/nfl/dallas-cowboys/positional/2018/full-cap/')\n",
    "# Create soup of page\n",
    "soup = BeautifulSoup(page.text, 'html.parser')\n",
    "# team list pulldown is the first select\n",
    "teams = soup.find_all('select')[1]\n",
    "# the team names and abbreviation are in the options\n",
    "teams = teams.find_all('option')\n",
    "# skip first option (\"Team\") and assign team abbreviation: team name to dict\n",
    "team_names = {option.text: option['value'] for option in teams[1:]}\n",
    "# save the team names dictionary for later\n",
    "with open('data/team_names.json', 'w') as f:\n",
    "    json.dump(team_names, f)"
   ]
  },
  {
   "cell_type": "markdown",
   "metadata": {},
   "source": [
    "## Functions for Parsing Positional Salary Data"
   ]
  },
  {
   "cell_type": "code",
   "execution_count": 11,
   "metadata": {},
   "outputs": [],
   "source": [
    "def get_positional(soup):\n",
    "    '''\n",
    "    Retrieve the positional salary table from the html soup\n",
    "    '''\n",
    "    # find the positional spending table\n",
    "    table = soup.find_all('table')[1]\n",
    "    # get the text\n",
    "    table_text = table.text\n",
    "    # remove the newlines and make into list\n",
    "    table_text = list(filter(None, table.text.split('\\n')))\n",
    "    # reshape and convert to data frame\n",
    "    table_df = pd.DataFrame(np.reshape(table_text, (10, 5)))\n",
    "    # header is in the first row\n",
    "    table_df.columns = table_df.iloc[0]\n",
    "    # drop the first row and reset index\n",
    "    table_df = table_df.drop(0).reset_index(drop=True)\n",
    "    # return the final result\n",
    "    return table_df\n",
    "\n",
    "\n",
    "def parse_positional(df):\n",
    "    '''\n",
    "    Parse the salary and number of players for each position\n",
    "    '''\n",
    "    \n",
    "    # abbreviate positions\n",
    "    df['Position'] = ['QB', 'RB', 'WR', 'TE', 'OL', \n",
    "                      'DL', 'LB', 'S', 'ST']\n",
    "    \n",
    "    # drop unnecessary columns and rename kept columns\n",
    "    df.drop(['% of  Cap', 'NFL Rank'], axis=1, inplace=True)\n",
    "    df.columns = ['position', 'players', 'salary']\n",
    "    \n",
    "    # convert columns to float\n",
    "    df['players'] = df['players'].astype('float')\n",
    "    df['salary'] = df['salary'].apply(lambda x: float(re.sub(r'[^\\d]', '', x)))\n",
    "    \n",
    "    # get the salary as a single row data frame\n",
    "    salary = df.pivot_table(columns='position', values='salary', \n",
    "                            aggfunc='sum')\n",
    "    salary.reset_index(drop=True, inplace=True)\n",
    "    \n",
    "    # get the number of positional players as a single row data frame\n",
    "    players = df.pivot_table(columns='position', values='players', \n",
    "                             aggfunc='sum')\n",
    "    # add n to front of columns (to denote number)\n",
    "    players.columns = ['n{}'.format(pos) for pos in players.columns]\n",
    "    players.reset_index(drop=True, inplace=True)\n",
    "    \n",
    "    # concatenate the salary and number of players\n",
    "    row = pd.concat([salary, players], axis=1)\n",
    "    \n",
    "    return row"
   ]
  },
  {
   "cell_type": "markdown",
   "metadata": {},
   "source": [
    "## Scrape the Data"
   ]
  },
  {
   "cell_type": "code",
   "execution_count": 12,
   "metadata": {
    "scrolled": false
   },
   "outputs": [
    {
     "name": "stdout",
     "output_type": "stream",
     "text": [
      "Reading 2018 Salary Data: \n",
      "ARI ['Position', 'Players', ' Cap Dollars', '% of  Cap', 'NFL Rank', 'Quarterback', '6', '$14,065,000', '8.76%', '22', 'Running Back', '5', '$3,782,328', '2.36%', '25', 'Wide Receiver', '13', '$23,932,522', '14.91%', '10', 'Tight End', '8', '$10,803,750', '6.73%', '12', 'Offensive Line', '16', '$23,338,074', '14.54%', '30', 'Defensive Line', '10', '$10,354,973', '6.45%', '32', 'Linebacker', '15', '$35,363,124', '22.03%', '2', 'Secondary', '17', '$27,674,498', '17.24%', '18', 'Special Teams', '8', '$14,452,500', '9.00%', '2']\n",
      "ATL ['Position', 'Players', ' Cap Dollars', '% of  Cap', 'NFL Rank', 'Quarterback', '5', '$23,718,333', '5.62%', '11', 'Running Back', '6', '$7,417,939', '1.76%', '16', 'Wide Receiver', '13', '$25,348,652', '6.01%', '8', 'Tight End', '7', '$8,095,204', '1.92%', '16', 'Offensive Line', '16', '$47,882,368', '11.35%', '1', 'Defensive Line', '14', '$22,680,102', '5.37%', '19', 'Linebacker', '8', '$4,770,039', '1.13%', '32', 'Secondary', '17', '$35,580,847', '8.43%', '8', 'Special Teams', '8', '$11,703,332', '2.77%', '5']\n",
      "BAL ['Position', 'Players', ' Cap Dollars', '% of  Cap', 'NFL Rank', 'Quarterback', '4', '$26,330,000', '15.19%', '6', 'Running Back', '5', '$3,214,466', '1.86%', '29', 'Wide Receiver', '12', '$16,809,298', '9.70%', '22', 'Tight End', '5', '$2,768,848', '1.60%', '32', 'Offensive Line', '15', '$23,228,961', '13.40%', '31', 'Defensive Line', '11', '$18,188,283', '10.50%', '27', 'Linebacker', '15', '$27,643,157', '15.95%', '5', 'Secondary', '17', '$48,527,681', '28.00%', '1', 'Special Teams', '10', '$21,393,332', '12.35%', '1']\n",
      "BUF ['Position', 'Players', ' Cap Dollars', '% of  Cap', 'NFL Rank', 'Quarterback', '3', '$3,614,874', '2.12%', '31', 'Running Back', '5', '$13,443,750', '7.90%', '2', 'Wide Receiver', '13', '$15,799,870', '9.29%', '26', 'Tight End', '6', '$12,162,500', '7.15%', '7', 'Offensive Line', '18', '$26,181,099', '15.39%', '25', 'Defensive Line', '14', '$30,781,930', '18.09%', '10', 'Linebacker', '10', '$13,573,825', '7.98%', '29', 'Secondary', '15', '$23,495,934', '13.81%', '25', 'Special Teams', '10', '$11,930,000', '7.01%', '4']\n",
      "CAR ['Position', 'Players', ' Cap Dollars', '% of  Cap', 'NFL Rank', 'Quarterback', '4', '$23,240,000', '13.01%', '13', 'Running Back', '4', '$6,295,042', '3.52%', '20', 'Wide Receiver', '12', '$16,348,394', '9.15%', '24', 'Tight End', '4', '$10,860,000', '6.08%', '11', 'Offensive Line', '16', '$32,493,315', '18.19%', '16', 'Defensive Line', '15', '$45,280,395', '25.34%', '5', 'Linebacker', '10', '$26,839,193', '15.02%', '6', 'Secondary', '17', '$16,510,535', '9.24%', '31', 'Special Teams', '6', '$10,245,000', '5.73%', '6']\n",
      "CHI ['Position', 'Players', ' Cap Dollars', '% of  Cap', 'NFL Rank', 'Quarterback', '3', '$10,393,278', '6.69%', '25', 'Running Back', '5', '$2,440,919', '1.57%', '31', 'Wide Receiver', '11', '$27,034,560', '17.40%', '5', 'Tight End', '6', '$15,449,137', '9.95%', '4', 'Offensive Line', '14', '$29,648,676', '19.09%', '20', 'Defensive Line', '16', '$20,764,997', '13.37%', '22', 'Linebacker', '11', '$18,173,197', '11.70%', '21', 'Secondary', '17', '$27,301,545', '17.58%', '19', 'Special Teams', '8', '$12,845,000', '8.27%', '3']\n",
      "CIN ['Position', 'Players', ' Cap Dollars', '% of  Cap', 'NFL Rank', 'Quarterback', '4', '$18,355,000', '10.81%', '18', 'Running Back', '7', '$7,633,675', '4.49%', '14', 'Wide Receiver', '10', '$25,761,299', '15.17%', '7', 'Tight End', '6', '$8,486,536', '5.00%', '14', 'Offensive Line', '15', '$27,545,530', '16.22%', '24', 'Defensive Line', '10', '$28,226,723', '16.62%', '12', 'Linebacker', '9', '$18,642,436', '10.98%', '20', 'Secondary', '14', '$36,059,936', '21.23%', '7', 'Special Teams', '8', '$9,280,000', '5.46%', '7']\n",
      "CLE\n",
      "['Position', 'Players', ' Cap Dollars', '% of  Cap', 'NFL Rank', 'Quarterback', '4', '$16,480,000', '9.84%', '21', 'Running Back', '5', '$6,377,256', '3.81%', '18', 'Wide Receiver', '10', '$23,155,597', '13.82%', '11', 'Tight End', '3', '$6,490,642', '3.87%', '21', 'Offensive Line', '13', '$37,698,535', '22.50%', '7', 'Defensive Line', '10', '$16,806,493', '10.03%', '30', 'Linebacker', '11', '$23,349,419', '13.94%', '13', 'Secondary', '15', '$25,583,750', '15.27%', '22']\n"
     ]
    },
    {
     "ename": "ValueError",
     "evalue": "cannot reshape array of size 45 into shape (10,5)",
     "output_type": "error",
     "traceback": [
      "\u001b[0;31m---------------------------------------------------------------------------\u001b[0m",
      "\u001b[0;31mAttributeError\u001b[0m                            Traceback (most recent call last)",
      "\u001b[0;32m~/anaconda3/lib/python3.6/site-packages/numpy/core/fromnumeric.py\u001b[0m in \u001b[0;36m_wrapfunc\u001b[0;34m(obj, method, *args, **kwds)\u001b[0m\n\u001b[1;32m     51\u001b[0m     \u001b[0;32mtry\u001b[0m\u001b[0;34m:\u001b[0m\u001b[0;34m\u001b[0m\u001b[0m\n\u001b[0;32m---> 52\u001b[0;31m         \u001b[0;32mreturn\u001b[0m \u001b[0mgetattr\u001b[0m\u001b[0;34m(\u001b[0m\u001b[0mobj\u001b[0m\u001b[0;34m,\u001b[0m \u001b[0mmethod\u001b[0m\u001b[0;34m)\u001b[0m\u001b[0;34m(\u001b[0m\u001b[0;34m*\u001b[0m\u001b[0margs\u001b[0m\u001b[0;34m,\u001b[0m \u001b[0;34m**\u001b[0m\u001b[0mkwds\u001b[0m\u001b[0;34m)\u001b[0m\u001b[0;34m\u001b[0m\u001b[0m\n\u001b[0m\u001b[1;32m     53\u001b[0m \u001b[0;34m\u001b[0m\u001b[0m\n",
      "\u001b[0;31mAttributeError\u001b[0m: 'list' object has no attribute 'reshape'",
      "\nDuring handling of the above exception, another exception occurred:\n",
      "\u001b[0;31mValueError\u001b[0m                                Traceback (most recent call last)",
      "\u001b[0;32m<ipython-input-12-c685504e3390>\u001b[0m in \u001b[0;36m<module>\u001b[0;34m()\u001b[0m\n\u001b[1;32m     30\u001b[0m         \u001b[0msoup\u001b[0m \u001b[0;34m=\u001b[0m \u001b[0mBeautifulSoup\u001b[0m\u001b[0;34m(\u001b[0m\u001b[0mpage\u001b[0m\u001b[0;34m.\u001b[0m\u001b[0mtext\u001b[0m\u001b[0;34m,\u001b[0m \u001b[0;34m'html.parser'\u001b[0m\u001b[0;34m)\u001b[0m\u001b[0;34m\u001b[0m\u001b[0m\n\u001b[1;32m     31\u001b[0m         \u001b[0;31m# get the positional salary table\u001b[0m\u001b[0;34m\u001b[0m\u001b[0;34m\u001b[0m\u001b[0m\n\u001b[0;32m---> 32\u001b[0;31m         \u001b[0mtable\u001b[0m \u001b[0;34m=\u001b[0m \u001b[0mget_positional\u001b[0m\u001b[0;34m(\u001b[0m\u001b[0msoup\u001b[0m\u001b[0;34m)\u001b[0m\u001b[0;34m\u001b[0m\u001b[0m\n\u001b[0m\u001b[1;32m     33\u001b[0m         \u001b[0;31m# parse the table (salary and number of players)\u001b[0m\u001b[0;34m\u001b[0m\u001b[0;34m\u001b[0m\u001b[0m\n\u001b[1;32m     34\u001b[0m         \u001b[0mrow\u001b[0m \u001b[0;34m=\u001b[0m \u001b[0mparse_positional\u001b[0m\u001b[0;34m(\u001b[0m\u001b[0mtable\u001b[0m\u001b[0;34m)\u001b[0m\u001b[0;34m\u001b[0m\u001b[0m\n",
      "\u001b[0;32m<ipython-input-11-a098e23e6b25>\u001b[0m in \u001b[0;36mget_positional\u001b[0;34m(soup)\u001b[0m\n\u001b[1;32m     11\u001b[0m     \u001b[0mprint\u001b[0m\u001b[0;34m(\u001b[0m\u001b[0mtable_text\u001b[0m\u001b[0;34m)\u001b[0m\u001b[0;34m\u001b[0m\u001b[0m\n\u001b[1;32m     12\u001b[0m     \u001b[0;31m# reshape and convert to data frame\u001b[0m\u001b[0;34m\u001b[0m\u001b[0;34m\u001b[0m\u001b[0m\n\u001b[0;32m---> 13\u001b[0;31m     \u001b[0mtable_df\u001b[0m \u001b[0;34m=\u001b[0m \u001b[0mpd\u001b[0m\u001b[0;34m.\u001b[0m\u001b[0mDataFrame\u001b[0m\u001b[0;34m(\u001b[0m\u001b[0mnp\u001b[0m\u001b[0;34m.\u001b[0m\u001b[0mreshape\u001b[0m\u001b[0;34m(\u001b[0m\u001b[0mtable_text\u001b[0m\u001b[0;34m,\u001b[0m \u001b[0;34m(\u001b[0m\u001b[0;36m10\u001b[0m\u001b[0;34m,\u001b[0m \u001b[0;36m5\u001b[0m\u001b[0;34m)\u001b[0m\u001b[0;34m)\u001b[0m\u001b[0;34m)\u001b[0m\u001b[0;34m\u001b[0m\u001b[0m\n\u001b[0m\u001b[1;32m     14\u001b[0m     \u001b[0;31m# header is in the first row\u001b[0m\u001b[0;34m\u001b[0m\u001b[0;34m\u001b[0m\u001b[0m\n\u001b[1;32m     15\u001b[0m     \u001b[0mtable_df\u001b[0m\u001b[0;34m.\u001b[0m\u001b[0mcolumns\u001b[0m \u001b[0;34m=\u001b[0m \u001b[0mtable_df\u001b[0m\u001b[0;34m.\u001b[0m\u001b[0miloc\u001b[0m\u001b[0;34m[\u001b[0m\u001b[0;36m0\u001b[0m\u001b[0;34m]\u001b[0m\u001b[0;34m\u001b[0m\u001b[0m\n",
      "\u001b[0;32m~/anaconda3/lib/python3.6/site-packages/numpy/core/fromnumeric.py\u001b[0m in \u001b[0;36mreshape\u001b[0;34m(a, newshape, order)\u001b[0m\n\u001b[1;32m    255\u001b[0m            [5, 6]])\n\u001b[1;32m    256\u001b[0m     \"\"\"\n\u001b[0;32m--> 257\u001b[0;31m     \u001b[0;32mreturn\u001b[0m \u001b[0m_wrapfunc\u001b[0m\u001b[0;34m(\u001b[0m\u001b[0ma\u001b[0m\u001b[0;34m,\u001b[0m \u001b[0;34m'reshape'\u001b[0m\u001b[0;34m,\u001b[0m \u001b[0mnewshape\u001b[0m\u001b[0;34m,\u001b[0m \u001b[0morder\u001b[0m\u001b[0;34m=\u001b[0m\u001b[0morder\u001b[0m\u001b[0;34m)\u001b[0m\u001b[0;34m\u001b[0m\u001b[0m\n\u001b[0m\u001b[1;32m    258\u001b[0m \u001b[0;34m\u001b[0m\u001b[0m\n\u001b[1;32m    259\u001b[0m \u001b[0;34m\u001b[0m\u001b[0m\n",
      "\u001b[0;32m~/anaconda3/lib/python3.6/site-packages/numpy/core/fromnumeric.py\u001b[0m in \u001b[0;36m_wrapfunc\u001b[0;34m(obj, method, *args, **kwds)\u001b[0m\n\u001b[1;32m     60\u001b[0m     \u001b[0;31m# a downstream library like 'pandas'.\u001b[0m\u001b[0;34m\u001b[0m\u001b[0;34m\u001b[0m\u001b[0m\n\u001b[1;32m     61\u001b[0m     \u001b[0;32mexcept\u001b[0m \u001b[0;34m(\u001b[0m\u001b[0mAttributeError\u001b[0m\u001b[0;34m,\u001b[0m \u001b[0mTypeError\u001b[0m\u001b[0;34m)\u001b[0m\u001b[0;34m:\u001b[0m\u001b[0;34m\u001b[0m\u001b[0m\n\u001b[0;32m---> 62\u001b[0;31m         \u001b[0;32mreturn\u001b[0m \u001b[0m_wrapit\u001b[0m\u001b[0;34m(\u001b[0m\u001b[0mobj\u001b[0m\u001b[0;34m,\u001b[0m \u001b[0mmethod\u001b[0m\u001b[0;34m,\u001b[0m \u001b[0;34m*\u001b[0m\u001b[0margs\u001b[0m\u001b[0;34m,\u001b[0m \u001b[0;34m**\u001b[0m\u001b[0mkwds\u001b[0m\u001b[0;34m)\u001b[0m\u001b[0;34m\u001b[0m\u001b[0m\n\u001b[0m\u001b[1;32m     63\u001b[0m \u001b[0;34m\u001b[0m\u001b[0m\n\u001b[1;32m     64\u001b[0m \u001b[0;34m\u001b[0m\u001b[0m\n",
      "\u001b[0;32m~/anaconda3/lib/python3.6/site-packages/numpy/core/fromnumeric.py\u001b[0m in \u001b[0;36m_wrapit\u001b[0;34m(obj, method, *args, **kwds)\u001b[0m\n\u001b[1;32m     40\u001b[0m     \u001b[0;32mexcept\u001b[0m \u001b[0mAttributeError\u001b[0m\u001b[0;34m:\u001b[0m\u001b[0;34m\u001b[0m\u001b[0m\n\u001b[1;32m     41\u001b[0m         \u001b[0mwrap\u001b[0m \u001b[0;34m=\u001b[0m \u001b[0;32mNone\u001b[0m\u001b[0;34m\u001b[0m\u001b[0m\n\u001b[0;32m---> 42\u001b[0;31m     \u001b[0mresult\u001b[0m \u001b[0;34m=\u001b[0m \u001b[0mgetattr\u001b[0m\u001b[0;34m(\u001b[0m\u001b[0masarray\u001b[0m\u001b[0;34m(\u001b[0m\u001b[0mobj\u001b[0m\u001b[0;34m)\u001b[0m\u001b[0;34m,\u001b[0m \u001b[0mmethod\u001b[0m\u001b[0;34m)\u001b[0m\u001b[0;34m(\u001b[0m\u001b[0;34m*\u001b[0m\u001b[0margs\u001b[0m\u001b[0;34m,\u001b[0m \u001b[0;34m**\u001b[0m\u001b[0mkwds\u001b[0m\u001b[0;34m)\u001b[0m\u001b[0;34m\u001b[0m\u001b[0m\n\u001b[0m\u001b[1;32m     43\u001b[0m     \u001b[0;32mif\u001b[0m \u001b[0mwrap\u001b[0m\u001b[0;34m:\u001b[0m\u001b[0;34m\u001b[0m\u001b[0m\n\u001b[1;32m     44\u001b[0m         \u001b[0;32mif\u001b[0m \u001b[0;32mnot\u001b[0m \u001b[0misinstance\u001b[0m\u001b[0;34m(\u001b[0m\u001b[0mresult\u001b[0m\u001b[0;34m,\u001b[0m \u001b[0mmu\u001b[0m\u001b[0;34m.\u001b[0m\u001b[0mndarray\u001b[0m\u001b[0;34m)\u001b[0m\u001b[0;34m:\u001b[0m\u001b[0;34m\u001b[0m\u001b[0m\n",
      "\u001b[0;31mValueError\u001b[0m: cannot reshape array of size 45 into shape (10,5)"
     ]
    }
   ],
   "source": [
    "# create list for years\n",
    "years = ['2013', '2014', '2015', '2016', '2017', '2018']\n",
    "\n",
    "# create blank format string for website crawl\n",
    "url = 'http://www.spotrac.com/nfl/{}/positional/{}/full-cap/'\n",
    "\n",
    "salary_df = pd.DataFrame()\n",
    "\n",
    "# loop through years and teams\n",
    "for year in years:\n",
    "    print('Reading {} Salary Data: '.format(year))\n",
    "    ctr = 0\n",
    "    for team in team_names.keys():\n",
    "        if (ctr+1) % 8 == 0:\n",
    "            print('{:3s}'.format(team), end='\\n')\n",
    "            ctr += 1\n",
    "        else:\n",
    "            print('{:3s}'.format(team), end=' ')\n",
    "            ctr += 1\n",
    "        # get the page html\n",
    "        # Chargers went from San Diego to LA in 2017\n",
    "        if year in ['2013', '2014', '2015', '2016'] and team == 'LAC':\n",
    "            page = requests.get(url.format('san-diego-chargers', year))\n",
    "        # Rams went from St. Louis to LA in 2016\n",
    "        elif year in ['2013', '2014', '2015'] and team == 'LA':\n",
    "            page = requests.get(url.format('st.-louis-rams', year))\n",
    "        else:        \n",
    "            page = requests.get(url.format(team_names[team], year))\n",
    "        # create the soup\n",
    "        soup = BeautifulSoup(page.text, 'html.parser')\n",
    "        # get the positional salary table\n",
    "        table = get_positional(soup)\n",
    "        # parse the table (salary and number of players)\n",
    "        row = parse_positional(table)\n",
    "        # add the team and year column to the front of the row\n",
    "        row.insert(0, 'year', year)\n",
    "        row.insert(0, 'team', team)\n",
    "        # concatenate the new row to the salary dataframe\n",
    "        salary_df = pd.concat([salary_df, row])\n",
    "    print()\n",
    "# reset the index of the salary dataframe\n",
    "salary_df.reset_index(drop=True, inplace=True)"
   ]
  },
  {
   "cell_type": "markdown",
   "metadata": {},
   "source": [
    "## Save the Data"
   ]
  },
  {
   "cell_type": "code",
   "execution_count": 85,
   "metadata": {},
   "outputs": [],
   "source": [
    "# save the dataframe to csv for later reading\n",
    "salary_df.to_csv('data/salary.csv')"
   ]
  }
 ],
 "metadata": {
  "kernelspec": {
   "display_name": "Python 3",
   "language": "python",
   "name": "python3"
  },
  "language_info": {
   "codemirror_mode": {
    "name": "ipython",
    "version": 3
   },
   "file_extension": ".py",
   "mimetype": "text/x-python",
   "name": "python",
   "nbconvert_exporter": "python",
   "pygments_lexer": "ipython3",
   "version": "3.6.5"
  },
  "varInspector": {
   "cols": {
    "lenName": 16,
    "lenType": 16,
    "lenVar": 40
   },
   "kernels_config": {
    "python": {
     "delete_cmd_postfix": "",
     "delete_cmd_prefix": "del ",
     "library": "var_list.py",
     "varRefreshCmd": "print(var_dic_list())"
    },
    "r": {
     "delete_cmd_postfix": ") ",
     "delete_cmd_prefix": "rm(",
     "library": "var_list.r",
     "varRefreshCmd": "cat(var_dic_list()) "
    }
   },
   "types_to_exclude": [
    "module",
    "function",
    "builtin_function_or_method",
    "instance",
    "_Feature"
   ],
   "window_display": false
  }
 },
 "nbformat": 4,
 "nbformat_minor": 2
}
