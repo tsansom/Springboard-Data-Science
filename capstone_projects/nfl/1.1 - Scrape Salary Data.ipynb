{
 "cells": [
  {
   "cell_type": "code",
   "execution_count": 1,
   "metadata": {},
   "outputs": [],
   "source": [
    "import requests\n",
    "from bs4 import BeautifulSoup\n",
    "import pandas as pd\n",
    "import numpy as np\n",
    "import re\n",
    "import json"
   ]
  },
  {
   "cell_type": "markdown",
   "metadata": {},
   "source": [
    "## Get Team List"
   ]
  },
  {
   "cell_type": "code",
   "execution_count": 9,
   "metadata": {},
   "outputs": [],
   "source": [
    "# get a page to pull the team names from first\n",
    "page = requests.get('http://www.spotrac.com/nfl/dallas-cowboys/positional/2018/full-cap/')\n",
    "# Create soup of page\n",
    "soup = BeautifulSoup(page.text, 'html.parser')\n",
    "# team list pulldown is the first select\n",
    "teams = soup.find_all('select')[1]\n",
    "# the team names and abbreviation are in the options\n",
    "teams = teams.find_all('option')\n",
    "# skip first option (\"Team\") and assign team abbreviation: team name to dict\n",
    "team_names = {option.text: option['value'] for option in teams[1:]}\n",
    "# save the team names dictionary for later\n",
    "with open('data/team_names.json', 'w') as f:\n",
    "    json.dump(team_names, f)"
   ]
  },
  {
   "cell_type": "markdown",
   "metadata": {},
   "source": [
    "## Functions for Parsing Positional Salary Data"
   ]
  },
  {
   "cell_type": "code",
   "execution_count": 6,
   "metadata": {},
   "outputs": [],
   "source": [
    "def get_positional(soup):\n",
    "    '''\n",
    "    Retrieve the positional salary table from the html soup\n",
    "    '''\n",
    "    # find the positional spending table\n",
    "    table = soup.find_all('table')[1]\n",
    "    # get the text\n",
    "    table_text = table.text\n",
    "    # remove the newlines and make into list\n",
    "    table_text = list(filter(None, table.text.split('\\n')))\n",
    "    # reshape and convert to data frame\n",
    "    table_df = pd.DataFrame(np.reshape(table_text, (10, 5)))\n",
    "    # header is in the first row\n",
    "    table_df.columns = table_df.iloc[0]\n",
    "    # drop the first row and reset index\n",
    "    table_df = table_df.drop(0).reset_index(drop=True)\n",
    "    # return the final result\n",
    "    return table_df\n",
    "\n",
    "\n",
    "def parse_positional(df):\n",
    "    '''\n",
    "    Parse the salary and number of players for each position\n",
    "    '''\n",
    "    \n",
    "    # abbreviate positions\n",
    "    df['Position'] = ['QB', 'RB', 'WR', 'TE', 'OL', \n",
    "                      'DL', 'LB', 'S', 'ST']\n",
    "    \n",
    "    # drop unnecessary columns and rename kept columns\n",
    "    df.drop(['% of  Cap', 'NFL Rank'], axis=1, inplace=True)\n",
    "    df.columns = ['position', 'players', 'salary']\n",
    "    \n",
    "    # convert columns to float\n",
    "    df['players'] = df['players'].astype('float')\n",
    "    df['salary'] = df['salary'].apply(lambda x: float(re.sub(r'[^\\d]', '', x)))\n",
    "    \n",
    "    # get the salary as a single row data frame\n",
    "    salary = df.pivot_table(columns='position', values='salary', \n",
    "                            aggfunc='sum')\n",
    "    salary.reset_index(drop=True, inplace=True)\n",
    "    \n",
    "    # get the number of positional players as a single row data frame\n",
    "    players = df.pivot_table(columns='position', values='players', \n",
    "                             aggfunc='sum')\n",
    "    # add n to front of columns (to denote number)\n",
    "    players.columns = ['n{}'.format(pos) for pos in players.columns]\n",
    "    players.reset_index(drop=True, inplace=True)\n",
    "    \n",
    "    # concatenate the salary and number of players\n",
    "    row = pd.concat([salary, players], axis=1)\n",
    "    \n",
    "    return row"
   ]
  },
  {
   "cell_type": "markdown",
   "metadata": {},
   "source": [
    "## Scrape the Data"
   ]
  },
  {
   "cell_type": "code",
   "execution_count": 82,
   "metadata": {
    "scrolled": false
   },
   "outputs": [
    {
     "name": "stdout",
     "output_type": "stream",
     "text": [
      "Reading 2013 Salary Data: \n",
      "ARI ATL BAL BUF CAR CHI CIN CLE\n",
      "DAL DEN DET GB  HOU IND JAC KC \n",
      "LAC LA  MIA MIN NE  NO  NYG NYJ\n",
      "OAK PHI PIT SF  SEA TB  TEN WAS\n",
      "\n",
      "Reading 2014 Salary Data: \n",
      "ARI ATL BAL BUF CAR CHI CIN CLE\n",
      "DAL DEN DET GB  HOU IND JAC KC \n",
      "LAC LA  MIA MIN NE  NO  NYG NYJ\n",
      "OAK PHI PIT SF  SEA TB  TEN WAS\n",
      "\n",
      "Reading 2015 Salary Data: \n",
      "ARI ATL BAL BUF CAR CHI CIN CLE\n",
      "DAL DEN DET GB  HOU IND JAC KC \n",
      "LAC LA  MIA MIN NE  NO  NYG NYJ\n",
      "OAK PHI PIT SF  SEA TB  TEN WAS\n",
      "\n",
      "Reading 2016 Salary Data: \n",
      "ARI ATL BAL BUF CAR CHI CIN CLE\n",
      "DAL DEN DET GB  HOU IND JAC KC \n",
      "LAC LA  MIA MIN NE  NO  NYG NYJ\n",
      "OAK PHI PIT SF  SEA TB  TEN WAS\n",
      "\n",
      "Reading 2017 Salary Data: \n",
      "ARI ATL BAL BUF CAR CHI CIN CLE\n",
      "DAL DEN DET GB  HOU IND JAC KC \n",
      "LAC LA  MIA MIN NE  NO  NYG NYJ\n",
      "OAK PHI PIT SF  SEA TB  TEN WAS\n",
      "\n",
      "Reading 2018 Salary Data: \n",
      "ARI ATL BAL BUF CAR CHI CIN CLE\n",
      "DAL DEN DET GB  HOU IND JAC KC \n",
      "LAC LA  MIA MIN NE  NO  NYG NYJ\n",
      "OAK PHI PIT SF  SEA TB  TEN WAS\n",
      "\n"
     ]
    }
   ],
   "source": [
    "# create list for years\n",
    "years = ['2013', '2014', '2015', '2016', '2017', '2018']\n",
    "\n",
    "# create blank format string for website crawl\n",
    "url = 'http://www.spotrac.com/nfl/{}/positional/{}/full-cap/'\n",
    "\n",
    "salary_df = pd.DataFrame()\n",
    "\n",
    "# loop through years and teams\n",
    "for year in years:\n",
    "    print('Reading {} Salary Data: '.format(year))\n",
    "    ctr = 0\n",
    "    for team in team_names.keys():\n",
    "        if (ctr+1) % 8 == 0:\n",
    "            print('{:3s}'.format(team), end='\\n')\n",
    "            ctr += 1\n",
    "        else:\n",
    "            print('{:3s}'.format(team), end=' ')\n",
    "            ctr += 1\n",
    "        # get the page html\n",
    "        # Chargers went from San Diego to LA in 2017\n",
    "        if year in ['2013', '2014', '2015', '2016'] and team == 'LAC':\n",
    "            page = requests.get(url.format('san-diego-chargers', year))\n",
    "        # Rams went from St. Louis to LA in 2016\n",
    "        elif year in ['2013', '2014', '2015'] and team == 'LA':\n",
    "            page = requests.get(url.format('st.-louis-rams', year))\n",
    "        else:        \n",
    "            page = requests.get(url.format(team_names[team], year))\n",
    "        # create the soup\n",
    "        soup = BeautifulSoup(page.text, 'html.parser')\n",
    "        # get the positional salary table\n",
    "        table = get_positional(soup)\n",
    "        # parse the table (salary and number of players)\n",
    "        row = parse_positional(table)\n",
    "        # add the team and year column to the front of the row\n",
    "        row.insert(0, 'year', year)\n",
    "        row.insert(0, 'team', team)\n",
    "        # concatenate the new row to the salary dataframe\n",
    "        salary_df = pd.concat([salary_df, row])\n",
    "    print()\n",
    "# reset the index of the salary dataframe\n",
    "salary_df.reset_index(drop=True, inplace=True)"
   ]
  },
  {
   "cell_type": "markdown",
   "metadata": {},
   "source": [
    "## Save the Data"
   ]
  },
  {
   "cell_type": "code",
   "execution_count": 85,
   "metadata": {},
   "outputs": [],
   "source": [
    "# save the dataframe to csv for later reading\n",
    "salary_df.to_csv('data/salary.csv')"
   ]
  }
 ],
 "metadata": {
  "kernelspec": {
   "display_name": "Python 3",
   "language": "python",
   "name": "python3"
  },
  "language_info": {
   "codemirror_mode": {
    "name": "ipython",
    "version": 3
   },
   "file_extension": ".py",
   "mimetype": "text/x-python",
   "name": "python",
   "nbconvert_exporter": "python",
   "pygments_lexer": "ipython3",
   "version": "3.6.5"
  },
  "varInspector": {
   "cols": {
    "lenName": 16,
    "lenType": 16,
    "lenVar": 40
   },
   "kernels_config": {
    "python": {
     "delete_cmd_postfix": "",
     "delete_cmd_prefix": "del ",
     "library": "var_list.py",
     "varRefreshCmd": "print(var_dic_list())"
    },
    "r": {
     "delete_cmd_postfix": ") ",
     "delete_cmd_prefix": "rm(",
     "library": "var_list.r",
     "varRefreshCmd": "cat(var_dic_list()) "
    }
   },
   "types_to_exclude": [
    "module",
    "function",
    "builtin_function_or_method",
    "instance",
    "_Feature"
   ],
   "window_display": false
  }
 },
 "nbformat": 4,
 "nbformat_minor": 2
}
