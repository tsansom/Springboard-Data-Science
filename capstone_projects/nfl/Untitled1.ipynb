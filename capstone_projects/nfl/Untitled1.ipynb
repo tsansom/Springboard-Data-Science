{
 "cells": [
  {
   "cell_type": "code",
   "execution_count": 33,
   "metadata": {},
   "outputs": [],
   "source": [
    "library(tidyverse)"
   ]
  },
  {
   "cell_type": "code",
   "execution_count": 34,
   "metadata": {},
   "outputs": [
    {
     "name": "stderr",
     "output_type": "stream",
     "text": [
      "Parsed with column specification:\n",
      "cols(\n",
      "  Team = col_character(),\n",
      "  Year = col_integer(),\n",
      "  `Yds/G_rush` = col_double(),\n",
      "  TD_rush = col_double(),\n",
      "  `Yds/G_pass` = col_double(),\n",
      "  Pct = col_double(),\n",
      "  TD_pass = col_double(),\n",
      "  Sck = col_double(),\n",
      "  Rate = col_double(),\n",
      "  `Pts/G` = col_double(),\n",
      "  `Pen Yds` = col_double(),\n",
      "  TO = col_double()\n",
      ")\n",
      "Parsed with column specification:\n",
      "cols(\n",
      "  Team = col_character(),\n",
      "  Year = col_integer(),\n",
      "  `Yds/G_rush` = col_double(),\n",
      "  TD_rush = col_double(),\n",
      "  `Yds/G_pass` = col_double(),\n",
      "  TD_pass = col_double(),\n",
      "  Rate = col_double(),\n",
      "  Sck = col_double(),\n",
      "  Pct = col_double(),\n",
      "  `Pts/G` = col_double(),\n",
      "  `Pen Yds` = col_double()\n",
      ")\n",
      "Warning message:\n",
      "“Missing column names filled in: 'X1' [1]”Parsed with column specification:\n",
      "cols(\n",
      "  .default = col_double(),\n",
      "  X1 = col_integer(),\n",
      "  team = col_character(),\n",
      "  year = col_integer()\n",
      ")\n",
      "See spec(...) for full column specifications.\n",
      "Parsed with column specification:\n",
      "cols(\n",
      "  Team = col_character(),\n",
      "  Year = col_integer(),\n",
      "  W = col_double(),\n",
      "  L = col_double(),\n",
      "  T = col_double(),\n",
      "  PF = col_double(),\n",
      "  PA = col_double(),\n",
      "  DIFF = col_double(),\n",
      "  Playoffs = col_double(),\n",
      "  SB_win = col_integer()\n",
      ")\n"
     ]
    }
   ],
   "source": [
    "offense <- read_csv('data/offense.csv')\n",
    "offense$Year <- offense$Year + 1\n",
    "\n",
    "defense <- read_csv('data/defense.csv')\n",
    "defense$Year <- defense$Year + 1\n",
    "\n",
    "salary <- read_csv('data/salary.csv')\n",
    "salary$X1 <- NULL\n",
    "colnames(salary)[1:2] <- c('Team', 'Year')\n",
    "\n",
    "standings <- read_csv('data/standings.csv')"
   ]
  },
  {
   "cell_type": "code",
   "execution_count": 35,
   "metadata": {},
   "outputs": [],
   "source": [
    "combined <- merge(offense, defense, by=c('Team', 'Year'), suffixes=c('_off', '_def'))\n",
    "combined <- merge(combined, salary, by=c('Team', 'Year'))\n",
    "combined <- merge(combined, standings, by=c('Team', 'Year'), all=TRUE)"
   ]
  },
  {
   "cell_type": "code",
   "execution_count": 64,
   "metadata": {},
   "outputs": [],
   "source": [
    "X <- select(combined, colnames(combined)[c(1:39)])\n",
    "y <- select(combined, colnames(combined)[c(1:2, 40:ncol(combined))])"
   ]
  },
  {
   "cell_type": "code",
   "execution_count": 65,
   "metadata": {},
   "outputs": [],
   "source": [
    "X_future <- X[X$Year == 2018,]\n",
    "\n",
    "X_valid <- X[X$Year == 2017,]\n",
    "y_valid <- y[y$Year == 2017,]"
   ]
  },
  {
   "cell_type": "code",
   "execution_count": 66,
   "metadata": {},
   "outputs": [],
   "source": [
    "X <- X[X$Year < 2017,]\n",
    "y <- y[y$Year < 2017,]"
   ]
  },
  {
   "cell_type": "code",
   "execution_count": 86,
   "metadata": {},
   "outputs": [],
   "source": [
    "train_size <- floor(0.7 * nrow(X))\n",
    "\n",
    "set.seed(42)\n",
    "\n",
    "train_ind <- sample(seq_len(nrow(X)), size=train_size)\n",
    "\n",
    "X_train <- X[train_ind, ]\n",
    "y_train <- y[train_ind, ]\n",
    "\n",
    "X_test <- X[-train_ind, ]\n",
    "y_test <- y[-train_ind, ]"
   ]
  },
  {
   "cell_type": "code",
   "execution_count": null,
   "metadata": {},
   "outputs": [],
   "source": []
  }
 ],
 "metadata": {
  "kernelspec": {
   "display_name": "R",
   "language": "R",
   "name": "ir"
  },
  "language_info": {
   "codemirror_mode": "r",
   "file_extension": ".r",
   "mimetype": "text/x-r-source",
   "name": "R",
   "pygments_lexer": "r",
   "version": "3.4.3"
  }
 },
 "nbformat": 4,
 "nbformat_minor": 2
}
