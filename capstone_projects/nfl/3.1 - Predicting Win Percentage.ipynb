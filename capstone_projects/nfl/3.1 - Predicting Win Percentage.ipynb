{
 "cells": [
  {
   "cell_type": "code",
   "execution_count": 1,
   "metadata": {},
   "outputs": [],
   "source": [
    "import pandas as pd\n",
    "import numpy as np\n",
    "import matplotlib.pyplot as plt\n",
    "import seaborn as sns\n",
    "import scikitplot as skp\n",
    "\n",
    "from sklearn.preprocessing import StandardScaler\n",
    "from sklearn.model_selection import (train_test_split, GridSearchCV, LeaveOneOut, KFold,\n",
    "                                     cross_val_score)\n",
    "\n",
    "from sklearn.linear_model import LinearRegression, Lasso\n",
    "from sklearn.tree import DecisionTreeRegressor\n",
    "from sklearn.ensemble import RandomForestRegressor\n",
    "\n",
    "from sklearn.metrics import r2_score, mean_squared_error\n",
    "\n",
    "%matplotlib inline"
   ]
  },
  {
   "cell_type": "code",
   "execution_count": 2,
   "metadata": {},
   "outputs": [],
   "source": [
    "# read offense data\n",
    "offense = pd.read_csv('data/offense.csv')\n",
    "# read defense data\n",
    "defense = pd.read_csv('data/defense.csv')\n",
    "# read salary data\n",
    "salary = pd.read_csv('data/salary.csv', index_col=0)\n",
    "# change columns (uppercase first letter) to match the other data\n",
    "salary.columns = ['Team', 'Year'] + list(salary.columns[2:])\n",
    "# read standings data\n",
    "standings = pd.read_csv('data/standings.csv')"
   ]
  },
  {
   "cell_type": "markdown",
   "metadata": {},
   "source": [
    "Need to fix the offense and defense stats so that they are the previous year. Can do this by adding 1 to the year before merging the datasets. Salary is known at the beginning of the season so the year doesn't have to change."
   ]
  },
  {
   "cell_type": "code",
   "execution_count": 3,
   "metadata": {},
   "outputs": [],
   "source": [
    "offense['Year'] += 1\n",
    "defense['Year'] += 1"
   ]
  },
  {
   "cell_type": "code",
   "execution_count": 4,
   "metadata": {},
   "outputs": [],
   "source": [
    "# merge the offense and defense data with suffixes\n",
    "combined = pd.merge(offense, defense, on=['Team', 'Year'], suffixes=('_off', '_def'))\n",
    "# merge the salary data\n",
    "combined = pd.merge(combined, salary, on=['Team', 'Year'])\n",
    "# merge the standings dataframe - use left so 2018 data stays\n",
    "combined = pd.merge(combined, standings, on=['Team', 'Year'], how='left')"
   ]
  },
  {
   "cell_type": "code",
   "execution_count": 5,
   "metadata": {},
   "outputs": [],
   "source": [
    "# split out the X and y from combined\n",
    "X_all = combined[combined.columns[:-8]].copy()\n",
    "y_all = combined[combined.columns[-8:]].copy()\n",
    "\n",
    "# add team and year back into y\n",
    "y_all.insert(0, 'Team', X_all['Team'])\n",
    "y_all.insert(1, 'Year', X_all['Year'])\n",
    "\n",
    "# add win percentage column\n",
    "y_all['W_Pct'] = y_all['W'] / 16"
   ]
  },
  {
   "cell_type": "code",
   "execution_count": 6,
   "metadata": {},
   "outputs": [],
   "source": [
    "# scale X\n",
    "scaler = StandardScaler()\n",
    "\n",
    "X_scaled = pd.DataFrame(scaler.fit_transform(X_all[X_all.columns[2:]]),\n",
    "                        index=X_all.index, columns=X_all.columns[2:])\n",
    "\n",
    "X_scaled.insert(0, 'Team', X_all['Team'])\n",
    "X_scaled.insert(1, 'Year', X_all['Year'])"
   ]
  },
  {
   "cell_type": "code",
   "execution_count": 7,
   "metadata": {},
   "outputs": [],
   "source": [
    "# break out the 2018 data first (X_future)\n",
    "X_future = X_scaled[X_scaled['Year'] == 2018]\n",
    "y_future = y_all[y_all['Year'] == 2018]\n",
    "\n",
    "# get the validation set (2017)\n",
    "X_valid = X_scaled[X_scaled['Year'] == 2017].drop(['Team', 'Year'], axis=1)\n",
    "y_valid = y_all[y_all['Year'] == 2017].drop(['Team', 'Year'], axis=1)\n",
    "\n",
    "# remove the 2017 and 2018 data from X and y\n",
    "X = X_scaled[X_scaled['Year'] < 2017]\n",
    "y = y_all[y_all['Year'] < 2017]\n",
    "\n",
    "# keep team and year just in case\n",
    "team_year = X_scaled[['Team', 'Year']]\n",
    "\n",
    "# drop the team and year columns for X and y\n",
    "X = X.drop(['Team', 'Year'], axis=1)\n",
    "y = y.drop(['Team', 'Year'], axis=1)"
   ]
  },
  {
   "cell_type": "markdown",
   "metadata": {},
   "source": [
    "# Baseline Models\n",
    "\n",
    "Predicting win percentage (W_Pct)"
   ]
  },
  {
   "cell_type": "code",
   "execution_count": 53,
   "metadata": {},
   "outputs": [],
   "source": [
    "# split into train and test set\n",
    "\n",
    "target_var = 'W_Pct'\n",
    "rs = 0\n",
    "\n",
    "def get_train_test():\n",
    "    return train_test_split(X, y[target_var],\n",
    "                            test_size=0.3, random_state=rs)"
   ]
  },
  {
   "cell_type": "code",
   "execution_count": 54,
   "metadata": {},
   "outputs": [
    {
     "name": "stdout",
     "output_type": "stream",
     "text": [
      "R2 Score: 0.005861250327653833\n",
      "RMSE: 0.19644550199328642\n"
     ]
    },
    {
     "data": {
      "image/png": "[encoded data removed]",
      "text/plain": [
       "<Figure size 432x288 with 1 Axes>"
      ]
     },
     "metadata": {},
     "output_type": "display_data"
    }
   ],
   "source": [
    "lr = LinearRegression()\n",
    "\n",
    "lr.fit(X, y[target_var])\n",
    "\n",
    "y_pred = lr.predict(X_valid)\n",
    "\n",
    "print('R2 Score: {}'.format(r2_score(y_valid[target_var], y_pred)))\n",
    "print('RMSE: {}'.format(np.sqrt(mean_squared_error(y_valid[target_var], y_pred))))\n",
    "\n",
    "_ = plt.scatter(y_valid[target_var], y_pred, alpha=0.5)"
   ]
  },
  {
   "cell_type": "markdown",
   "metadata": {},
   "source": [
    "## Linear Regression with PCA "
   ]
  },
  {
   "cell_type": "code",
   "execution_count": 56,
   "metadata": {},
   "outputs": [],
   "source": [
    "from sklearn.decomposition import PCA\n",
    "\n",
    "pca = PCA(random_state=rs)\n",
    "\n",
    "X_pca = pd.DataFrame(pca.fit_transform(X), index=X.index)"
   ]
  },
  {
   "cell_type": "code",
   "execution_count": 57,
   "metadata": {},
   "outputs": [
    {
     "data": {
      "image/png": "[encoded data removed]",
      "text/plain": [
       "<Figure size 576x288 with 1 Axes>"
      ]
     },
     "metadata": {},
     "output_type": "display_data"
    }
   ],
   "source": [
    "pca.explained_variance_ratio_.cumsum()\n",
    "\n",
    "fig, ax = plt.subplots(1, 1, figsize=(8, 4))\n",
    "\n",
    "_ = ax.scatter(range(1, len(X_pca.columns)+1), pca.explained_variance_ratio_.cumsum())\n",
    "_ = ax.set(xlabel='Number of Principal Components', ylabel='Cumulative Explained Variance Ratio')\n",
    "_ = ax.grid()"
   ]
  },
  {
   "cell_type": "code",
   "execution_count": 58,
   "metadata": {},
   "outputs": [
    {
     "data": {
      "text/plain": [
       "0.0058612503276547212"
      ]
     },
     "execution_count": 58,
     "metadata": {},
     "output_type": "execute_result"
    }
   ],
   "source": [
    "lr = LinearRegression()\n",
    "lr.fit(X_pca, y[target_var])\n",
    "y_pred = lr.predict(pca.transform(X_valid))\n",
    "r2_score(y_valid[target_var], y_pred)"
   ]
  },
  {
   "cell_type": "code",
   "execution_count": 59,
   "metadata": {},
   "outputs": [
    {
     "name": "stdout",
     "output_type": "stream",
     "text": [
      "Best \n"
     ]
    },
    {
     "data": {
      "image/png": "[encoded data removed]",
      "text/plain": [
       "<Figure size 576x288 with 1 Axes>"
      ]
     },
     "metadata": {},
     "output_type": "display_data"
    }
   ],
   "source": [
    "lr = LinearRegression()\n",
    "\n",
    "cv_scores = []\n",
    "\n",
    "for i in range(1, len(X.columns)+1):\n",
    "    pca = PCA(n_components=i, random_state=rs)\n",
    "    X_pca = pca.fit_transform(X)\n",
    "    lr.fit(X_pca, y[target_var])\n",
    "    cv_scores.append(cross_val_score(lr, X_pca, y[target_var], cv=10).mean())\n",
    "\n",
    "cv_scores = np.array(cv_scores)\n",
    "best_n = cv_scores.argmax() + 1\n",
    "print('Best ')\n",
    "\n",
    "fig, ax = plt.subplots(1, 1, figsize=(8, 4))    \n",
    "    \n",
    "_ = ax.scatter(range(1, len(X.columns)+1), cv_scores)\n",
    "_ = ax.axvline(best_n, c='r', ls='--')\n",
    "_ = ax.set(xlabel='Number of Principal Components', ylabel='10-Fold CV Score')"
   ]
  },
  {
   "cell_type": "code",
   "execution_count": 60,
   "metadata": {},
   "outputs": [
    {
     "name": "stdout",
     "output_type": "stream",
     "text": [
      "Training R2: 0.3955\n",
      "Validation R2: 0.1376\n"
     ]
    }
   ],
   "source": [
    "pca = PCA(n_components=best_n, random_state=rs)\n",
    "X_pca = pca.fit_transform(X)\n",
    "lr.fit(X_pca, y[target_var])\n",
    "print('Training R2: {:.4f}'.format(lr.score(X_pca, y[target_var])))\n",
    "print('Validation R2: {:.4f}'.format(lr.score(pca.transform(X_valid), y_valid[target_var])))\n",
    "\n",
    "lr_pca_pred = lr.predict(pca.transform(X_valid))\n",
    "lr_pca_model = lr"
   ]
  },
  {
   "cell_type": "markdown",
   "metadata": {},
   "source": [
    "## Forward Subset Selection with Leave One Out Cross Validation"
   ]
  },
  {
   "cell_type": "code",
   "execution_count": 15,
   "metadata": {},
   "outputs": [],
   "source": [
    "fs_models = {}\n",
    "\n",
    "unused_vars = X.columns\n",
    "model_vars = []\n",
    "\n",
    "lr = LinearRegression()\n",
    "\n",
    "loo = LeaveOneOut()\n",
    "\n",
    "mse = []\n",
    "\n",
    "for i in range(1, len(X.columns) + 1):\n",
    "    best_mse = 1e100\n",
    "    for var in unused_vars:\n",
    "        loo_mse = []\n",
    "        for train_index, test_index in loo.split(X):\n",
    "            X_train, X_test = X.iloc[train_index], X.iloc[test_index]\n",
    "            y_train, y_test = y.iloc[train_index][target_var], y.iloc[test_index][target_var]\n",
    "            lr.fit(X_train[model_vars + [var]], y_train)\n",
    "            y_pred = lr.predict(X_test[model_vars + [var]])\n",
    "            loo_mse.append((y_test.values - y_pred) ** 2)\n",
    "        if np.mean(loo_mse) < best_mse:\n",
    "            best_mse = np.mean(loo_mse)\n",
    "            best_var = var\n",
    "    mse.append(best_mse)\n",
    "    model_vars.append(best_var)\n",
    "    unused_vars = unused_vars.drop(best_var)\n",
    "    fs_models[i] = [best_mse, model_vars.copy()]"
   ]
  },
  {
   "cell_type": "code",
   "execution_count": 16,
   "metadata": {},
   "outputs": [
    {
     "data": {
      "image/png": "[encoded data removed]",
      "text/plain": [
       "<Figure size 576x288 with 1 Axes>"
      ]
     },
     "metadata": {},
     "output_type": "display_data"
    }
   ],
   "source": [
    "min_pt = min(fs_models, key=fs_models.get)\n",
    "best_vars = fs_models[min_pt][1]\n",
    "\n",
    "fig, ax1 = plt.subplots(1, 1, figsize=(8, 4))\n",
    "\n",
    "_ = ax1.plot(range(1, len(X.columns)+1), mse)\n",
    "_ = ax1.axvline(min_pt, c='k', linestyle='dashed')\n",
    "_ = ax1.set(xlabel='Number of Variables', ylabel='MSE')"
   ]
  },
  {
   "cell_type": "code",
   "execution_count": 17,
   "metadata": {},
   "outputs": [
    {
     "name": "stdout",
     "output_type": "stream",
     "text": [
      "Training R2: 0.47432333263403276\n",
      "Validation R2: 0.05556385259156249\n"
     ]
    },
    {
     "data": {
      "image/png": "[encoded data removed]",
      "text/plain": [
       "<Figure size 576x288 with 1 Axes>"
      ]
     },
     "metadata": {},
     "output_type": "display_data"
    }
   ],
   "source": [
    "lr.fit(X[best_vars], y[target_var])\n",
    "print('Training R2: {}'.format(lr.score(X[best_vars], y[target_var])))\n",
    "print('Validation R2: {}'.format(lr.score(X_valid[best_vars], y_valid[target_var])))\n",
    "y_pred = lr.predict(X[best_vars])\n",
    "residuals = y[target_var] - y_pred\n",
    "\n",
    "fig, ax = plt.subplots(1, 1, figsize=(8, 4))\n",
    "\n",
    "_ = sns.regplot(y_pred, residuals, lowess=True, ax=ax)\n",
    "_ = ax.axhline(0, c='r')\n",
    "_ = ax.set(xlabel='Predicted Values', ylabel='Residual Errors')\n",
    "\n",
    "lr_pred = lr.predict(X_valid[best_vars])\n",
    "lr_model = lr"
   ]
  },
  {
   "cell_type": "markdown",
   "metadata": {},
   "source": [
    "## Lasso with 10-Fold Cross Validation"
   ]
  },
  {
   "cell_type": "code",
   "execution_count": 61,
   "metadata": {},
   "outputs": [],
   "source": [
    "from sklearn.model_selection import LeaveOneOut\n",
    "\n",
    "if target_var == 'W_Pct':\n",
    "    alphas = np.linspace(.001, .1, 100)\n",
    "elif target_var == 'DIFF':\n",
    "    alphas = np.linspace(0.1, 100, 100)\n",
    "\n",
    "lasso = Lasso()\n",
    "\n",
    "kf = KFold(n_splits=10, random_state=rs)\n",
    "\n",
    "mse = []\n",
    "coefs = []\n",
    "for a in alphas:\n",
    "    lasso.set_params(alpha=a)\n",
    "    kf_mse = []\n",
    "    for train_index, test_index in kf.split(X):\n",
    "        X_train, X_test = X.iloc[train_index], X.iloc[test_index]\n",
    "        y_train, y_test = y.iloc[train_index][target_var], y.iloc[test_index][target_var]\n",
    "        lasso.fit(X_train, y_train)\n",
    "        y_pred = lasso.predict(X_test)\n",
    "        kf_mse.append(np.mean((y_test.values - y_pred) ** 2))\n",
    "    lasso.fit(X, y[target_var])\n",
    "    coefs.append(lasso.coef_)\n",
    "    mse.append(np.mean(kf_mse))\n",
    "coefs = np.array(coefs)\n",
    "mse = np.array(mse)"
   ]
  },
  {
   "cell_type": "code",
   "execution_count": 62,
   "metadata": {},
   "outputs": [
    {
     "data": {
      "image/png": "[encoded data removed]",
      "text/plain": [
       "<Figure size 864x288 with 2 Axes>"
      ]
     },
     "metadata": {},
     "output_type": "display_data"
    }
   ],
   "source": [
    "fig, (ax1, ax2) = plt.subplots(1, 2, figsize=(12, 4))\n",
    "\n",
    "ax1.semilogx(alphas, mse, color='blue')\n",
    "min_ind = mse.argmin()\n",
    "ax1_ylim = ax1.get_ylim()\n",
    "ax1.axvline(alphas[min_ind], linestyle='dashed', color='k', linewidth=1)\n",
    "ax1.set(ylim=ax1_ylim, xlabel=r'$\\lambda$', ylabel='Cross-Validation Error')\n",
    "\n",
    "for i in range(len(X.columns)):\n",
    "    ax2.semilogx(alphas, coefs[:, i], label=X.columns[i])\n",
    "    \n",
    "ax2.axvline(alphas[min_ind], linestyle='dashed', color='k', linewidth=1)\n",
    "if target_var == 'W_Pct':\n",
    "    xlim = (.001, .01)\n",
    "elif target_var == 'DIFF':\n",
    "    xlim = (1, 5)\n",
    "_ = ax2.set(xlim=xlim, xlabel=r'$\\lambda$', ylabel='Standardized Coefficients')"
   ]
  },
  {
   "cell_type": "code",
   "execution_count": 63,
   "metadata": {},
   "outputs": [
    {
     "name": "stdout",
     "output_type": "stream",
     "text": [
      "Training R2: 0.43574671734155224\n",
      "validation R2: 0.2250462209808245\n"
     ]
    },
    {
     "data": {
      "image/png": "[encoded data removed]",
      "text/plain": [
       "<Figure size 432x288 with 1 Axes>"
      ]
     },
     "metadata": {},
     "output_type": "display_data"
    }
   ],
   "source": [
    "lasso.set_params(alpha=alphas[min_ind])\n",
    "lasso.fit(X, y[target_var])\n",
    "print('Training R2: {}'.format(lasso.score(X, y[target_var])))\n",
    "print('validation R2: {}'.format(lasso.score(X_valid, y_valid[target_var])))\n",
    "y_pred = lasso.predict(X)\n",
    "\n",
    "residuals = y[target_var] - y_pred\n",
    "\n",
    "sns.regplot(y_pred, residuals, lowess=True)\n",
    "plt.axhline(0, c='r')\n",
    "\n",
    "lasso_pred = lasso.predict(X_valid)\n",
    "lasso_model = lasso"
   ]
  },
  {
   "cell_type": "markdown",
   "metadata": {},
   "source": [
    "## Random Forest Regression with Grid Search"
   ]
  },
  {
   "cell_type": "code",
   "execution_count": 64,
   "metadata": {},
   "outputs": [
    {
     "name": "stdout",
     "output_type": "stream",
     "text": [
      "0.0615293895727 {'max_depth': 4, 'min_samples_leaf': 1, 'min_samples_split': 2}\n"
     ]
    }
   ],
   "source": [
    "rf = RandomForestRegressor(n_estimators=100, random_state=rs)\n",
    "\n",
    "param_grid = {\n",
    "    'max_depth': range(1, 10),\n",
    "    'min_samples_leaf': range(1, 4),\n",
    "    'min_samples_split': range(2, 5)\n",
    "}\n",
    "\n",
    "gs = GridSearchCV(rf, param_grid, n_jobs=-1, cv=10)\n",
    "gs.fit(X, y[target_var])\n",
    "\n",
    "print(gs.best_score_, gs.best_params_)"
   ]
  },
  {
   "cell_type": "code",
   "execution_count": 65,
   "metadata": {},
   "outputs": [
    {
     "name": "stdout",
     "output_type": "stream",
     "text": [
      "Training R2: 0.6911399403023633\n",
      "Validation R2: 0.17190022702694485\n"
     ]
    },
    {
     "data": {
      "image/png": "[encoded data removed]",
      "text/plain": [
       "<Figure size 576x288 with 1 Axes>"
      ]
     },
     "metadata": {},
     "output_type": "display_data"
    }
   ],
   "source": [
    "rf = gs.best_estimator_\n",
    "\n",
    "print('Training R2: {}'.format(rf.score(X, y[target_var])))\n",
    "print('Validation R2: {}'.format(rf.score(X_valid, y_valid[target_var])))\n",
    "\n",
    "y_pred = rf.predict(X)\n",
    "\n",
    "residuals = y[target_var] - y_pred\n",
    "\n",
    "fig, ax = plt.subplots(1, 1, figsize=(8, 4))\n",
    "\n",
    "_ = sns.regplot(y_pred, residuals, lowess=True, ax=ax)\n",
    "_ = ax.axhline(0, c='r')\n",
    "\n",
    "rf_pred = rf.predict(X_valid)"
   ]
  },
  {
   "cell_type": "code",
   "execution_count": 66,
   "metadata": {
    "scrolled": false
   },
   "outputs": [
    {
     "data": {
      "image/png": "[encoded data removed]",
      "text/plain": [
       "<Figure size 720x720 with 1 Axes>"
      ]
     },
     "metadata": {},
     "output_type": "display_data"
    }
   ],
   "source": [
    "indices = np.argsort(rf.feature_importances_)\n",
    "\n",
    "fig, ax = plt.subplots(1, 1, figsize=(10, 10))\n",
    "\n",
    "_ = ax.barh(range(len(indices)), rf.feature_importances_[indices], align='center')\n",
    "_ = plt.yticks(range(len(indices)), X.columns[indices])\n",
    "_ = ax.set(xlabel='Feature Importance', ylabel='Feature')"
   ]
  },
  {
   "cell_type": "markdown",
   "metadata": {},
   "source": [
    "## Blending Models"
   ]
  },
  {
   "cell_type": "code",
   "execution_count": 250,
   "metadata": {},
   "outputs": [],
   "source": [
    "models = [lr_model, lr_pca_model, lasso_model, rf_model]\n",
    "\n",
    "preds = pd.DataFrame([lr_pred, lr_pca_pred, lasso_pred, rf_pred]).T\n",
    "preds.columns = ['lr', 'lr_pca', 'lasso', 'rf']"
   ]
  },
  {
   "cell_type": "markdown",
   "metadata": {},
   "source": [
    "#### Average of Predictions"
   ]
  },
  {
   "cell_type": "code",
   "execution_count": 279,
   "metadata": {},
   "outputs": [
    {
     "name": "stdout",
     "output_type": "stream",
     "text": [
      "lr_pca  Validation R2: 0.1376\n",
      " lasso  Validation R2: 0.2250\n",
      "  rf    Validation R2: 0.1719\n",
      "Blended Validation R2: 0.2210\n",
      "\n",
      "lr_pca  Validation MSE: 0.0335\n",
      " lasso  Validation MSE: 0.0301\n",
      "  rf    Validation MSE: 0.0321\n",
      "Blended Validation MSE: 0.0302\n"
     ]
    }
   ],
   "source": [
    "for col in preds.columns:\n",
    "    print('{:^7} Validation R2: {:.4f}'.format(col, r2_score(y_valid[target_var], preds[col])))\n",
    "print('Blended Validation R2: {:.4f}\\n'.format(r2_score(y_valid[target_var], preds.mean(axis=1))))\n",
    "\n",
    "for col in preds.columns:\n",
    "    print('{:^7} Validation MSE: {:.4f}'.format(col, mean_squared_error(y_valid[target_var], preds[col])))\n",
    "print('Blended Validation MSE: {:.4f}'.format(mean_squared_error(y_valid[target_var], preds.mean(axis=1))))"
   ]
  },
  {
   "cell_type": "markdown",
   "metadata": {},
   "source": [
    "#### Linear Regression of Predictions"
   ]
  },
  {
   "cell_type": "code",
   "execution_count": 280,
   "metadata": {},
   "outputs": [
    {
     "name": "stdout",
     "output_type": "stream",
     "text": [
      "Linear Regression Model Blend R2: 0.2727666380574316\n",
      "Linear Regression Model Blend MSE: 0.028230005993376068\n"
     ]
    }
   ],
   "source": [
    "lr = LinearRegression()\n",
    "\n",
    "lr.fit(preds, y_valid[target_var])\n",
    "\n",
    "y_pred = lr.predict(preds)\n",
    "\n",
    "print('Linear Regression Model Blend R2: {}'.format(r2_score(y_valid[target_var], y_pred)))\n",
    "print('Linear Regression Model Blend MSE: {}'.format(mean_squared_error(y_valid[target_var], y_pred)))"
   ]
  },
  {
   "cell_type": "code",
   "execution_count": 281,
   "metadata": {},
   "outputs": [
    {
     "data": {
      "text/plain": [
       "<matplotlib.collections.PathCollection at 0x2a55975c978>"
      ]
     },
     "execution_count": 281,
     "metadata": {},
     "output_type": "execute_result"
    },
    {
     "data": {
      "image/png": "[encoded data removed]",
      "text/plain": [
       "<Figure size 432x288 with 1 Axes>"
      ]
     },
     "metadata": {},
     "output_type": "display_data"
    }
   ],
   "source": [
    "plt.scatter(y_valid[target_var], y_pred)"
   ]
  },
  {
   "cell_type": "code",
   "execution_count": 282,
   "metadata": {},
   "outputs": [
    {
     "data": {
      "text/plain": [
       "[('BUF', 2017, 0.5625, 0.44134341303305513),\n",
       " ('DAL', 2017, 0.5625, 0.6458068376130881),\n",
       " ('TEN', 2017, 0.5625, 0.63694153566997769),\n",
       " ('SF', 2017, 0.375, 0.23010844298190297),\n",
       " ('ATL', 2017, 0.625, 0.62162096388271859),\n",
       " ('OAK', 2017, 0.375, 0.53500165965186364),\n",
       " ('NE', 2017, 0.8125, 0.67587406299575115),\n",
       " ('HOU', 2017, 0.25, 0.37190498312597731),\n",
       " ('MIA', 2017, 0.375, 0.4386711358335702),\n",
       " ('CAR', 2017, 0.6875, 0.51374213862554152),\n",
       " ('PHI', 2017, 0.8125, 0.58642317408614186),\n",
       " ('NYJ', 2017, 0.3125, 0.38648147895319607),\n",
       " ('CIN', 2017, 0.4375, 0.43909477725633517),\n",
       " ('PIT', 2017, 0.8125, 0.62129056495436741),\n",
       " ('KC', 2017, 0.625, 0.70893559286688768),\n",
       " ('NO', 2017, 0.6875, 0.39089573371837305),\n",
       " ('CHI', 2017, 0.3125, 0.54136073660205042),\n",
       " ('ARI', 2017, 0.5, 0.42530208825950122),\n",
       " ('CLE', 2017, 0.0, 0.4257946477633211),\n",
       " ('GB', 2017, 0.4375, 0.55342203987181238),\n",
       " ('WAS', 2017, 0.4375, 0.41916507982066087),\n",
       " ('JAC', 2017, 0.625, 0.4094629795616902),\n",
       " ('IND', 2017, 0.25, 0.37751136432354915),\n",
       " ('TB', 2017, 0.3125, 0.51496478077403973),\n",
       " ('SEA', 2017, 0.5625, 0.54991533256651481),\n",
       " ('LAC', 2017, 0.5625, 0.43904199368277763),\n",
       " ('DEN', 2017, 0.3125, 0.48965809699602358),\n",
       " ('BAL', 2017, 0.5625, 0.50270276984407614),\n",
       " ('NYG', 2017, 0.1875, 0.46458561252969277),\n",
       " ('DET', 2017, 0.5625, 0.5577313008800544),\n",
       " ('LA', 2017, 0.6875, 0.52338553484931138),\n",
       " ('MIN', 2017, 0.8125, 0.56185914642617796)]"
      ]
     },
     "execution_count": 282,
     "metadata": {},
     "output_type": "execute_result"
    }
   ],
   "source": [
    "list(zip(team_year[team_year['Year'] == 2017]['Team'], \n",
    "         team_year[team_year['Year'] == 2017]['Year'],\n",
    "         y_valid[target_var], y_pred))"
   ]
  },
  {
   "cell_type": "markdown",
   "metadata": {},
   "source": [
    "## 2017 Playoff Predictions "
   ]
  },
  {
   "cell_type": "code",
   "execution_count": 283,
   "metadata": {},
   "outputs": [],
   "source": [
    "divisions = {\n",
    "    'afc_east': ['NE', 'BUF', 'MIA', 'NYJ'],\n",
    "    'afc_north': ['PIT', 'BAL', 'CIN', 'CLE'],\n",
    "    'afc_south': ['JAC', 'TEN', 'IND', 'HOU'],\n",
    "    'afc_west': ['KC', 'LAC', 'OAK', 'DEN'],\n",
    "    'nfc_east': ['PHI', 'DAL', 'WAS', 'NYG'],\n",
    "    'nfc_north': ['MIN', 'DET', 'GB', 'CHI'],\n",
    "    'nfc_south': ['NO', 'CAR', 'ATL', 'TB'],\n",
    "    'nfc_west': ['LA', 'SEA', 'ARI', 'SF']\n",
    "}"
   ]
  },
  {
   "cell_type": "code",
   "execution_count": 285,
   "metadata": {},
   "outputs": [],
   "source": [
    "pred_df = team_year[team_year['Year'] == 2017].copy()\n",
    "pred_df['actual'] = y_valid[target_var]\n",
    "pred_df['predicted'] = y_pred"
   ]
  },
  {
   "cell_type": "code",
   "execution_count": 286,
   "metadata": {
    "scrolled": true
   },
   "outputs": [
    {
     "name": "stdout",
     "output_type": "stream",
     "text": [
      "afc_east\n"
     ]
    },
    {
     "data": {
      "text/html": [
       "<div>\n",
       "<style scoped>\n",
       "    .dataframe tbody tr th:only-of-type {\n",
       "        vertical-align: middle;\n",
       "    }\n",
       "\n",
       "    .dataframe tbody tr th {\n",
       "        vertical-align: top;\n",
       "    }\n",
       "\n",
       "    .dataframe thead th {\n",
       "        text-align: right;\n",
       "    }\n",
       "</style>\n",
       "<table border=\"1\" class=\"dataframe\">\n",
       "  <thead>\n",
       "    <tr style=\"text-align: right;\">\n",
       "      <th></th>\n",
       "      <th>Team</th>\n",
       "      <th>Year</th>\n",
       "      <th>actual</th>\n",
       "      <th>predicted</th>\n",
       "      <th>actual_rank</th>\n",
       "      <th>predicted_rank</th>\n",
       "    </tr>\n",
       "  </thead>\n",
       "  <tbody>\n",
       "    <tr>\n",
       "      <th>134</th>\n",
       "      <td>NE</td>\n",
       "      <td>2017</td>\n",
       "      <td>0.8125</td>\n",
       "      <td>0.675874</td>\n",
       "      <td>1</td>\n",
       "      <td>1</td>\n",
       "    </tr>\n",
       "    <tr>\n",
       "      <th>128</th>\n",
       "      <td>BUF</td>\n",
       "      <td>2017</td>\n",
       "      <td>0.5625</td>\n",
       "      <td>0.441343</td>\n",
       "      <td>2</td>\n",
       "      <td>2</td>\n",
       "    </tr>\n",
       "    <tr>\n",
       "      <th>136</th>\n",
       "      <td>MIA</td>\n",
       "      <td>2017</td>\n",
       "      <td>0.3750</td>\n",
       "      <td>0.438671</td>\n",
       "      <td>3</td>\n",
       "      <td>3</td>\n",
       "    </tr>\n",
       "    <tr>\n",
       "      <th>139</th>\n",
       "      <td>NYJ</td>\n",
       "      <td>2017</td>\n",
       "      <td>0.3125</td>\n",
       "      <td>0.386481</td>\n",
       "      <td>4</td>\n",
       "      <td>4</td>\n",
       "    </tr>\n",
       "  </tbody>\n",
       "</table>\n",
       "</div>"
      ],
      "text/plain": [
       "    Team  Year  actual  predicted  actual_rank  predicted_rank\n",
       "134   NE  2017  0.8125   0.675874            1               1\n",
       "128  BUF  2017  0.5625   0.441343            2               2\n",
       "136  MIA  2017  0.3750   0.438671            3               3\n",
       "139  NYJ  2017  0.3125   0.386481            4               4"
      ]
     },
     "metadata": {},
     "output_type": "display_data"
    },
    {
     "name": "stdout",
     "output_type": "stream",
     "text": [
      "afc_north\n"
     ]
    },
    {
     "data": {
      "text/html": [
       "<div>\n",
       "<style scoped>\n",
       "    .dataframe tbody tr th:only-of-type {\n",
       "        vertical-align: middle;\n",
       "    }\n",
       "\n",
       "    .dataframe tbody tr th {\n",
       "        vertical-align: top;\n",
       "    }\n",
       "\n",
       "    .dataframe thead th {\n",
       "        text-align: right;\n",
       "    }\n",
       "</style>\n",
       "<table border=\"1\" class=\"dataframe\">\n",
       "  <thead>\n",
       "    <tr style=\"text-align: right;\">\n",
       "      <th></th>\n",
       "      <th>Team</th>\n",
       "      <th>Year</th>\n",
       "      <th>actual</th>\n",
       "      <th>predicted</th>\n",
       "      <th>actual_rank</th>\n",
       "      <th>predicted_rank</th>\n",
       "    </tr>\n",
       "  </thead>\n",
       "  <tbody>\n",
       "    <tr>\n",
       "      <th>141</th>\n",
       "      <td>PIT</td>\n",
       "      <td>2017</td>\n",
       "      <td>0.8125</td>\n",
       "      <td>0.621291</td>\n",
       "      <td>1</td>\n",
       "      <td>1</td>\n",
       "    </tr>\n",
       "    <tr>\n",
       "      <th>155</th>\n",
       "      <td>BAL</td>\n",
       "      <td>2017</td>\n",
       "      <td>0.5625</td>\n",
       "      <td>0.502703</td>\n",
       "      <td>2</td>\n",
       "      <td>2</td>\n",
       "    </tr>\n",
       "    <tr>\n",
       "      <th>140</th>\n",
       "      <td>CIN</td>\n",
       "      <td>2017</td>\n",
       "      <td>0.4375</td>\n",
       "      <td>0.439095</td>\n",
       "      <td>3</td>\n",
       "      <td>3</td>\n",
       "    </tr>\n",
       "    <tr>\n",
       "      <th>146</th>\n",
       "      <td>CLE</td>\n",
       "      <td>2017</td>\n",
       "      <td>0.0000</td>\n",
       "      <td>0.425795</td>\n",
       "      <td>4</td>\n",
       "      <td>4</td>\n",
       "    </tr>\n",
       "  </tbody>\n",
       "</table>\n",
       "</div>"
      ],
      "text/plain": [
       "    Team  Year  actual  predicted  actual_rank  predicted_rank\n",
       "141  PIT  2017  0.8125   0.621291            1               1\n",
       "155  BAL  2017  0.5625   0.502703            2               2\n",
       "140  CIN  2017  0.4375   0.439095            3               3\n",
       "146  CLE  2017  0.0000   0.425795            4               4"
      ]
     },
     "metadata": {},
     "output_type": "display_data"
    },
    {
     "name": "stdout",
     "output_type": "stream",
     "text": [
      "afc_south\n"
     ]
    },
    {
     "data": {
      "text/html": [
       "<div>\n",
       "<style scoped>\n",
       "    .dataframe tbody tr th:only-of-type {\n",
       "        vertical-align: middle;\n",
       "    }\n",
       "\n",
       "    .dataframe tbody tr th {\n",
       "        vertical-align: top;\n",
       "    }\n",
       "\n",
       "    .dataframe thead th {\n",
       "        text-align: right;\n",
       "    }\n",
       "</style>\n",
       "<table border=\"1\" class=\"dataframe\">\n",
       "  <thead>\n",
       "    <tr style=\"text-align: right;\">\n",
       "      <th></th>\n",
       "      <th>Team</th>\n",
       "      <th>Year</th>\n",
       "      <th>actual</th>\n",
       "      <th>predicted</th>\n",
       "      <th>actual_rank</th>\n",
       "      <th>predicted_rank</th>\n",
       "    </tr>\n",
       "  </thead>\n",
       "  <tbody>\n",
       "    <tr>\n",
       "      <th>149</th>\n",
       "      <td>JAC</td>\n",
       "      <td>2017</td>\n",
       "      <td>0.6250</td>\n",
       "      <td>0.409463</td>\n",
       "      <td>1</td>\n",
       "      <td>2</td>\n",
       "    </tr>\n",
       "    <tr>\n",
       "      <th>130</th>\n",
       "      <td>TEN</td>\n",
       "      <td>2017</td>\n",
       "      <td>0.5625</td>\n",
       "      <td>0.636942</td>\n",
       "      <td>2</td>\n",
       "      <td>1</td>\n",
       "    </tr>\n",
       "    <tr>\n",
       "      <th>135</th>\n",
       "      <td>HOU</td>\n",
       "      <td>2017</td>\n",
       "      <td>0.2500</td>\n",
       "      <td>0.371905</td>\n",
       "      <td>3</td>\n",
       "      <td>4</td>\n",
       "    </tr>\n",
       "    <tr>\n",
       "      <th>150</th>\n",
       "      <td>IND</td>\n",
       "      <td>2017</td>\n",
       "      <td>0.2500</td>\n",
       "      <td>0.377511</td>\n",
       "      <td>3</td>\n",
       "      <td>3</td>\n",
       "    </tr>\n",
       "  </tbody>\n",
       "</table>\n",
       "</div>"
      ],
      "text/plain": [
       "    Team  Year  actual  predicted  actual_rank  predicted_rank\n",
       "149  JAC  2017  0.6250   0.409463            1               2\n",
       "130  TEN  2017  0.5625   0.636942            2               1\n",
       "135  HOU  2017  0.2500   0.371905            3               4\n",
       "150  IND  2017  0.2500   0.377511            3               3"
      ]
     },
     "metadata": {},
     "output_type": "display_data"
    },
    {
     "name": "stdout",
     "output_type": "stream",
     "text": [
      "afc_west\n"
     ]
    },
    {
     "data": {
      "text/html": [
       "<div>\n",
       "<style scoped>\n",
       "    .dataframe tbody tr th:only-of-type {\n",
       "        vertical-align: middle;\n",
       "    }\n",
       "\n",
       "    .dataframe tbody tr th {\n",
       "        vertical-align: top;\n",
       "    }\n",
       "\n",
       "    .dataframe thead th {\n",
       "        text-align: right;\n",
       "    }\n",
       "</style>\n",
       "<table border=\"1\" class=\"dataframe\">\n",
       "  <thead>\n",
       "    <tr style=\"text-align: right;\">\n",
       "      <th></th>\n",
       "      <th>Team</th>\n",
       "      <th>Year</th>\n",
       "      <th>actual</th>\n",
       "      <th>predicted</th>\n",
       "      <th>actual_rank</th>\n",
       "      <th>predicted_rank</th>\n",
       "    </tr>\n",
       "  </thead>\n",
       "  <tbody>\n",
       "    <tr>\n",
       "      <th>142</th>\n",
       "      <td>KC</td>\n",
       "      <td>2017</td>\n",
       "      <td>0.6250</td>\n",
       "      <td>0.708936</td>\n",
       "      <td>1</td>\n",
       "      <td>1</td>\n",
       "    </tr>\n",
       "    <tr>\n",
       "      <th>153</th>\n",
       "      <td>LAC</td>\n",
       "      <td>2017</td>\n",
       "      <td>0.5625</td>\n",
       "      <td>0.439042</td>\n",
       "      <td>2</td>\n",
       "      <td>4</td>\n",
       "    </tr>\n",
       "    <tr>\n",
       "      <th>133</th>\n",
       "      <td>OAK</td>\n",
       "      <td>2017</td>\n",
       "      <td>0.3750</td>\n",
       "      <td>0.535002</td>\n",
       "      <td>3</td>\n",
       "      <td>2</td>\n",
       "    </tr>\n",
       "    <tr>\n",
       "      <th>154</th>\n",
       "      <td>DEN</td>\n",
       "      <td>2017</td>\n",
       "      <td>0.3125</td>\n",
       "      <td>0.489658</td>\n",
       "      <td>4</td>\n",
       "      <td>3</td>\n",
       "    </tr>\n",
       "  </tbody>\n",
       "</table>\n",
       "</div>"
      ],
      "text/plain": [
       "    Team  Year  actual  predicted  actual_rank  predicted_rank\n",
       "142   KC  2017  0.6250   0.708936            1               1\n",
       "153  LAC  2017  0.5625   0.439042            2               4\n",
       "133  OAK  2017  0.3750   0.535002            3               2\n",
       "154  DEN  2017  0.3125   0.489658            4               3"
      ]
     },
     "metadata": {},
     "output_type": "display_data"
    },
    {
     "name": "stdout",
     "output_type": "stream",
     "text": [
      "nfc_east\n"
     ]
    },
    {
     "data": {
      "text/html": [
       "<div>\n",
       "<style scoped>\n",
       "    .dataframe tbody tr th:only-of-type {\n",
       "        vertical-align: middle;\n",
       "    }\n",
       "\n",
       "    .dataframe tbody tr th {\n",
       "        vertical-align: top;\n",
       "    }\n",
       "\n",
       "    .dataframe thead th {\n",
       "        text-align: right;\n",
       "    }\n",
       "</style>\n",
       "<table border=\"1\" class=\"dataframe\">\n",
       "  <thead>\n",
       "    <tr style=\"text-align: right;\">\n",
       "      <th></th>\n",
       "      <th>Team</th>\n",
       "      <th>Year</th>\n",
       "      <th>actual</th>\n",
       "      <th>predicted</th>\n",
       "      <th>actual_rank</th>\n",
       "      <th>predicted_rank</th>\n",
       "    </tr>\n",
       "  </thead>\n",
       "  <tbody>\n",
       "    <tr>\n",
       "      <th>138</th>\n",
       "      <td>PHI</td>\n",
       "      <td>2017</td>\n",
       "      <td>0.8125</td>\n",
       "      <td>0.586423</td>\n",
       "      <td>1</td>\n",
       "      <td>2</td>\n",
       "    </tr>\n",
       "    <tr>\n",
       "      <th>129</th>\n",
       "      <td>DAL</td>\n",
       "      <td>2017</td>\n",
       "      <td>0.5625</td>\n",
       "      <td>0.645807</td>\n",
       "      <td>2</td>\n",
       "      <td>1</td>\n",
       "    </tr>\n",
       "    <tr>\n",
       "      <th>148</th>\n",
       "      <td>WAS</td>\n",
       "      <td>2017</td>\n",
       "      <td>0.4375</td>\n",
       "      <td>0.419165</td>\n",
       "      <td>3</td>\n",
       "      <td>4</td>\n",
       "    </tr>\n",
       "    <tr>\n",
       "      <th>156</th>\n",
       "      <td>NYG</td>\n",
       "      <td>2017</td>\n",
       "      <td>0.1875</td>\n",
       "      <td>0.464586</td>\n",
       "      <td>4</td>\n",
       "      <td>3</td>\n",
       "    </tr>\n",
       "  </tbody>\n",
       "</table>\n",
       "</div>"
      ],
      "text/plain": [
       "    Team  Year  actual  predicted  actual_rank  predicted_rank\n",
       "138  PHI  2017  0.8125   0.586423            1               2\n",
       "129  DAL  2017  0.5625   0.645807            2               1\n",
       "148  WAS  2017  0.4375   0.419165            3               4\n",
       "156  NYG  2017  0.1875   0.464586            4               3"
      ]
     },
     "metadata": {},
     "output_type": "display_data"
    },
    {
     "name": "stdout",
     "output_type": "stream",
     "text": [
      "nfc_north\n"
     ]
    },
    {
     "data": {
      "text/html": [
       "<div>\n",
       "<style scoped>\n",
       "    .dataframe tbody tr th:only-of-type {\n",
       "        vertical-align: middle;\n",
       "    }\n",
       "\n",
       "    .dataframe tbody tr th {\n",
       "        vertical-align: top;\n",
       "    }\n",
       "\n",
       "    .dataframe thead th {\n",
       "        text-align: right;\n",
       "    }\n",
       "</style>\n",
       "<table border=\"1\" class=\"dataframe\">\n",
       "  <thead>\n",
       "    <tr style=\"text-align: right;\">\n",
       "      <th></th>\n",
       "      <th>Team</th>\n",
       "      <th>Year</th>\n",
       "      <th>actual</th>\n",
       "      <th>predicted</th>\n",
       "      <th>actual_rank</th>\n",
       "      <th>predicted_rank</th>\n",
       "    </tr>\n",
       "  </thead>\n",
       "  <tbody>\n",
       "    <tr>\n",
       "      <th>159</th>\n",
       "      <td>MIN</td>\n",
       "      <td>2017</td>\n",
       "      <td>0.8125</td>\n",
       "      <td>0.561859</td>\n",
       "      <td>1</td>\n",
       "      <td>1</td>\n",
       "    </tr>\n",
       "    <tr>\n",
       "      <th>157</th>\n",
       "      <td>DET</td>\n",
       "      <td>2017</td>\n",
       "      <td>0.5625</td>\n",
       "      <td>0.557731</td>\n",
       "      <td>2</td>\n",
       "      <td>2</td>\n",
       "    </tr>\n",
       "    <tr>\n",
       "      <th>147</th>\n",
       "      <td>GB</td>\n",
       "      <td>2017</td>\n",
       "      <td>0.4375</td>\n",
       "      <td>0.553422</td>\n",
       "      <td>3</td>\n",
       "      <td>3</td>\n",
       "    </tr>\n",
       "    <tr>\n",
       "      <th>144</th>\n",
       "      <td>CHI</td>\n",
       "      <td>2017</td>\n",
       "      <td>0.3125</td>\n",
       "      <td>0.541361</td>\n",
       "      <td>4</td>\n",
       "      <td>4</td>\n",
       "    </tr>\n",
       "  </tbody>\n",
       "</table>\n",
       "</div>"
      ],
      "text/plain": [
       "    Team  Year  actual  predicted  actual_rank  predicted_rank\n",
       "159  MIN  2017  0.8125   0.561859            1               1\n",
       "157  DET  2017  0.5625   0.557731            2               2\n",
       "147   GB  2017  0.4375   0.553422            3               3\n",
       "144  CHI  2017  0.3125   0.541361            4               4"
      ]
     },
     "metadata": {},
     "output_type": "display_data"
    },
    {
     "name": "stdout",
     "output_type": "stream",
     "text": [
      "nfc_south\n"
     ]
    },
    {
     "data": {
      "text/html": [
       "<div>\n",
       "<style scoped>\n",
       "    .dataframe tbody tr th:only-of-type {\n",
       "        vertical-align: middle;\n",
       "    }\n",
       "\n",
       "    .dataframe tbody tr th {\n",
       "        vertical-align: top;\n",
       "    }\n",
       "\n",
       "    .dataframe thead th {\n",
       "        text-align: right;\n",
       "    }\n",
       "</style>\n",
       "<table border=\"1\" class=\"dataframe\">\n",
       "  <thead>\n",
       "    <tr style=\"text-align: right;\">\n",
       "      <th></th>\n",
       "      <th>Team</th>\n",
       "      <th>Year</th>\n",
       "      <th>actual</th>\n",
       "      <th>predicted</th>\n",
       "      <th>actual_rank</th>\n",
       "      <th>predicted_rank</th>\n",
       "    </tr>\n",
       "  </thead>\n",
       "  <tbody>\n",
       "    <tr>\n",
       "      <th>137</th>\n",
       "      <td>CAR</td>\n",
       "      <td>2017</td>\n",
       "      <td>0.6875</td>\n",
       "      <td>0.513742</td>\n",
       "      <td>1</td>\n",
       "      <td>3</td>\n",
       "    </tr>\n",
       "    <tr>\n",
       "      <th>143</th>\n",
       "      <td>NO</td>\n",
       "      <td>2017</td>\n",
       "      <td>0.6875</td>\n",
       "      <td>0.390896</td>\n",
       "      <td>1</td>\n",
       "      <td>4</td>\n",
       "    </tr>\n",
       "    <tr>\n",
       "      <th>132</th>\n",
       "      <td>ATL</td>\n",
       "      <td>2017</td>\n",
       "      <td>0.6250</td>\n",
       "      <td>0.621621</td>\n",
       "      <td>3</td>\n",
       "      <td>1</td>\n",
       "    </tr>\n",
       "    <tr>\n",
       "      <th>151</th>\n",
       "      <td>TB</td>\n",
       "      <td>2017</td>\n",
       "      <td>0.3125</td>\n",
       "      <td>0.514965</td>\n",
       "      <td>4</td>\n",
       "      <td>2</td>\n",
       "    </tr>\n",
       "  </tbody>\n",
       "</table>\n",
       "</div>"
      ],
      "text/plain": [
       "    Team  Year  actual  predicted  actual_rank  predicted_rank\n",
       "137  CAR  2017  0.6875   0.513742            1               3\n",
       "143   NO  2017  0.6875   0.390896            1               4\n",
       "132  ATL  2017  0.6250   0.621621            3               1\n",
       "151   TB  2017  0.3125   0.514965            4               2"
      ]
     },
     "metadata": {},
     "output_type": "display_data"
    },
    {
     "name": "stdout",
     "output_type": "stream",
     "text": [
      "nfc_west\n"
     ]
    },
    {
     "data": {
      "text/html": [
       "<div>\n",
       "<style scoped>\n",
       "    .dataframe tbody tr th:only-of-type {\n",
       "        vertical-align: middle;\n",
       "    }\n",
       "\n",
       "    .dataframe tbody tr th {\n",
       "        vertical-align: top;\n",
       "    }\n",
       "\n",
       "    .dataframe thead th {\n",
       "        text-align: right;\n",
       "    }\n",
       "</style>\n",
       "<table border=\"1\" class=\"dataframe\">\n",
       "  <thead>\n",
       "    <tr style=\"text-align: right;\">\n",
       "      <th></th>\n",
       "      <th>Team</th>\n",
       "      <th>Year</th>\n",
       "      <th>actual</th>\n",
       "      <th>predicted</th>\n",
       "      <th>actual_rank</th>\n",
       "      <th>predicted_rank</th>\n",
       "    </tr>\n",
       "  </thead>\n",
       "  <tbody>\n",
       "    <tr>\n",
       "      <th>158</th>\n",
       "      <td>LA</td>\n",
       "      <td>2017</td>\n",
       "      <td>0.6875</td>\n",
       "      <td>0.523386</td>\n",
       "      <td>1</td>\n",
       "      <td>2</td>\n",
       "    </tr>\n",
       "    <tr>\n",
       "      <th>152</th>\n",
       "      <td>SEA</td>\n",
       "      <td>2017</td>\n",
       "      <td>0.5625</td>\n",
       "      <td>0.549915</td>\n",
       "      <td>2</td>\n",
       "      <td>1</td>\n",
       "    </tr>\n",
       "    <tr>\n",
       "      <th>145</th>\n",
       "      <td>ARI</td>\n",
       "      <td>2017</td>\n",
       "      <td>0.5000</td>\n",
       "      <td>0.425302</td>\n",
       "      <td>3</td>\n",
       "      <td>3</td>\n",
       "    </tr>\n",
       "    <tr>\n",
       "      <th>131</th>\n",
       "      <td>SF</td>\n",
       "      <td>2017</td>\n",
       "      <td>0.3750</td>\n",
       "      <td>0.230108</td>\n",
       "      <td>4</td>\n",
       "      <td>4</td>\n",
       "    </tr>\n",
       "  </tbody>\n",
       "</table>\n",
       "</div>"
      ],
      "text/plain": [
       "    Team  Year  actual  predicted  actual_rank  predicted_rank\n",
       "158   LA  2017  0.6875   0.523386            1               2\n",
       "152  SEA  2017  0.5625   0.549915            2               1\n",
       "145  ARI  2017  0.5000   0.425302            3               3\n",
       "131   SF  2017  0.3750   0.230108            4               4"
      ]
     },
     "metadata": {},
     "output_type": "display_data"
    }
   ],
   "source": [
    "for key in divisions.keys():\n",
    "    print(key)\n",
    "    tmp = pred_df[pred_df['Team'].isin(divisions[key])].copy()\n",
    "    tmp['actual_rank'] = tmp['actual'].rank(ascending=False).astype(int)\n",
    "    tmp['predicted_rank'] = tmp['predicted'].rank(ascending=False).astype(int)\n",
    "    display(tmp.sort_values('actual_rank'))"
   ]
  },
  {
   "cell_type": "markdown",
   "metadata": {},
   "source": [
    "## Best Model Discussion\n",
    "\n",
    "For the prediction of win percentage I built 4 models:\n",
    "* lr\n",
    " * Linear regression\n",
    " * Forward selection (13 features)\n",
    " * Leave one out cross validation\n",
    "* lr_pca\n",
    " * Linear regression\n",
    " * Using PCA (15 principal components)\n",
    " * 10-fold cross validation\n",
    "* lasso\n",
    " * Lasso regression\n",
    " * 10-fold cross validation\n",
    "* rf\n",
    " * Random forest\n",
    " * 10-fold cross validation\n",
    " * Grid search\n",
    " \n",
    "I also used linear regression to blend the predictions of each model."
   ]
  },
  {
   "cell_type": "markdown",
   "metadata": {},
   "source": [
    "The best model was the lasso regression model which correctly predicted 7 of 8 division winners and 8 of 12 playoff teams (including wild card teams)."
   ]
  },
  {
   "cell_type": "markdown",
   "metadata": {},
   "source": [
    "## Predict 2018 with the Lasso Model"
   ]
  },
  {
   "cell_type": "code",
   "execution_count": 314,
   "metadata": {},
   "outputs": [],
   "source": [
    "X_future_scaled = pd.DataFrame(scaler.fit_transform(X_future[X_future.columns[2:]]), \n",
    "                               index=X_future.index, \n",
    "                               columns=X_future.columns[2:])\n",
    "\n",
    "y_pred = lasso_model.predict(X_future_scaled)"
   ]
  },
  {
   "cell_type": "code",
   "execution_count": 317,
   "metadata": {},
   "outputs": [],
   "source": [
    "future_teams = X_future[['Team', 'Year']].copy()\n",
    "future_teams['prediction'] = y_pred"
   ]
  },
  {
   "cell_type": "code",
   "execution_count": 318,
   "metadata": {},
   "outputs": [
    {
     "data": {
      "text/html": [
       "<div>\n",
       "<style scoped>\n",
       "    .dataframe tbody tr th:only-of-type {\n",
       "        vertical-align: middle;\n",
       "    }\n",
       "\n",
       "    .dataframe tbody tr th {\n",
       "        vertical-align: top;\n",
       "    }\n",
       "\n",
       "    .dataframe thead th {\n",
       "        text-align: right;\n",
       "    }\n",
       "</style>\n",
       "<table border=\"1\" class=\"dataframe\">\n",
       "  <thead>\n",
       "    <tr style=\"text-align: right;\">\n",
       "      <th></th>\n",
       "      <th>Team</th>\n",
       "      <th>Year</th>\n",
       "      <th>prediction</th>\n",
       "    </tr>\n",
       "  </thead>\n",
       "  <tbody>\n",
       "    <tr>\n",
       "      <th>160</th>\n",
       "      <td>JAC</td>\n",
       "      <td>2018</td>\n",
       "      <td>0.587623</td>\n",
       "    </tr>\n",
       "    <tr>\n",
       "      <th>161</th>\n",
       "      <td>DAL</td>\n",
       "      <td>2018</td>\n",
       "      <td>0.656343</td>\n",
       "    </tr>\n",
       "    <tr>\n",
       "      <th>162</th>\n",
       "      <td>PHI</td>\n",
       "      <td>2018</td>\n",
       "      <td>0.570293</td>\n",
       "    </tr>\n",
       "    <tr>\n",
       "      <th>163</th>\n",
       "      <td>CAR</td>\n",
       "      <td>2018</td>\n",
       "      <td>0.538363</td>\n",
       "    </tr>\n",
       "    <tr>\n",
       "      <th>164</th>\n",
       "      <td>NO</td>\n",
       "      <td>2018</td>\n",
       "      <td>0.457075</td>\n",
       "    </tr>\n",
       "    <tr>\n",
       "      <th>165</th>\n",
       "      <td>BUF</td>\n",
       "      <td>2018</td>\n",
       "      <td>0.304025</td>\n",
       "    </tr>\n",
       "    <tr>\n",
       "      <th>166</th>\n",
       "      <td>MIN</td>\n",
       "      <td>2018</td>\n",
       "      <td>0.651475</td>\n",
       "    </tr>\n",
       "    <tr>\n",
       "      <th>167</th>\n",
       "      <td>LA</td>\n",
       "      <td>2018</td>\n",
       "      <td>0.556465</td>\n",
       "    </tr>\n",
       "    <tr>\n",
       "      <th>168</th>\n",
       "      <td>KC</td>\n",
       "      <td>2018</td>\n",
       "      <td>0.417760</td>\n",
       "    </tr>\n",
       "    <tr>\n",
       "      <th>169</th>\n",
       "      <td>NE</td>\n",
       "      <td>2018</td>\n",
       "      <td>0.576019</td>\n",
       "    </tr>\n",
       "    <tr>\n",
       "      <th>170</th>\n",
       "      <td>BAL</td>\n",
       "      <td>2018</td>\n",
       "      <td>0.583935</td>\n",
       "    </tr>\n",
       "    <tr>\n",
       "      <th>171</th>\n",
       "      <td>DEN</td>\n",
       "      <td>2018</td>\n",
       "      <td>0.537753</td>\n",
       "    </tr>\n",
       "    <tr>\n",
       "      <th>172</th>\n",
       "      <td>ATL</td>\n",
       "      <td>2018</td>\n",
       "      <td>0.604707</td>\n",
       "    </tr>\n",
       "    <tr>\n",
       "      <th>173</th>\n",
       "      <td>HOU</td>\n",
       "      <td>2018</td>\n",
       "      <td>0.331689</td>\n",
       "    </tr>\n",
       "    <tr>\n",
       "      <th>174</th>\n",
       "      <td>TEN</td>\n",
       "      <td>2018</td>\n",
       "      <td>0.584466</td>\n",
       "    </tr>\n",
       "    <tr>\n",
       "      <th>175</th>\n",
       "      <td>CHI</td>\n",
       "      <td>2018</td>\n",
       "      <td>0.458482</td>\n",
       "    </tr>\n",
       "    <tr>\n",
       "      <th>176</th>\n",
       "      <td>GB</td>\n",
       "      <td>2018</td>\n",
       "      <td>0.470076</td>\n",
       "    </tr>\n",
       "    <tr>\n",
       "      <th>177</th>\n",
       "      <td>CLE</td>\n",
       "      <td>2018</td>\n",
       "      <td>0.458391</td>\n",
       "    </tr>\n",
       "    <tr>\n",
       "      <th>178</th>\n",
       "      <td>NYJ</td>\n",
       "      <td>2018</td>\n",
       "      <td>0.206075</td>\n",
       "    </tr>\n",
       "    <tr>\n",
       "      <th>179</th>\n",
       "      <td>PIT</td>\n",
       "      <td>2018</td>\n",
       "      <td>0.595822</td>\n",
       "    </tr>\n",
       "    <tr>\n",
       "      <th>180</th>\n",
       "      <td>SF</td>\n",
       "      <td>2018</td>\n",
       "      <td>0.496589</td>\n",
       "    </tr>\n",
       "    <tr>\n",
       "      <th>181</th>\n",
       "      <td>IND</td>\n",
       "      <td>2018</td>\n",
       "      <td>0.167898</td>\n",
       "    </tr>\n",
       "    <tr>\n",
       "      <th>182</th>\n",
       "      <td>SEA</td>\n",
       "      <td>2018</td>\n",
       "      <td>0.558484</td>\n",
       "    </tr>\n",
       "    <tr>\n",
       "      <th>183</th>\n",
       "      <td>LAC</td>\n",
       "      <td>2018</td>\n",
       "      <td>0.701378</td>\n",
       "    </tr>\n",
       "    <tr>\n",
       "      <th>184</th>\n",
       "      <td>OAK</td>\n",
       "      <td>2018</td>\n",
       "      <td>0.405881</td>\n",
       "    </tr>\n",
       "    <tr>\n",
       "      <th>185</th>\n",
       "      <td>NYG</td>\n",
       "      <td>2018</td>\n",
       "      <td>0.367906</td>\n",
       "    </tr>\n",
       "    <tr>\n",
       "      <th>186</th>\n",
       "      <td>TB</td>\n",
       "      <td>2018</td>\n",
       "      <td>0.475874</td>\n",
       "    </tr>\n",
       "    <tr>\n",
       "      <th>187</th>\n",
       "      <td>WAS</td>\n",
       "      <td>2018</td>\n",
       "      <td>0.382945</td>\n",
       "    </tr>\n",
       "    <tr>\n",
       "      <th>188</th>\n",
       "      <td>MIA</td>\n",
       "      <td>2018</td>\n",
       "      <td>0.364997</td>\n",
       "    </tr>\n",
       "    <tr>\n",
       "      <th>189</th>\n",
       "      <td>ARI</td>\n",
       "      <td>2018</td>\n",
       "      <td>0.489484</td>\n",
       "    </tr>\n",
       "    <tr>\n",
       "      <th>190</th>\n",
       "      <td>CIN</td>\n",
       "      <td>2018</td>\n",
       "      <td>0.412840</td>\n",
       "    </tr>\n",
       "    <tr>\n",
       "      <th>191</th>\n",
       "      <td>DET</td>\n",
       "      <td>2018</td>\n",
       "      <td>0.427859</td>\n",
       "    </tr>\n",
       "  </tbody>\n",
       "</table>\n",
       "</div>"
      ],
      "text/plain": [
       "    Team  Year  prediction\n",
       "160  JAC  2018    0.587623\n",
       "161  DAL  2018    0.656343\n",
       "162  PHI  2018    0.570293\n",
       "163  CAR  2018    0.538363\n",
       "164   NO  2018    0.457075\n",
       "165  BUF  2018    0.304025\n",
       "166  MIN  2018    0.651475\n",
       "167   LA  2018    0.556465\n",
       "168   KC  2018    0.417760\n",
       "169   NE  2018    0.576019\n",
       "170  BAL  2018    0.583935\n",
       "171  DEN  2018    0.537753\n",
       "172  ATL  2018    0.604707\n",
       "173  HOU  2018    0.331689\n",
       "174  TEN  2018    0.584466\n",
       "175  CHI  2018    0.458482\n",
       "176   GB  2018    0.470076\n",
       "177  CLE  2018    0.458391\n",
       "178  NYJ  2018    0.206075\n",
       "179  PIT  2018    0.595822\n",
       "180   SF  2018    0.496589\n",
       "181  IND  2018    0.167898\n",
       "182  SEA  2018    0.558484\n",
       "183  LAC  2018    0.701378\n",
       "184  OAK  2018    0.405881\n",
       "185  NYG  2018    0.367906\n",
       "186   TB  2018    0.475874\n",
       "187  WAS  2018    0.382945\n",
       "188  MIA  2018    0.364997\n",
       "189  ARI  2018    0.489484\n",
       "190  CIN  2018    0.412840\n",
       "191  DET  2018    0.427859"
      ]
     },
     "execution_count": 318,
     "metadata": {},
     "output_type": "execute_result"
    }
   ],
   "source": [
    "future_teams"
   ]
  },
  {
   "cell_type": "code",
   "execution_count": 327,
   "metadata": {},
   "outputs": [
    {
     "name": "stdout",
     "output_type": "stream",
     "text": [
      "\n",
      "---AFC_EAST---\n"
     ]
    },
    {
     "data": {
      "text/html": [
       "<div>\n",
       "<style scoped>\n",
       "    .dataframe tbody tr th:only-of-type {\n",
       "        vertical-align: middle;\n",
       "    }\n",
       "\n",
       "    .dataframe tbody tr th {\n",
       "        vertical-align: top;\n",
       "    }\n",
       "\n",
       "    .dataframe thead th {\n",
       "        text-align: right;\n",
       "    }\n",
       "</style>\n",
       "<table border=\"1\" class=\"dataframe\">\n",
       "  <thead>\n",
       "    <tr style=\"text-align: right;\">\n",
       "      <th></th>\n",
       "      <th>Team</th>\n",
       "      <th>Year</th>\n",
       "      <th>prediction</th>\n",
       "      <th>prediction_rank</th>\n",
       "    </tr>\n",
       "  </thead>\n",
       "  <tbody>\n",
       "    <tr>\n",
       "      <th>169</th>\n",
       "      <td>NE</td>\n",
       "      <td>2018</td>\n",
       "      <td>0.576019</td>\n",
       "      <td>1</td>\n",
       "    </tr>\n",
       "    <tr>\n",
       "      <th>188</th>\n",
       "      <td>MIA</td>\n",
       "      <td>2018</td>\n",
       "      <td>0.364997</td>\n",
       "      <td>2</td>\n",
       "    </tr>\n",
       "    <tr>\n",
       "      <th>165</th>\n",
       "      <td>BUF</td>\n",
       "      <td>2018</td>\n",
       "      <td>0.304025</td>\n",
       "      <td>3</td>\n",
       "    </tr>\n",
       "    <tr>\n",
       "      <th>178</th>\n",
       "      <td>NYJ</td>\n",
       "      <td>2018</td>\n",
       "      <td>0.206075</td>\n",
       "      <td>4</td>\n",
       "    </tr>\n",
       "  </tbody>\n",
       "</table>\n",
       "</div>"
      ],
      "text/plain": [
       "    Team  Year  prediction  prediction_rank\n",
       "169   NE  2018    0.576019                1\n",
       "188  MIA  2018    0.364997                2\n",
       "165  BUF  2018    0.304025                3\n",
       "178  NYJ  2018    0.206075                4"
      ]
     },
     "metadata": {},
     "output_type": "display_data"
    },
    {
     "name": "stdout",
     "output_type": "stream",
     "text": [
      "\n",
      "---AFC_NORTH---\n"
     ]
    },
    {
     "data": {
      "text/html": [
       "<div>\n",
       "<style scoped>\n",
       "    .dataframe tbody tr th:only-of-type {\n",
       "        vertical-align: middle;\n",
       "    }\n",
       "\n",
       "    .dataframe tbody tr th {\n",
       "        vertical-align: top;\n",
       "    }\n",
       "\n",
       "    .dataframe thead th {\n",
       "        text-align: right;\n",
       "    }\n",
       "</style>\n",
       "<table border=\"1\" class=\"dataframe\">\n",
       "  <thead>\n",
       "    <tr style=\"text-align: right;\">\n",
       "      <th></th>\n",
       "      <th>Team</th>\n",
       "      <th>Year</th>\n",
       "      <th>prediction</th>\n",
       "      <th>prediction_rank</th>\n",
       "    </tr>\n",
       "  </thead>\n",
       "  <tbody>\n",
       "    <tr>\n",
       "      <th>179</th>\n",
       "      <td>PIT</td>\n",
       "      <td>2018</td>\n",
       "      <td>0.595822</td>\n",
       "      <td>1</td>\n",
       "    </tr>\n",
       "    <tr>\n",
       "      <th>170</th>\n",
       "      <td>BAL</td>\n",
       "      <td>2018</td>\n",
       "      <td>0.583935</td>\n",
       "      <td>2</td>\n",
       "    </tr>\n",
       "    <tr>\n",
       "      <th>177</th>\n",
       "      <td>CLE</td>\n",
       "      <td>2018</td>\n",
       "      <td>0.458391</td>\n",
       "      <td>3</td>\n",
       "    </tr>\n",
       "    <tr>\n",
       "      <th>190</th>\n",
       "      <td>CIN</td>\n",
       "      <td>2018</td>\n",
       "      <td>0.412840</td>\n",
       "      <td>4</td>\n",
       "    </tr>\n",
       "  </tbody>\n",
       "</table>\n",
       "</div>"
      ],
      "text/plain": [
       "    Team  Year  prediction  prediction_rank\n",
       "179  PIT  2018    0.595822                1\n",
       "170  BAL  2018    0.583935                2\n",
       "177  CLE  2018    0.458391                3\n",
       "190  CIN  2018    0.412840                4"
      ]
     },
     "metadata": {},
     "output_type": "display_data"
    },
    {
     "name": "stdout",
     "output_type": "stream",
     "text": [
      "\n",
      "---AFC_SOUTH---\n"
     ]
    },
    {
     "data": {
      "text/html": [
       "<div>\n",
       "<style scoped>\n",
       "    .dataframe tbody tr th:only-of-type {\n",
       "        vertical-align: middle;\n",
       "    }\n",
       "\n",
       "    .dataframe tbody tr th {\n",
       "        vertical-align: top;\n",
       "    }\n",
       "\n",
       "    .dataframe thead th {\n",
       "        text-align: right;\n",
       "    }\n",
       "</style>\n",
       "<table border=\"1\" class=\"dataframe\">\n",
       "  <thead>\n",
       "    <tr style=\"text-align: right;\">\n",
       "      <th></th>\n",
       "      <th>Team</th>\n",
       "      <th>Year</th>\n",
       "      <th>prediction</th>\n",
       "      <th>prediction_rank</th>\n",
       "    </tr>\n",
       "  </thead>\n",
       "  <tbody>\n",
       "    <tr>\n",
       "      <th>160</th>\n",
       "      <td>JAC</td>\n",
       "      <td>2018</td>\n",
       "      <td>0.587623</td>\n",
       "      <td>1</td>\n",
       "    </tr>\n",
       "    <tr>\n",
       "      <th>174</th>\n",
       "      <td>TEN</td>\n",
       "      <td>2018</td>\n",
       "      <td>0.584466</td>\n",
       "      <td>2</td>\n",
       "    </tr>\n",
       "    <tr>\n",
       "      <th>173</th>\n",
       "      <td>HOU</td>\n",
       "      <td>2018</td>\n",
       "      <td>0.331689</td>\n",
       "      <td>3</td>\n",
       "    </tr>\n",
       "    <tr>\n",
       "      <th>181</th>\n",
       "      <td>IND</td>\n",
       "      <td>2018</td>\n",
       "      <td>0.167898</td>\n",
       "      <td>4</td>\n",
       "    </tr>\n",
       "  </tbody>\n",
       "</table>\n",
       "</div>"
      ],
      "text/plain": [
       "    Team  Year  prediction  prediction_rank\n",
       "160  JAC  2018    0.587623                1\n",
       "174  TEN  2018    0.584466                2\n",
       "173  HOU  2018    0.331689                3\n",
       "181  IND  2018    0.167898                4"
      ]
     },
     "metadata": {},
     "output_type": "display_data"
    },
    {
     "name": "stdout",
     "output_type": "stream",
     "text": [
      "\n",
      "---AFC_WEST---\n"
     ]
    },
    {
     "data": {
      "text/html": [
       "<div>\n",
       "<style scoped>\n",
       "    .dataframe tbody tr th:only-of-type {\n",
       "        vertical-align: middle;\n",
       "    }\n",
       "\n",
       "    .dataframe tbody tr th {\n",
       "        vertical-align: top;\n",
       "    }\n",
       "\n",
       "    .dataframe thead th {\n",
       "        text-align: right;\n",
       "    }\n",
       "</style>\n",
       "<table border=\"1\" class=\"dataframe\">\n",
       "  <thead>\n",
       "    <tr style=\"text-align: right;\">\n",
       "      <th></th>\n",
       "      <th>Team</th>\n",
       "      <th>Year</th>\n",
       "      <th>prediction</th>\n",
       "      <th>prediction_rank</th>\n",
       "    </tr>\n",
       "  </thead>\n",
       "  <tbody>\n",
       "    <tr>\n",
       "      <th>183</th>\n",
       "      <td>LAC</td>\n",
       "      <td>2018</td>\n",
       "      <td>0.701378</td>\n",
       "      <td>1</td>\n",
       "    </tr>\n",
       "    <tr>\n",
       "      <th>171</th>\n",
       "      <td>DEN</td>\n",
       "      <td>2018</td>\n",
       "      <td>0.537753</td>\n",
       "      <td>2</td>\n",
       "    </tr>\n",
       "    <tr>\n",
       "      <th>168</th>\n",
       "      <td>KC</td>\n",
       "      <td>2018</td>\n",
       "      <td>0.417760</td>\n",
       "      <td>3</td>\n",
       "    </tr>\n",
       "    <tr>\n",
       "      <th>184</th>\n",
       "      <td>OAK</td>\n",
       "      <td>2018</td>\n",
       "      <td>0.405881</td>\n",
       "      <td>4</td>\n",
       "    </tr>\n",
       "  </tbody>\n",
       "</table>\n",
       "</div>"
      ],
      "text/plain": [
       "    Team  Year  prediction  prediction_rank\n",
       "183  LAC  2018    0.701378                1\n",
       "171  DEN  2018    0.537753                2\n",
       "168   KC  2018    0.417760                3\n",
       "184  OAK  2018    0.405881                4"
      ]
     },
     "metadata": {},
     "output_type": "display_data"
    },
    {
     "name": "stdout",
     "output_type": "stream",
     "text": [
      "\n",
      "---NFC_EAST---\n"
     ]
    },
    {
     "data": {
      "text/html": [
       "<div>\n",
       "<style scoped>\n",
       "    .dataframe tbody tr th:only-of-type {\n",
       "        vertical-align: middle;\n",
       "    }\n",
       "\n",
       "    .dataframe tbody tr th {\n",
       "        vertical-align: top;\n",
       "    }\n",
       "\n",
       "    .dataframe thead th {\n",
       "        text-align: right;\n",
       "    }\n",
       "</style>\n",
       "<table border=\"1\" class=\"dataframe\">\n",
       "  <thead>\n",
       "    <tr style=\"text-align: right;\">\n",
       "      <th></th>\n",
       "      <th>Team</th>\n",
       "      <th>Year</th>\n",
       "      <th>prediction</th>\n",
       "      <th>prediction_rank</th>\n",
       "    </tr>\n",
       "  </thead>\n",
       "  <tbody>\n",
       "    <tr>\n",
       "      <th>161</th>\n",
       "      <td>DAL</td>\n",
       "      <td>2018</td>\n",
       "      <td>0.656343</td>\n",
       "      <td>1</td>\n",
       "    </tr>\n",
       "    <tr>\n",
       "      <th>162</th>\n",
       "      <td>PHI</td>\n",
       "      <td>2018</td>\n",
       "      <td>0.570293</td>\n",
       "      <td>2</td>\n",
       "    </tr>\n",
       "    <tr>\n",
       "      <th>187</th>\n",
       "      <td>WAS</td>\n",
       "      <td>2018</td>\n",
       "      <td>0.382945</td>\n",
       "      <td>3</td>\n",
       "    </tr>\n",
       "    <tr>\n",
       "      <th>185</th>\n",
       "      <td>NYG</td>\n",
       "      <td>2018</td>\n",
       "      <td>0.367906</td>\n",
       "      <td>4</td>\n",
       "    </tr>\n",
       "  </tbody>\n",
       "</table>\n",
       "</div>"
      ],
      "text/plain": [
       "    Team  Year  prediction  prediction_rank\n",
       "161  DAL  2018    0.656343                1\n",
       "162  PHI  2018    0.570293                2\n",
       "187  WAS  2018    0.382945                3\n",
       "185  NYG  2018    0.367906                4"
      ]
     },
     "metadata": {},
     "output_type": "display_data"
    },
    {
     "name": "stdout",
     "output_type": "stream",
     "text": [
      "\n",
      "---NFC_NORTH---\n"
     ]
    },
    {
     "data": {
      "text/html": [
       "<div>\n",
       "<style scoped>\n",
       "    .dataframe tbody tr th:only-of-type {\n",
       "        vertical-align: middle;\n",
       "    }\n",
       "\n",
       "    .dataframe tbody tr th {\n",
       "        vertical-align: top;\n",
       "    }\n",
       "\n",
       "    .dataframe thead th {\n",
       "        text-align: right;\n",
       "    }\n",
       "</style>\n",
       "<table border=\"1\" class=\"dataframe\">\n",
       "  <thead>\n",
       "    <tr style=\"text-align: right;\">\n",
       "      <th></th>\n",
       "      <th>Team</th>\n",
       "      <th>Year</th>\n",
       "      <th>prediction</th>\n",
       "      <th>prediction_rank</th>\n",
       "    </tr>\n",
       "  </thead>\n",
       "  <tbody>\n",
       "    <tr>\n",
       "      <th>166</th>\n",
       "      <td>MIN</td>\n",
       "      <td>2018</td>\n",
       "      <td>0.651475</td>\n",
       "      <td>1</td>\n",
       "    </tr>\n",
       "    <tr>\n",
       "      <th>176</th>\n",
       "      <td>GB</td>\n",
       "      <td>2018</td>\n",
       "      <td>0.470076</td>\n",
       "      <td>2</td>\n",
       "    </tr>\n",
       "    <tr>\n",
       "      <th>175</th>\n",
       "      <td>CHI</td>\n",
       "      <td>2018</td>\n",
       "      <td>0.458482</td>\n",
       "      <td>3</td>\n",
       "    </tr>\n",
       "    <tr>\n",
       "      <th>191</th>\n",
       "      <td>DET</td>\n",
       "      <td>2018</td>\n",
       "      <td>0.427859</td>\n",
       "      <td>4</td>\n",
       "    </tr>\n",
       "  </tbody>\n",
       "</table>\n",
       "</div>"
      ],
      "text/plain": [
       "    Team  Year  prediction  prediction_rank\n",
       "166  MIN  2018    0.651475                1\n",
       "176   GB  2018    0.470076                2\n",
       "175  CHI  2018    0.458482                3\n",
       "191  DET  2018    0.427859                4"
      ]
     },
     "metadata": {},
     "output_type": "display_data"
    },
    {
     "name": "stdout",
     "output_type": "stream",
     "text": [
      "\n",
      "---NFC_SOUTH---\n"
     ]
    },
    {
     "data": {
      "text/html": [
       "<div>\n",
       "<style scoped>\n",
       "    .dataframe tbody tr th:only-of-type {\n",
       "        vertical-align: middle;\n",
       "    }\n",
       "\n",
       "    .dataframe tbody tr th {\n",
       "        vertical-align: top;\n",
       "    }\n",
       "\n",
       "    .dataframe thead th {\n",
       "        text-align: right;\n",
       "    }\n",
       "</style>\n",
       "<table border=\"1\" class=\"dataframe\">\n",
       "  <thead>\n",
       "    <tr style=\"text-align: right;\">\n",
       "      <th></th>\n",
       "      <th>Team</th>\n",
       "      <th>Year</th>\n",
       "      <th>prediction</th>\n",
       "      <th>prediction_rank</th>\n",
       "    </tr>\n",
       "  </thead>\n",
       "  <tbody>\n",
       "    <tr>\n",
       "      <th>172</th>\n",
       "      <td>ATL</td>\n",
       "      <td>2018</td>\n",
       "      <td>0.604707</td>\n",
       "      <td>1</td>\n",
       "    </tr>\n",
       "    <tr>\n",
       "      <th>163</th>\n",
       "      <td>CAR</td>\n",
       "      <td>2018</td>\n",
       "      <td>0.538363</td>\n",
       "      <td>2</td>\n",
       "    </tr>\n",
       "    <tr>\n",
       "      <th>186</th>\n",
       "      <td>TB</td>\n",
       "      <td>2018</td>\n",
       "      <td>0.475874</td>\n",
       "      <td>3</td>\n",
       "    </tr>\n",
       "    <tr>\n",
       "      <th>164</th>\n",
       "      <td>NO</td>\n",
       "      <td>2018</td>\n",
       "      <td>0.457075</td>\n",
       "      <td>4</td>\n",
       "    </tr>\n",
       "  </tbody>\n",
       "</table>\n",
       "</div>"
      ],
      "text/plain": [
       "    Team  Year  prediction  prediction_rank\n",
       "172  ATL  2018    0.604707                1\n",
       "163  CAR  2018    0.538363                2\n",
       "186   TB  2018    0.475874                3\n",
       "164   NO  2018    0.457075                4"
      ]
     },
     "metadata": {},
     "output_type": "display_data"
    },
    {
     "name": "stdout",
     "output_type": "stream",
     "text": [
      "\n",
      "---NFC_WEST---\n"
     ]
    },
    {
     "data": {
      "text/html": [
       "<div>\n",
       "<style scoped>\n",
       "    .dataframe tbody tr th:only-of-type {\n",
       "        vertical-align: middle;\n",
       "    }\n",
       "\n",
       "    .dataframe tbody tr th {\n",
       "        vertical-align: top;\n",
       "    }\n",
       "\n",
       "    .dataframe thead th {\n",
       "        text-align: right;\n",
       "    }\n",
       "</style>\n",
       "<table border=\"1\" class=\"dataframe\">\n",
       "  <thead>\n",
       "    <tr style=\"text-align: right;\">\n",
       "      <th></th>\n",
       "      <th>Team</th>\n",
       "      <th>Year</th>\n",
       "      <th>prediction</th>\n",
       "      <th>prediction_rank</th>\n",
       "    </tr>\n",
       "  </thead>\n",
       "  <tbody>\n",
       "    <tr>\n",
       "      <th>182</th>\n",
       "      <td>SEA</td>\n",
       "      <td>2018</td>\n",
       "      <td>0.558484</td>\n",
       "      <td>1</td>\n",
       "    </tr>\n",
       "    <tr>\n",
       "      <th>167</th>\n",
       "      <td>LA</td>\n",
       "      <td>2018</td>\n",
       "      <td>0.556465</td>\n",
       "      <td>2</td>\n",
       "    </tr>\n",
       "    <tr>\n",
       "      <th>180</th>\n",
       "      <td>SF</td>\n",
       "      <td>2018</td>\n",
       "      <td>0.496589</td>\n",
       "      <td>3</td>\n",
       "    </tr>\n",
       "    <tr>\n",
       "      <th>189</th>\n",
       "      <td>ARI</td>\n",
       "      <td>2018</td>\n",
       "      <td>0.489484</td>\n",
       "      <td>4</td>\n",
       "    </tr>\n",
       "  </tbody>\n",
       "</table>\n",
       "</div>"
      ],
      "text/plain": [
       "    Team  Year  prediction  prediction_rank\n",
       "182  SEA  2018    0.558484                1\n",
       "167   LA  2018    0.556465                2\n",
       "180   SF  2018    0.496589                3\n",
       "189  ARI  2018    0.489484                4"
      ]
     },
     "metadata": {},
     "output_type": "display_data"
    }
   ],
   "source": [
    "for key in divisions.keys():\n",
    "    print('\\n---{}---'.format(key.upper()))\n",
    "    tmp = future_teams[future_teams['Team'].isin(divisions[key])].copy()\n",
    "    tmp['prediction_rank'] = tmp['prediction'].rank(ascending=False).astype(int)\n",
    "    display(tmp.sort_values('prediction_rank'))"
   ]
  },
  {
   "cell_type": "code",
   "execution_count": 305,
   "metadata": {},
   "outputs": [],
   "source": []
  },
  {
   "cell_type": "code",
   "execution_count": null,
   "metadata": {},
   "outputs": [],
   "source": []
  }
 ],
 "metadata": {
  "kernelspec": {
   "display_name": "Python 3",
   "language": "python",
   "name": "python3"
  },
  "language_info": {
   "codemirror_mode": {
    "name": "ipython",
    "version": 3
   },
   "file_extension": ".py",
   "mimetype": "text/x-python",
   "name": "python",
   "nbconvert_exporter": "python",
   "pygments_lexer": "ipython3",
   "version": "3.6.5"
  }
 },
 "nbformat": 4,
 "nbformat_minor": 2
}
