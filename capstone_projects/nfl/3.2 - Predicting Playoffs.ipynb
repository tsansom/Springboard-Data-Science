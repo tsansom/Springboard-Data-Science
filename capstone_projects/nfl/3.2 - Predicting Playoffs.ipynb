{
 "cells": [
  {
   "cell_type": "code",
   "execution_count": 151,
   "metadata": {},
   "outputs": [],
   "source": [
    "import pandas as pd\n",
    "import numpy as np\n",
    "import matplotlib.pyplot as plt\n",
    "import seaborn as sns\n",
    "\n",
    "from sklearn.preprocessing import StandardScaler\n",
    "from sklearn.linear_model import LogisticRegression, LogisticRegressionCV\n",
    "from sklearn.model_selection import train_test_split\n",
    "from sklearn.metrics import classification_report, confusion_matrix\n",
    "from imblearn.over_sampling import SMOTE\n",
    "\n",
    "%matplotlib inline\n",
    "\n",
    "pd.set_option('display.float_format', lambda x: '%.4f' % x)"
   ]
  },
  {
   "cell_type": "code",
   "execution_count": 2,
   "metadata": {},
   "outputs": [],
   "source": [
    "# read offense data\n",
    "offense = pd.read_csv('data/offense.csv')\n",
    "# read defense data\n",
    "defense = pd.read_csv('data/defense.csv')\n",
    "# read salary data\n",
    "salary = pd.read_csv('data/salary.csv', index_col=0)\n",
    "# change columns (uppercase first letter) to match the other data\n",
    "salary.columns = ['Team', 'Year'] + list(salary.columns[2:])\n",
    "# read standings data\n",
    "standings = pd.read_csv('data/standings.csv')"
   ]
  },
  {
   "cell_type": "markdown",
   "metadata": {},
   "source": [
    "Need to fix the offense and defense stats so that they are the previous year. Can do this by adding 1 to the year before merging the datasets. Salary is known at the beginning of the season so the year doesn't have to change."
   ]
  },
  {
   "cell_type": "code",
   "execution_count": 3,
   "metadata": {},
   "outputs": [],
   "source": [
    "offense['Year'] += 1\n",
    "defense['Year'] += 1"
   ]
  },
  {
   "cell_type": "code",
   "execution_count": 4,
   "metadata": {},
   "outputs": [],
   "source": [
    "# merge the offense and defense data with suffixes\n",
    "combined = pd.merge(offense, defense, on=['Team', 'Year'], suffixes=('_off', '_def'))\n",
    "# merge the salary data\n",
    "combined = pd.merge(combined, salary, on=['Team', 'Year'])\n",
    "# merge the standings dataframe - use left so 2018 data stays\n",
    "combined = pd.merge(combined, standings, on=['Team', 'Year'], how='left')"
   ]
  },
  {
   "cell_type": "code",
   "execution_count": 5,
   "metadata": {},
   "outputs": [],
   "source": [
    "# split out the X and y from combined\n",
    "X_all = combined[combined.columns[:-8]].copy()\n",
    "y_all = combined[combined.columns[-8:]].copy()\n",
    "\n",
    "# add team and year back into y\n",
    "y_all.insert(0, 'Team', X_all['Team'])\n",
    "y_all.insert(1, 'Year', X_all['Year'])"
   ]
  },
  {
   "cell_type": "code",
   "execution_count": 106,
   "metadata": {},
   "outputs": [],
   "source": [
    "target_var = 'Playoffs'"
   ]
  },
  {
   "cell_type": "code",
   "execution_count": 134,
   "metadata": {},
   "outputs": [],
   "source": [
    "data = X_all.merge(y_all[['Team', 'Year', target_var]])\n",
    "\n",
    "data_future = data[data['Year'] == 2018]\n",
    "\n",
    "data = data[data['Year'] < 2018]\n",
    "\n",
    "features = data.columns[2:-1]"
   ]
  },
  {
   "cell_type": "code",
   "execution_count": 130,
   "metadata": {},
   "outputs": [
    {
     "data": {
      "text/plain": [
       "0.0000    100\n",
       "1.0000     60\n",
       "Name: Playoffs, dtype: int64"
      ]
     },
     "execution_count": 130,
     "metadata": {},
     "output_type": "execute_result"
    }
   ],
   "source": [
    "data[target_var].value_counts()"
   ]
  },
  {
   "cell_type": "code",
   "execution_count": 131,
   "metadata": {},
   "outputs": [
    {
     "data": {
      "image/png": "[encoded data removed]",
      "text/plain": [
       "<Figure size 432x288 with 1 Axes>"
      ]
     },
     "metadata": {},
     "output_type": "display_data"
    }
   ],
   "source": [
    "_ = sns.countplot(x='Playoffs', data=data, palette='hls')"
   ]
  },
  {
   "cell_type": "code",
   "execution_count": 132,
   "metadata": {},
   "outputs": [
    {
     "data": {
      "text/html": [
       "<div>\n",
       "<style scoped>\n",
       "    .dataframe tbody tr th:only-of-type {\n",
       "        vertical-align: middle;\n",
       "    }\n",
       "\n",
       "    .dataframe tbody tr th {\n",
       "        vertical-align: top;\n",
       "    }\n",
       "\n",
       "    .dataframe thead th {\n",
       "        text-align: right;\n",
       "    }\n",
       "</style>\n",
       "<table border=\"1\" class=\"dataframe\">\n",
       "  <thead>\n",
       "    <tr style=\"text-align: right;\">\n",
       "      <th>Playoffs</th>\n",
       "      <th>0.0</th>\n",
       "      <th>1.0</th>\n",
       "    </tr>\n",
       "  </thead>\n",
       "  <tbody>\n",
       "    <tr>\n",
       "      <th>Year</th>\n",
       "      <td>2015.0000</td>\n",
       "      <td>2015.0000</td>\n",
       "    </tr>\n",
       "    <tr>\n",
       "      <th>Yds/G_rush_off</th>\n",
       "      <td>109.8120</td>\n",
       "      <td>114.5217</td>\n",
       "    </tr>\n",
       "    <tr>\n",
       "      <th>TD_rush_off</th>\n",
       "      <td>12.0400</td>\n",
       "      <td>13.2500</td>\n",
       "    </tr>\n",
       "    <tr>\n",
       "      <th>Yds/G_pass_off</th>\n",
       "      <td>234.5430</td>\n",
       "      <td>243.2283</td>\n",
       "    </tr>\n",
       "    <tr>\n",
       "      <th>Pct_off</th>\n",
       "      <td>61.5260</td>\n",
       "      <td>63.0617</td>\n",
       "    </tr>\n",
       "    <tr>\n",
       "      <th>TD_pass_off</th>\n",
       "      <td>23.8000</td>\n",
       "      <td>26.9333</td>\n",
       "    </tr>\n",
       "    <tr>\n",
       "      <th>Sck_off</th>\n",
       "      <td>37.8900</td>\n",
       "      <td>36.5333</td>\n",
       "    </tr>\n",
       "    <tr>\n",
       "      <th>Rate_off</th>\n",
       "      <td>85.8630</td>\n",
       "      <td>91.5483</td>\n",
       "    </tr>\n",
       "    <tr>\n",
       "      <th>Pts/G_off</th>\n",
       "      <td>21.9560</td>\n",
       "      <td>24.3833</td>\n",
       "    </tr>\n",
       "    <tr>\n",
       "      <th>Pen Yds_off</th>\n",
       "      <td>891.6300</td>\n",
       "      <td>888.6667</td>\n",
       "    </tr>\n",
       "    <tr>\n",
       "      <th>TO</th>\n",
       "      <td>-1.3200</td>\n",
       "      <td>2.2000</td>\n",
       "    </tr>\n",
       "    <tr>\n",
       "      <th>Yds/G_rush_def</th>\n",
       "      <td>113.6470</td>\n",
       "      <td>108.1217</td>\n",
       "    </tr>\n",
       "    <tr>\n",
       "      <th>TD_rush_def</th>\n",
       "      <td>13.2600</td>\n",
       "      <td>11.2167</td>\n",
       "    </tr>\n",
       "    <tr>\n",
       "      <th>Yds/G_pass_def</th>\n",
       "      <td>239.2570</td>\n",
       "      <td>235.3783</td>\n",
       "    </tr>\n",
       "    <tr>\n",
       "      <th>TD_pass_def</th>\n",
       "      <td>25.3000</td>\n",
       "      <td>24.4333</td>\n",
       "    </tr>\n",
       "    <tr>\n",
       "      <th>Rate_def</th>\n",
       "      <td>89.1280</td>\n",
       "      <td>86.5333</td>\n",
       "    </tr>\n",
       "    <tr>\n",
       "      <th>Sck_def</th>\n",
       "      <td>36.8300</td>\n",
       "      <td>38.3000</td>\n",
       "    </tr>\n",
       "    <tr>\n",
       "      <th>Pct_def</th>\n",
       "      <td>62.5350</td>\n",
       "      <td>61.5533</td>\n",
       "    </tr>\n",
       "    <tr>\n",
       "      <th>Pts/G_def</th>\n",
       "      <td>23.5340</td>\n",
       "      <td>21.7667</td>\n",
       "    </tr>\n",
       "    <tr>\n",
       "      <th>Pen Yds_def</th>\n",
       "      <td>884.4900</td>\n",
       "      <td>900.5667</td>\n",
       "    </tr>\n",
       "    <tr>\n",
       "      <th>DL</th>\n",
       "      <td>19824819.9100</td>\n",
       "      <td>21046598.4000</td>\n",
       "    </tr>\n",
       "    <tr>\n",
       "      <th>LB</th>\n",
       "      <td>16938391.0900</td>\n",
       "      <td>18226909.8500</td>\n",
       "    </tr>\n",
       "    <tr>\n",
       "      <th>OL</th>\n",
       "      <td>22029398.0200</td>\n",
       "      <td>22028212.7667</td>\n",
       "    </tr>\n",
       "    <tr>\n",
       "      <th>QB</th>\n",
       "      <td>12648227.6100</td>\n",
       "      <td>14704401.0167</td>\n",
       "    </tr>\n",
       "    <tr>\n",
       "      <th>RB</th>\n",
       "      <td>6270449.2100</td>\n",
       "      <td>6280940.4667</td>\n",
       "    </tr>\n",
       "    <tr>\n",
       "      <th>S</th>\n",
       "      <td>21293030.0000</td>\n",
       "      <td>21755005.0167</td>\n",
       "    </tr>\n",
       "    <tr>\n",
       "      <th>ST</th>\n",
       "      <td>4039509.4000</td>\n",
       "      <td>4474126.9333</td>\n",
       "    </tr>\n",
       "    <tr>\n",
       "      <th>TE</th>\n",
       "      <td>6184166.1500</td>\n",
       "      <td>6829387.3500</td>\n",
       "    </tr>\n",
       "    <tr>\n",
       "      <th>WR</th>\n",
       "      <td>13959857.1200</td>\n",
       "      <td>13457779.0333</td>\n",
       "    </tr>\n",
       "    <tr>\n",
       "      <th>nDL</th>\n",
       "      <td>9.5100</td>\n",
       "      <td>9.4000</td>\n",
       "    </tr>\n",
       "    <tr>\n",
       "      <th>nLB</th>\n",
       "      <td>9.5200</td>\n",
       "      <td>9.5833</td>\n",
       "    </tr>\n",
       "    <tr>\n",
       "      <th>nOL</th>\n",
       "      <td>11.1900</td>\n",
       "      <td>10.4333</td>\n",
       "    </tr>\n",
       "    <tr>\n",
       "      <th>nQB</th>\n",
       "      <td>3.0100</td>\n",
       "      <td>2.8333</td>\n",
       "    </tr>\n",
       "    <tr>\n",
       "      <th>nRB</th>\n",
       "      <td>4.8700</td>\n",
       "      <td>4.4500</td>\n",
       "    </tr>\n",
       "    <tr>\n",
       "      <th>nS</th>\n",
       "      <td>12.4200</td>\n",
       "      <td>11.5833</td>\n",
       "    </tr>\n",
       "    <tr>\n",
       "      <th>nST</th>\n",
       "      <td>3.2600</td>\n",
       "      <td>3.2333</td>\n",
       "    </tr>\n",
       "    <tr>\n",
       "      <th>nTE</th>\n",
       "      <td>4.2700</td>\n",
       "      <td>3.9000</td>\n",
       "    </tr>\n",
       "    <tr>\n",
       "      <th>nWR</th>\n",
       "      <td>7.4000</td>\n",
       "      <td>6.9500</td>\n",
       "    </tr>\n",
       "  </tbody>\n",
       "</table>\n",
       "</div>"
      ],
      "text/plain": [
       "Playoffs              0.0000        1.0000\n",
       "Year               2015.0000     2015.0000\n",
       "Yds/G_rush_off      109.8120      114.5217\n",
       "TD_rush_off          12.0400       13.2500\n",
       "Yds/G_pass_off      234.5430      243.2283\n",
       "Pct_off              61.5260       63.0617\n",
       "TD_pass_off          23.8000       26.9333\n",
       "Sck_off              37.8900       36.5333\n",
       "Rate_off             85.8630       91.5483\n",
       "Pts/G_off            21.9560       24.3833\n",
       "Pen Yds_off         891.6300      888.6667\n",
       "TO                   -1.3200        2.2000\n",
       "Yds/G_rush_def      113.6470      108.1217\n",
       "TD_rush_def          13.2600       11.2167\n",
       "Yds/G_pass_def      239.2570      235.3783\n",
       "TD_pass_def          25.3000       24.4333\n",
       "Rate_def             89.1280       86.5333\n",
       "Sck_def              36.8300       38.3000\n",
       "Pct_def              62.5350       61.5533\n",
       "Pts/G_def            23.5340       21.7667\n",
       "Pen Yds_def         884.4900      900.5667\n",
       "DL             19824819.9100 21046598.4000\n",
       "LB             16938391.0900 18226909.8500\n",
       "OL             22029398.0200 22028212.7667\n",
       "QB             12648227.6100 14704401.0167\n",
       "RB              6270449.2100  6280940.4667\n",
       "S              21293030.0000 21755005.0167\n",
       "ST              4039509.4000  4474126.9333\n",
       "TE              6184166.1500  6829387.3500\n",
       "WR             13959857.1200 13457779.0333\n",
       "nDL                   9.5100        9.4000\n",
       "nLB                   9.5200        9.5833\n",
       "nOL                  11.1900       10.4333\n",
       "nQB                   3.0100        2.8333\n",
       "nRB                   4.8700        4.4500\n",
       "nS                   12.4200       11.5833\n",
       "nST                   3.2600        3.2333\n",
       "nTE                   4.2700        3.9000\n",
       "nWR                   7.4000        6.9500"
      ]
     },
     "execution_count": 132,
     "metadata": {},
     "output_type": "execute_result"
    }
   ],
   "source": [
    "data.groupby('Playoffs').mean().T"
   ]
  },
  {
   "cell_type": "markdown",
   "metadata": {},
   "source": [
    "## Logistic Regression"
   ]
  },
  {
   "cell_type": "markdown",
   "metadata": {},
   "source": [
    "#### Start with a baseline model"
   ]
  },
  {
   "cell_type": "code",
   "execution_count": 136,
   "metadata": {},
   "outputs": [],
   "source": [
    "X = data[features]\n",
    "y = data[target_var]"
   ]
  },
  {
   "cell_type": "code",
   "execution_count": 138,
   "metadata": {},
   "outputs": [],
   "source": [
    "scaler = StandardScaler()\n",
    "X = scaler.fit_transform(X)"
   ]
  },
  {
   "cell_type": "code",
   "execution_count": 143,
   "metadata": {},
   "outputs": [],
   "source": [
    "X_valid = X[data['Year'] == 2017]\n",
    "y_valid = y[data['Year'] == 2017]"
   ]
  },
  {
   "cell_type": "code",
   "execution_count": 148,
   "metadata": {},
   "outputs": [],
   "source": [
    "X_train, X_test, y_train, y_test = \\\n",
    "    train_test_split(X[data['Year'] < 2017], y[data['Year'] < 2017], test_size=0.3)"
   ]
  },
  {
   "cell_type": "code",
   "execution_count": null,
   "metadata": {},
   "outputs": [],
   "source": [
    "sm = SMOTE(ratio=1.0, random_state=42)\n"
   ]
  }
 ],
 "metadata": {
  "kernelspec": {
   "display_name": "Python 3",
   "language": "python",
   "name": "python3"
  },
  "language_info": {
   "codemirror_mode": {
    "name": "ipython",
    "version": 3
   },
   "file_extension": ".py",
   "mimetype": "text/x-python",
   "name": "python",
   "nbconvert_exporter": "python",
   "pygments_lexer": "ipython3",
   "version": "3.6.5"
  }
 },
 "nbformat": 4,
 "nbformat_minor": 2
}
