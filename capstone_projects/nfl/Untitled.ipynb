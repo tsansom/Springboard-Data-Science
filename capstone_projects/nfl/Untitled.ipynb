{
 "cells": [
  {
   "cell_type": "code",
   "execution_count": 121,
   "metadata": {},
   "outputs": [],
   "source": [
    "import pandas as pd\n",
    "import numpy as np\n",
    "import matplotlib.pyplot as plt\n",
    "import seaborn as sns\n",
    "\n",
    "from sklearn.preprocessing import StandardScaler\n",
    "from sklearn.model_selection import train_test_split\n",
    "\n",
    "from sklearn.linear_model import LinearRegression\n",
    "from sklearn.tree import DecisionTreeRegressor\n",
    "from sklearn.ensemble import RandomForestRegressor\n",
    "\n",
    "from sklearn.metrics import r2_score, mean_squared_error\n",
    "\n",
    "%matplotlib inline"
   ]
  },
  {
   "cell_type": "code",
   "execution_count": 2,
   "metadata": {},
   "outputs": [],
   "source": [
    "# read offense data\n",
    "offense = pd.read_csv('data/offense.csv')\n",
    "# read defense data\n",
    "defense = pd.read_csv('data/defense.csv')\n",
    "# read salary data\n",
    "salary = pd.read_csv('data/salary.csv', index_col=0)\n",
    "# change columns (uppercase first letter) to match the other data\n",
    "salary.columns = ['Team', 'Year'] + list(salary.columns[2:])\n",
    "# read standings data\n",
    "standings = pd.read_csv('data/standings.csv')"
   ]
  },
  {
   "cell_type": "markdown",
   "metadata": {},
   "source": [
    "Need to fix the offense and defense stats so that they are the previous year. Can do this by adding 1 to the year before merging the datasets. Salary is known at the beginning of the season so the year doesn't have to change."
   ]
  },
  {
   "cell_type": "code",
   "execution_count": 3,
   "metadata": {},
   "outputs": [],
   "source": [
    "offense['Year'] += 1\n",
    "defense['Year'] += 1"
   ]
  },
  {
   "cell_type": "code",
   "execution_count": 4,
   "metadata": {},
   "outputs": [],
   "source": [
    "# merge the offense and defense data with suffixes\n",
    "combined = pd.merge(offense, defense, on=['Team', 'Year'], suffixes=('_off', '_def'))\n",
    "# merge the salary data\n",
    "combined = pd.merge(combined, salary, on=['Team', 'Year'])\n",
    "# merge the standings dataframe - use left so 2018 data stays\n",
    "combined = pd.merge(combined, standings, on=['Team', 'Year'], how='left')"
   ]
  },
  {
   "cell_type": "code",
   "execution_count": 5,
   "metadata": {},
   "outputs": [],
   "source": [
    "# split out the X and y from combined\n",
    "X = combined[combined.columns[:-8]].copy()\n",
    "y = combined[combined.columns[-8:]].copy()\n",
    "\n",
    "# add team and year back into y\n",
    "y.insert(0, 'Team', X['Team'])\n",
    "y.insert(1, 'Year', X['Year'])\n",
    "\n",
    "# add win percentage column\n",
    "y['W_Pct'] = y['W'] / 16"
   ]
  },
  {
   "cell_type": "code",
   "execution_count": 6,
   "metadata": {},
   "outputs": [],
   "source": [
    "# scale X\n",
    "scaler = StandardScaler()\n",
    "\n",
    "X_scaled = pd.DataFrame(scaler.fit_transform(X[X.columns[2:]]),\n",
    "                        index=X.index, columns=X.columns[2:])\n",
    "\n",
    "X_scaled.insert(0, 'Team', X['Team'])\n",
    "X_scaled.insert(1, 'Year', X['Year'])"
   ]
  },
  {
   "cell_type": "code",
   "execution_count": 7,
   "metadata": {},
   "outputs": [],
   "source": [
    "# break out the 2018 data first (X_future)\n",
    "X_future = X_scaled[X_scaled['Year'] == 2018]\n",
    "y_future = y[y['Year'] == 2018]\n",
    "\n",
    "# get the validation set (2017)\n",
    "X_valid = X_scaled[X_scaled['Year'] == 2017]\n",
    "y_valid = y[y['Year'] == 2017]\n",
    "\n",
    "# remove the 2017 and 2018 data from X and y\n",
    "X_scaled = X_scaled[X_scaled['Year'] < 2017]\n",
    "y = y[y['Year'] < 2017]\n",
    "\n",
    "# drop the team and year columns for X and y\n",
    "X_scaled.drop(['Team', 'Year'], axis=1, inplace=True)\n",
    "y.drop(['Team', 'Year'], axis=1, inplace=True)"
   ]
  },
  {
   "cell_type": "markdown",
   "metadata": {},
   "source": [
    "# Baseline Models\n",
    "\n",
    "Predicting win percentage (W_Pct)"
   ]
  },
  {
   "cell_type": "code",
   "execution_count": 256,
   "metadata": {},
   "outputs": [],
   "source": [
    "# split into train and test set\n",
    "\n",
    "X_train, X_test, y_train, y_test = train_test_split(X_scaled, y['W_Pct'], \n",
    "                                                    test_size=0.3, random_state=42)"
   ]
  },
  {
   "cell_type": "code",
   "execution_count": 257,
   "metadata": {},
   "outputs": [
    {
     "name": "stdout",
     "output_type": "stream",
     "text": [
      "R2 Score: 0.02481801136903483\n",
      "RMSE: 0.2166768694902552\n"
     ]
    },
    {
     "data": {
      "image/png": "[encoded data removed]",
      "text/plain": [
       "<Figure size 432x288 with 1 Axes>"
      ]
     },
     "metadata": {},
     "output_type": "display_data"
    }
   ],
   "source": [
    "lr = LinearRegression()\n",
    "\n",
    "lr.fit(X_train, y_train)\n",
    "\n",
    "y_pred = lr.predict(X_test)\n",
    "\n",
    "print('R2 Score: {}'.format(r2_score(y_test, y_pred)))\n",
    "print('RMSE: {}'.format(np.sqrt(mean_squared_error(y_test, y_pred))))\n",
    "\n",
    "_ = plt.scatter(y_test, y_pred, alpha=0.5)"
   ]
  },
  {
   "cell_type": "markdown",
   "metadata": {},
   "source": [
    "## Forward Selection for Best Features"
   ]
  },
  {
   "cell_type": "code",
   "execution_count": 258,
   "metadata": {},
   "outputs": [],
   "source": [
    "fs_models = {}\n",
    "\n",
    "unused_vars = X_train.columns\n",
    "model_vars = []\n",
    "\n",
    "lr = LinearRegression()\n",
    "\n",
    "for i in range(1, len(X_train.columns) + 1):\n",
    "    best_score = -1e100\n",
    "    for var in unused_vars:\n",
    "        lr.fit(X_train[model_vars + [var]], y_train)\n",
    "        score = lr.score(X_test[model_vars + [var]], y_test)\n",
    "        if score > best_score:\n",
    "            best_score = score\n",
    "            best_model = lr\n",
    "            best_var = var\n",
    "    model_vars.append(best_var)\n",
    "    unused_vars = unused_vars.drop(best_var)\n",
    "    fs_models[i] = [best_score, model_vars.copy()]"
   ]
  },
  {
   "cell_type": "code",
   "execution_count": 259,
   "metadata": {
    "scrolled": false
   },
   "outputs": [
    {
     "name": "stdout",
     "output_type": "stream",
     "text": [
      "Best model (forward selection) has 12 variables and an R2 score of 0.345\n"
     ]
    }
   ],
   "source": [
    "max_score = 0\n",
    "\n",
    "for key in fs_models.keys():\n",
    "    if fs_models[key][0] > max_score:\n",
    "        max_score = fs_models[key][0]\n",
    "        num_vars = key\n",
    "print('Best model (forward selection) has {} variables and an R2 score of {:.4}'.format(num_vars, max_score))"
   ]
  },
  {
   "cell_type": "code",
   "execution_count": 260,
   "metadata": {},
   "outputs": [],
   "source": [
    "best_vars = fs_models[num_vars][1]"
   ]
  },
  {
   "cell_type": "code",
   "execution_count": 261,
   "metadata": {},
   "outputs": [],
   "source": [
    "lr.fit(X_train[best_vars], y_train)\n",
    "y_pred = lr.predict(X_test[best_vars])"
   ]
  },
  {
   "cell_type": "code",
   "execution_count": 262,
   "metadata": {},
   "outputs": [
    {
     "name": "stdout",
     "output_type": "stream",
     "text": [
      "Actual: 0.75 - Predicted: 0.6011860059301469\n",
      "Actual: 0.75 - Predicted: 0.601909684470863\n",
      "Actual: 0.5 - Predicted: 0.4818811161947691\n",
      "Actual: 0.625 - Predicted: 0.4414464964779155\n",
      "Actual: 0.625 - Predicted: 0.5327652689312676\n",
      "Actual: 0.4375 - Predicted: 0.5639895547411075\n",
      "Actual: 0.75 - Predicted: 0.5452829390094814\n",
      "Actual: 0.8125 - Predicted: 0.5315158833640042\n",
      "Actual: 0.75 - Predicted: 0.5478096114624477\n",
      "Actual: 0.5625 - Predicted: 0.4941080766163008\n",
      "Actual: 0.8125 - Predicted: 0.4955794574570989\n",
      "Actual: 0.25 - Predicted: 0.38990344060679566\n",
      "Actual: 0.625 - Predicted: 0.5170278660506415\n",
      "Actual: 0.6875 - Predicted: 0.41559545576131574\n",
      "Actual: 0.4375 - Predicted: 0.290550801313208\n",
      "Actual: 0.6875 - Predicted: 0.534812340838471\n",
      "Actual: 0.25 - Predicted: 0.29492585402117155\n",
      "Actual: 0.1875 - Predicted: 0.38387883556048563\n",
      "Actual: 0.875 - Predicted: 0.6877231369086312\n",
      "Actual: 0.3125 - Predicted: 0.3432342871858545\n",
      "Actual: 0.4375 - Predicted: 0.43064268450262233\n",
      "Actual: 0.5 - Predicted: 0.5324573785917807\n",
      "Actual: 0.625 - Predicted: 0.5395392582811811\n",
      "Actual: 0.5 - Predicted: 0.28432482224767963\n",
      "Actual: 0.3125 - Predicted: 0.5048792670386728\n",
      "Actual: 0.125 - Predicted: 0.24889749772298547\n",
      "Actual: 0.9375 - Predicted: 0.43175234908189536\n",
      "Actual: 0.75 - Predicted: 0.612373887248908\n",
      "Actual: 0.3125 - Predicted: 0.44494433892835034\n",
      "Actual: 0.1875 - Predicted: 0.4760849611225747\n",
      "Actual: 0.625 - Predicted: 0.6170903030310497\n",
      "Actual: 0.4375 - Predicted: 0.5158892008886904\n",
      "Actual: 0.3125 - Predicted: 0.3720867251795918\n",
      "Actual: 0.6875 - Predicted: 0.5766192315956694\n",
      "Actual: 0.3125 - Predicted: 0.44449806246185175\n",
      "Actual: 0.6875 - Predicted: 0.5353939275837764\n",
      "Actual: 0.1875 - Predicted: 0.39796799320643556\n",
      "Actual: 0.8125 - Predicted: 0.7135769614816796\n",
      "Actual: 0.6875 - Predicted: 0.5024273116830342\n"
     ]
    }
   ],
   "source": [
    "for i in range(len(y_pred)):\n",
    "    print('Actual: {} - Predicted: {}'.format(y_test.iloc[i], y_pred[i]))"
   ]
  },
  {
   "cell_type": "code",
   "execution_count": null,
   "metadata": {},
   "outputs": [],
   "source": []
  }
 ],
 "metadata": {
  "kernelspec": {
   "display_name": "Python 3",
   "language": "python",
   "name": "python3"
  },
  "language_info": {
   "codemirror_mode": {
    "name": "ipython",
    "version": 3
   },
   "file_extension": ".py",
   "mimetype": "text/x-python",
   "name": "python",
   "nbconvert_exporter": "python",
   "pygments_lexer": "ipython3",
   "version": "3.6.5"
  }
 },
 "nbformat": 4,
 "nbformat_minor": 2
}
