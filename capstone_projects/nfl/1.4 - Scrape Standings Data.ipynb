{
 "cells": [
  {
   "cell_type": "code",
   "execution_count": 1,
   "metadata": {},
   "outputs": [],
   "source": [
    "import requests\n",
    "from bs4 import BeautifulSoup\n",
    "import pandas as pd\n",
    "import numpy as np\n",
    "import json"
   ]
  },
  {
   "cell_type": "code",
   "execution_count": null,
   "metadata": {},
   "outputs": [],
   "source": [
    "def get_standings(soup, year):\n",
    "    '''\n",
    "    this will get the table and parse the data\n",
    "    '''\n",
    "    # get the table\n",
    "    table = soup.find_all('table')[0]\n",
    "    # convert table to list\n",
    "    table_list = table.getText(separator='\\n').split('\\n')\n",
    "    # create empty lists for standings and playoffs\n",
    "    standings = []\n",
    "    playoffs = []\n",
    "    # Check which teams made the playoffs and add all teams to standings\n",
    "    for i in range(len(table_list)):\n",
    "        if '--' in table_list[i]:\n",
    "            playoffs.append(table_list[i+1])\n",
    "        else:\n",
    "            standings.append(table_list[i])\n",
    "    # standings has team abbreviations and team names - just keep abbreviation\n",
    "    teams = standings[:64:2]\n",
    "    # the table data is after the teams\n",
    "    standings = standings[64:]\n",
    "    \n",
    "    standings_df = pd.DataFrame(np.reshape(standings, (33, 12)))\n",
    "    standings_df.columns = standings_df.iloc[0]\n",
    "    standings_df.drop(0, inplace=True)\n",
    "    standings_df.insert(0, 'Team', teams)\n",
    "    standings_df.insert(1, 'Year', year)\n",
    "    \n",
    "    standings_df['Playoffs'] = 0\n",
    "    \n",
    "    standings_df.loc[standings_df['Team'].isin(playoffs), 'Playoffs'] = 1\n",
    "    \n",
    "    use_cols = ['Team', 'Year', 'W', 'L', 'T', 'PF', 'PA', 'DIFF', 'Playoffs']\n",
    "    \n",
    "    standings_df = standings_df[use_cols]\n",
    "    \n",
    "    return standings_df"
   ]
  },
  {
   "cell_type": "code",
   "execution_count": 268,
   "metadata": {},
   "outputs": [],
   "source": [
    "def fix_team_names(standings_df):\n",
    "    standings_df['Team'] = standings_df['Team'].str.replace('STL', 'LA')\n",
    "    standings_df['Team'] = standings_df['Team'].str.replace('LAR', 'LA')\n",
    "    standings_df['Team'] = standings_df['Team'].str.replace('SD', 'LAC')\n",
    "    standings_df['Team'] = standings_df['Team'].str.replace('JAX', 'JAC')\n",
    "    standings_df['Team'] = standings_df['Team'].str.replace('WSH', 'WAS')\n",
    "    \n",
    "    return standings_df"
   ]
  },
  {
   "cell_type": "code",
   "execution_count": 269,
   "metadata": {},
   "outputs": [],
   "source": [
    "url = 'http://www.espn.com/nfl/standings/_/season/{}/group/league'"
   ]
  },
  {
   "cell_type": "code",
   "execution_count": 270,
   "metadata": {},
   "outputs": [],
   "source": [
    "years = ['2013', '2014', '2015', '2016', '2017']\n",
    "\n",
    "standings_df = pd.DataFrame()\n",
    "\n",
    "for year in years:\n",
    "    page = requests.get(url.format(year))\n",
    "    soup = BeautifulSoup(page.text, 'html.parser')\n",
    "    tmp = get_standings(soup, year)\n",
    "    standings_df = pd.concat([standings_df, tmp])\n",
    "\n",
    "for col in standings_df.columns[2:]:\n",
    "    standings_df[col] = standings_df[col].astype(float)\n",
    "    \n",
    "standings_df = fix_team_names(standings_df)"
   ]
  },
  {
   "cell_type": "code",
   "execution_count": 271,
   "metadata": {},
   "outputs": [],
   "source": [
    "standings_df.to_csv('data/standings.csv')"
   ]
  },
  {
   "cell_type": "code",
   "execution_count": null,
   "metadata": {},
   "outputs": [],
   "source": []
  }
 ],
 "metadata": {
  "kernelspec": {
   "display_name": "Python 3",
   "language": "python",
   "name": "python3"
  },
  "language_info": {
   "codemirror_mode": {
    "name": "ipython",
    "version": 3
   },
   "file_extension": ".py",
   "mimetype": "text/x-python",
   "name": "python",
   "nbconvert_exporter": "python",
   "pygments_lexer": "ipython3",
   "version": "3.6.5"
  }
 },
 "nbformat": 4,
 "nbformat_minor": 2
}
