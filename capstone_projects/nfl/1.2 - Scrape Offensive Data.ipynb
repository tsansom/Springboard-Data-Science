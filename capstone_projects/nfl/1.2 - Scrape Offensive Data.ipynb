{
 "cells": [
  {
   "cell_type": "code",
   "execution_count": 1,
   "metadata": {},
   "outputs": [],
   "source": [
    "import requests\n",
    "from bs4 import BeautifulSoup\n",
    "import pandas as pd\n",
    "import numpy as np\n",
    "import json"
   ]
  },
  {
   "cell_type": "code",
   "execution_count": 2,
   "metadata": {},
   "outputs": [],
   "source": [
    "with open('data/team_names.json', 'r') as f:\n",
    "    team_names = json.load(f)"
   ]
  },
  {
   "cell_type": "code",
   "execution_count": 3,
   "metadata": {},
   "outputs": [],
   "source": [
    "def get_team_key(value):\n",
    "    '''\n",
    "    This will retrieve the dictionary key associated with a given value\n",
    "    '''\n",
    "    try:\n",
    "        key = list(team_names.keys())[list(team_names.values()).index(value)]\n",
    "    except:\n",
    "        if value == 'st.-louis-rams':\n",
    "            key = 'LA'\n",
    "        elif value == 'san-diego-chargers':\n",
    "            key = 'LAC'\n",
    "    return key"
   ]
  },
  {
   "cell_type": "code",
   "execution_count": 4,
   "metadata": {},
   "outputs": [],
   "source": [
    "def get_table(soup, cat, year):\n",
    "    '''\n",
    "    This function will get the specified table from the soup\n",
    "    '''\n",
    "    # find the table\n",
    "    table = soup.find_all('table')[0]\n",
    "    # split on newlines and tabs (there's a lot of them) and filter out\n",
    "    # blank list entries\n",
    "    table_list = list(filter(None, '\\t'.join(table.text.split('\\n')).split('\\t')))\n",
    "    # filter out list items that are just a space\n",
    "    while ' ' in table_list:\n",
    "        table_list.remove(' ')\n",
    "    # reshape the table and convert to dataframe\n",
    "    table_df = pd.DataFrame(np.reshape(table_list, (33, int(len(table_list) / 33))))\n",
    "    # header is in the first row\n",
    "    table_df.columns = table_df.iloc[0]\n",
    "    # drop the header row and reset the index\n",
    "    table_df = table_df.drop(0).reset_index(drop=True)\n",
    "    # drop the rank column\n",
    "    table_df.drop('Rk', axis=1, inplace=True)\n",
    "    # convert team name to lowercase and join with a dash\n",
    "    # this is the format that came from the salary scraping\n",
    "    # so I'll stick with it here\n",
    "    table_df['Team'] = table_df['Team'].apply(lambda x: '-'.join(x.lower().split(' ')))\n",
    "    # look up the team abbreviation (key) from the team name (value)\n",
    "    table_df['Team'] = table_df['Team'].apply(get_team_key)\n",
    "    # insert the year\n",
    "    table_df.insert(1, 'Year', year)\n",
    "    \n",
    "    return table_df"
   ]
  },
  {
   "cell_type": "code",
   "execution_count": 5,
   "metadata": {},
   "outputs": [],
   "source": [
    "url = ('http://www.nfl.com/stats/categorystats?archive=false'\n",
    "       '&conference=null&role=TM&offensiveStatisticCategory={}'\n",
    "       '&defensiveStatisticCategory=null&season={}&seasonType=REG'\n",
    "       '&tabSeq=2&qualified=false&Submit=Go')"
   ]
  },
  {
   "cell_type": "code",
   "execution_count": 6,
   "metadata": {
    "scrolled": true
   },
   "outputs": [],
   "source": [
    "years = ['2012', '2013', '2014', '2015', '2016', '2017']\n",
    "\n",
    "categories = ['GAME_STATS', 'TEAM_PASSING', 'RUSHING']\n",
    "\n",
    "use_cols = {\n",
    "    'GAME_STATS': ['Team', 'Year', 'Pts/G', 'Pen Yds', 'TO'],\n",
    "    'RUSHING': ['Team', 'Year', 'Yds/G', 'TD'],\n",
    "    'TEAM_PASSING': ['Team', 'Year', 'Yds/G', 'Pct', 'TD', 'Sck', 'Rate']\n",
    "}\n",
    "\n",
    "offense_df = pd.DataFrame()\n",
    "\n",
    "for year in years:\n",
    "    # create dictionary to hold three different dataframes\n",
    "    tables = {}\n",
    "    for cat in categories:\n",
    "        page = requests.get(url.format(cat, year))\n",
    "        soup = BeautifulSoup(page.text, 'html.parser')\n",
    "        # get the table and clip the columns\n",
    "        tables[cat] = get_table(soup, cat, year)[use_cols[cat]]\n",
    "    # merge rushing and passing tables\n",
    "    merged_table = pd.merge(tables['RUSHING'], tables['TEAM_PASSING'], \n",
    "                            on=['Team', 'Year'], suffixes=('_rush', '_pass'))\n",
    "    # merge the game stats table\n",
    "    merged_table = merged_table.merge(tables['GAME_STATS'])\n",
    "    # concatenate merged tables for each year\n",
    "    offense_df = pd.concat([offense_df, merged_table])\n",
    "\n",
    "# convert object columns to floats\n",
    "for col in offense_df.columns[2:]:\n",
    "    offense_df[col] = offense_df[col].astype(str).str.replace(',', '').astype(float)"
   ]
  },
  {
   "cell_type": "code",
   "execution_count": 7,
   "metadata": {},
   "outputs": [],
   "source": [
    "offense_df.to_csv('data/offense.csv', index=False)"
   ]
  },
  {
   "cell_type": "code",
   "execution_count": null,
   "metadata": {},
   "outputs": [],
   "source": []
  }
 ],
 "metadata": {
  "kernelspec": {
   "display_name": "Python 3",
   "language": "python",
   "name": "python3"
  },
  "language_info": {
   "codemirror_mode": {
    "name": "ipython",
    "version": 3
   },
   "file_extension": ".py",
   "mimetype": "text/x-python",
   "name": "python",
   "nbconvert_exporter": "python",
   "pygments_lexer": "ipython3",
   "version": "3.6.5"
  }
 },
 "nbformat": 4,
 "nbformat_minor": 2
}
