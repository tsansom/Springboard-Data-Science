{
 "cells": [
  {
   "cell_type": "code",
   "execution_count": 1,
   "metadata": {
    "collapsed": true
   },
   "outputs": [],
   "source": [
    "import pandas as pd\n",
    "import os\n",
    "import pickle\n",
    "import numpy as np\n",
    "import matplotlib.pyplot as plt\n",
    "import seaborn as sns\n",
    "\n",
    "%matplotlib inline"
   ]
  },
  {
   "cell_type": "code",
   "execution_count": 27,
   "metadata": {
    "collapsed": true
   },
   "outputs": [],
   "source": [
    "def read_data():\n",
    "    #read the pickled data\n",
    "    pickle_in = open(os.path.join(os.getcwd(), 'data', 'processed', 'all_data.pickle'), 'rb')\n",
    "    data = pickle.load(pickle_in)\n",
    "\n",
    "    #This copy will hold the inflation adjusted values\n",
    "    data_orig = data.copy()\n",
    "\n",
    "    #the scorers for monetary variables is the middle value of the bin with assumed\n",
    "    #values for the uppermost bin\n",
    "    income_scorer = np.array([5, 12.5, 17.5, 22.5, 27.5, 32.5, 37.5, 42.5, 47.5,\n",
    "                              55, 67.5, 87.5, 112.5, 137.5, 175, 300]) * 1000\n",
    "    rent_scorer = np.array([50, 125, 175, 225, 275, 325, 375, 425, 475, 525, 575,\n",
    "                            625, 675, 725, 775, 850, 950, 1125, 1375, 1750, 2500])\n",
    "    value_scorer = np.array([5, 12.5, 17.5, 22.5, 27.5, 32.5, 27.5, 45, 55, 65, 75, \n",
    "                             85, 95, 112.5, 137.5, 162.5, 187.5, 225, 275, 350, 450, \n",
    "                             625, 875, 1500]) * 1000\n",
    "    #education gets a simple 1-8 score\n",
    "    education_scorer = np.arange(1, 8)\n",
    "\n",
    "    #to adjust the values to 2016 dollars, the index are adjusted by the \n",
    "    #yearly average consumer price index \n",
    "    inflation_correction = np.array([1.39422697, 1.11865482, 1.10084296, 1.06686838,\n",
    "                                     1.04536021, 1.03039158, 1.01380104, 1.01263642, \n",
    "                                     1.00000000])\n",
    "\n",
    "    #these are special cases and need to be dropped (make description below)\n",
    "    to_drop = [48453980000, 48453002319, 48453001606]\n",
    "\n",
    "    for i, year in enumerate(data.keys()):\n",
    "        for key in data[year].keys():\n",
    "            tmp = data[year][key]\n",
    "            #bust out the total population from the race df\n",
    "            if key == 'race':\n",
    "                population = tmp['total_population'].to_frame()\n",
    "            if key == 'unemployment':\n",
    "                tmp['employed'] = tmp['total_in_labor_force'] - tmp['unemployed']\n",
    "            #convert columns to percentages and drop the total\n",
    "            tmp = tmp[tmp.columns[1:]].divide(tmp[tmp.columns[0]], axis=0).fillna(0)\n",
    "            #calculate the index (single number to represent bins) \n",
    "            if len(tmp.columns) > 1:\n",
    "                if key == 'income':\n",
    "                    tmp['income_index'] = tmp.dot(income_scorer) * inflation_correction[i]\n",
    "                elif key == 'rent':\n",
    "                    tmp['rent_index'] = tmp.dot(rent_scorer) * inflation_correction[i]\n",
    "                elif key == 'value':\n",
    "                    tmp['value_index'] = tmp.dot(value_scorer) * inflation_correction[i]\n",
    "                elif key == 'education':\n",
    "                    tmp['education_index'] = tmp.dot(education_scorer)\n",
    "            #put the new percentage dataframe back in\n",
    "            data[year][key] = tmp[tmp.columns[-1]].copy().drop(to_drop).to_frame()\n",
    "        data[year] = pd.concat([data[year][key] for key in data[year].keys()], axis=1)\n",
    "        data[year]['year'] = year\n",
    "    return data, data_orig"
   ]
  },
  {
   "cell_type": "code",
   "execution_count": 31,
   "metadata": {},
   "outputs": [],
   "source": [
    "data['2000'].index = zip(data['2000'].index, data['2000']['year'])"
   ]
  },
  {
   "cell_type": "code",
   "execution_count": 38,
   "metadata": {},
   "outputs": [
    {
     "data": {
      "text/plain": [
       "Index(['year', 'employed', 'value_index', 'rent_index', 'white_alone',\n",
       "       'education_index', 'income_index'],\n",
       "      dtype='object')"
      ]
     },
     "execution_count": 38,
     "metadata": {},
     "output_type": "execute_result"
    }
   ],
   "source": [
    "data['2000'].columns[::-1]"
   ]
  },
  {
   "cell_type": "code",
   "execution_count": null,
   "metadata": {
    "collapsed": true
   },
   "outputs": [],
   "source": []
  },
  {
   "cell_type": "code",
   "execution_count": 28,
   "metadata": {},
   "outputs": [
    {
     "data": {
      "text/html": [
       "<div>\n",
       "<style scoped>\n",
       "    .dataframe tbody tr th:only-of-type {\n",
       "        vertical-align: middle;\n",
       "    }\n",
       "\n",
       "    .dataframe tbody tr th {\n",
       "        vertical-align: top;\n",
       "    }\n",
       "\n",
       "    .dataframe thead th {\n",
       "        text-align: right;\n",
       "    }\n",
       "</style>\n",
       "<table border=\"1\" class=\"dataframe\">\n",
       "  <thead>\n",
       "    <tr style=\"text-align: right;\">\n",
       "      <th></th>\n",
       "      <th>income_index</th>\n",
       "      <th>education_index</th>\n",
       "      <th>white_alone</th>\n",
       "      <th>rent_index</th>\n",
       "      <th>value_index</th>\n",
       "      <th>employed</th>\n",
       "      <th>year</th>\n",
       "    </tr>\n",
       "    <tr>\n",
       "      <th>geoid</th>\n",
       "      <th></th>\n",
       "      <th></th>\n",
       "      <th></th>\n",
       "      <th></th>\n",
       "      <th></th>\n",
       "      <th></th>\n",
       "      <th></th>\n",
       "    </tr>\n",
       "  </thead>\n",
       "  <tbody>\n",
       "    <tr>\n",
       "      <th>48021950100</th>\n",
       "      <td>73599.981153</td>\n",
       "      <td>3.617289</td>\n",
       "      <td>0.861927</td>\n",
       "      <td>723.087018</td>\n",
       "      <td>153375.729370</td>\n",
       "      <td>0.983089</td>\n",
       "      <td>2000</td>\n",
       "    </tr>\n",
       "    <tr>\n",
       "      <th>48021950200</th>\n",
       "      <td>67668.904461</td>\n",
       "      <td>3.154098</td>\n",
       "      <td>0.675920</td>\n",
       "      <td>752.448335</td>\n",
       "      <td>118748.232408</td>\n",
       "      <td>0.967152</td>\n",
       "      <td>2000</td>\n",
       "    </tr>\n",
       "    <tr>\n",
       "      <th>48021950300</th>\n",
       "      <td>78678.935400</td>\n",
       "      <td>3.669384</td>\n",
       "      <td>0.810971</td>\n",
       "      <td>808.205215</td>\n",
       "      <td>178808.676101</td>\n",
       "      <td>0.970323</td>\n",
       "      <td>2000</td>\n",
       "    </tr>\n",
       "    <tr>\n",
       "      <th>48021950400</th>\n",
       "      <td>75438.539903</td>\n",
       "      <td>4.075207</td>\n",
       "      <td>0.766053</td>\n",
       "      <td>869.478211</td>\n",
       "      <td>158917.899778</td>\n",
       "      <td>0.983405</td>\n",
       "      <td>2000</td>\n",
       "    </tr>\n",
       "    <tr>\n",
       "      <th>48021950600</th>\n",
       "      <td>67172.153161</td>\n",
       "      <td>3.465056</td>\n",
       "      <td>0.889213</td>\n",
       "      <td>737.822784</td>\n",
       "      <td>134719.422878</td>\n",
       "      <td>0.968913</td>\n",
       "      <td>2000</td>\n",
       "    </tr>\n",
       "  </tbody>\n",
       "</table>\n",
       "</div>"
      ],
      "text/plain": [
       "             income_index  education_index  white_alone  rent_index  \\\n",
       "geoid                                                                 \n",
       "48021950100  73599.981153         3.617289     0.861927  723.087018   \n",
       "48021950200  67668.904461         3.154098     0.675920  752.448335   \n",
       "48021950300  78678.935400         3.669384     0.810971  808.205215   \n",
       "48021950400  75438.539903         4.075207     0.766053  869.478211   \n",
       "48021950600  67172.153161         3.465056     0.889213  737.822784   \n",
       "\n",
       "               value_index  employed  year  \n",
       "geoid                                       \n",
       "48021950100  153375.729370  0.983089  2000  \n",
       "48021950200  118748.232408  0.967152  2000  \n",
       "48021950300  178808.676101  0.970323  2000  \n",
       "48021950400  158917.899778  0.983405  2000  \n",
       "48021950600  134719.422878  0.968913  2000  "
      ]
     },
     "execution_count": 28,
     "metadata": {},
     "output_type": "execute_result"
    }
   ],
   "source": [
    "data, data_orig = read_data()\n",
    "x = pd.concat([data[year] for year in data.keys()])\n",
    "x.head()"
   ]
  },
  {
   "cell_type": "code",
   "execution_count": 19,
   "metadata": {
    "scrolled": true
   },
   "outputs": [
    {
     "name": "stdout",
     "output_type": "stream",
     "text": [
      "income_index Empty DataFrame\n",
      "Columns: [income_index, education_index, white_alone, rent_index, value_index, employed]\n",
      "Index: []\n",
      "education_index Empty DataFrame\n",
      "Columns: [income_index, education_index, white_alone, rent_index, value_index, employed]\n",
      "Index: []\n",
      "white_alone Empty DataFrame\n",
      "Columns: [income_index, education_index, white_alone, rent_index, value_index, employed]\n",
      "Index: []\n",
      "rent_index               income_index  education_index  white_alone  rent_index  \\\n",
      "geoid                                                                  \n",
      "48453001916  196777.138330         6.024712     0.841978         0.0   \n",
      "48491020109  127231.845177         4.849755     0.931227         0.0   \n",
      "48453001916  205971.206893         6.178441     0.848737         0.0   \n",
      "48491020109  136659.007316         4.908183     0.922083         0.0   \n",
      "48453001916  205590.327169         6.186397     0.832890         0.0   \n",
      "48453001917  174744.160525         6.023046     0.872031         0.0   \n",
      "\n",
      "               value_index  employed  \n",
      "geoid                                 \n",
      "48453001916  724128.195215  0.970037  \n",
      "48491020109  337380.206141  0.940052  \n",
      "48453001916  731532.250559  0.980185  \n",
      "48491020109  316972.902309  0.957116  \n",
      "48453001916  710523.553739  0.984113  \n",
      "48453001917  539184.744099  0.946940  \n",
      "value_index              income_index  education_index  white_alone   rent_index  \\\n",
      "geoid                                                                  \n",
      "48453000203  65192.850374         6.002611     0.828641  1745.857691   \n",
      "48453000601  15664.745267         5.181176     0.630958  1347.243792   \n",
      "48453000203  49401.567518         3.503208     0.747225  1695.356011   \n",
      "48453000601  14683.551482         4.612836     0.647487  1288.740873   \n",
      "48453001753  69946.780345         5.603933     0.682107  1112.458318   \n",
      "48453000203  57982.768197         5.731629     0.814275  1704.187605   \n",
      "48453000601  15195.180653         4.225000     0.678606  1349.516899   \n",
      "48453001753  71467.836454         5.444444     0.705584  1111.635269   \n",
      "48453000203  72739.056946         5.545788     0.842959  1708.497296   \n",
      "48453000601  15660.415383         4.082840     0.688185  1414.919261   \n",
      "48453001753  69003.240253         5.305085     0.787798  1091.103171   \n",
      "48453001849  71121.151409         5.265649     0.557368  1061.799210   \n",
      "48453000203  69500.253260         5.519002     0.837454  1723.312858   \n",
      "48453000601  14468.222578         3.837093     0.715586  1414.520631   \n",
      "48453001753  63284.702567         5.505632     0.785918  1099.235402   \n",
      "48453001849  77311.996479         5.146285     0.521220  1083.436354   \n",
      "48453000203  67703.978297         5.569318     0.788554  1724.151429   \n",
      "48453001753  64439.985134         5.570755     0.725681  1111.106603   \n",
      "48453001849  70502.493012         5.118787     0.541482  1131.305282   \n",
      "48453000203  71266.747750         5.795007     0.833562  1783.125588   \n",
      "48453001753  72271.326808         5.707289     0.757722  1179.226751   \n",
      "48453001849  70619.465309         5.051558     0.601031  1168.037525   \n",
      "48453000203  74707.746479         5.578454     0.772109  1770.845070   \n",
      "48453001753  75401.662050         5.796394     0.737466  1240.778401   \n",
      "\n",
      "             value_index  employed  \n",
      "geoid                               \n",
      "48453000203          0.0  0.959688  \n",
      "48453000601          0.0  0.841052  \n",
      "48453000203          0.0  0.971059  \n",
      "48453000601          0.0  0.860969  \n",
      "48453001753          0.0  0.958451  \n",
      "48453000203          0.0  0.967279  \n",
      "48453000601          0.0  0.674997  \n",
      "48453001753          0.0  0.970976  \n",
      "48453000203          0.0  0.967836  \n",
      "48453000601          0.0  0.713963  \n",
      "48453001753          0.0  0.963208  \n",
      "48453001849          0.0  0.957039  \n",
      "48453000203          0.0  0.935799  \n",
      "48453000601          0.0  0.748983  \n",
      "48453001753          0.0  0.970588  \n",
      "48453001849          0.0  0.955039  \n",
      "48453000203          0.0  0.912256  \n",
      "48453001753          0.0  0.964213  \n",
      "48453001849          0.0  0.929930  \n",
      "48453000203          0.0  0.904613  \n",
      "48453001753          0.0  0.945122  \n",
      "48453001849          0.0  0.952011  \n",
      "48453000203          0.0  0.913831  \n",
      "48453001753          0.0  0.953398  \n",
      "employed Empty DataFrame\n",
      "Columns: [income_index, education_index, white_alone, rent_index, value_index, employed]\n",
      "Index: []\n"
     ]
    }
   ],
   "source": [
    "for col in x.columns:\n",
    "    print(col, x[x[col] == 0])"
   ]
  },
  {
   "cell_type": "code",
   "execution_count": 26,
   "metadata": {},
   "outputs": [
    {
     "data": {
      "text/html": [
       "<div>\n",
       "<style scoped>\n",
       "    .dataframe tbody tr th:only-of-type {\n",
       "        vertical-align: middle;\n",
       "    }\n",
       "\n",
       "    .dataframe tbody tr th {\n",
       "        vertical-align: top;\n",
       "    }\n",
       "\n",
       "    .dataframe thead th {\n",
       "        text-align: right;\n",
       "    }\n",
       "</style>\n",
       "<table border=\"1\" class=\"dataframe\">\n",
       "  <thead>\n",
       "    <tr style=\"text-align: right;\">\n",
       "      <th></th>\n",
       "      <th>income_index</th>\n",
       "      <th>education_index</th>\n",
       "      <th>white_alone</th>\n",
       "      <th>rent_index</th>\n",
       "      <th>value_index</th>\n",
       "      <th>employed</th>\n",
       "    </tr>\n",
       "    <tr>\n",
       "      <th>geoid</th>\n",
       "      <th></th>\n",
       "      <th></th>\n",
       "      <th></th>\n",
       "      <th></th>\n",
       "      <th></th>\n",
       "      <th></th>\n",
       "    </tr>\n",
       "  </thead>\n",
       "  <tbody>\n",
       "    <tr>\n",
       "      <th>48453001916</th>\n",
       "      <td>216038.217983</td>\n",
       "      <td>5.824662</td>\n",
       "      <td>0.906592</td>\n",
       "      <td>3142.701405</td>\n",
       "      <td>490996.576171</td>\n",
       "      <td>0.988698</td>\n",
       "    </tr>\n",
       "    <tr>\n",
       "      <th>48453001916</th>\n",
       "      <td>195620.030495</td>\n",
       "      <td>5.974482</td>\n",
       "      <td>0.867913</td>\n",
       "      <td>1897.874673</td>\n",
       "      <td>597845.356813</td>\n",
       "      <td>0.962112</td>\n",
       "    </tr>\n",
       "    <tr>\n",
       "      <th>48453001916</th>\n",
       "      <td>196777.138330</td>\n",
       "      <td>6.024712</td>\n",
       "      <td>0.841978</td>\n",
       "      <td>0.000000</td>\n",
       "      <td>724128.195215</td>\n",
       "      <td>0.970037</td>\n",
       "    </tr>\n",
       "    <tr>\n",
       "      <th>48453001916</th>\n",
       "      <td>205971.206893</td>\n",
       "      <td>6.178441</td>\n",
       "      <td>0.848737</td>\n",
       "      <td>0.000000</td>\n",
       "      <td>731532.250559</td>\n",
       "      <td>0.980185</td>\n",
       "    </tr>\n",
       "    <tr>\n",
       "      <th>48453001916</th>\n",
       "      <td>205590.327169</td>\n",
       "      <td>6.186397</td>\n",
       "      <td>0.832890</td>\n",
       "      <td>0.000000</td>\n",
       "      <td>710523.553739</td>\n",
       "      <td>0.984113</td>\n",
       "    </tr>\n",
       "    <tr>\n",
       "      <th>48453001916</th>\n",
       "      <td>206959.643539</td>\n",
       "      <td>6.145557</td>\n",
       "      <td>0.859659</td>\n",
       "      <td>1416.788423</td>\n",
       "      <td>747896.205138</td>\n",
       "      <td>0.996051</td>\n",
       "    </tr>\n",
       "    <tr>\n",
       "      <th>48453001916</th>\n",
       "      <td>220376.900590</td>\n",
       "      <td>6.148981</td>\n",
       "      <td>0.870528</td>\n",
       "      <td>1173.584900</td>\n",
       "      <td>752254.838654</td>\n",
       "      <td>0.989986</td>\n",
       "    </tr>\n",
       "    <tr>\n",
       "      <th>48453001916</th>\n",
       "      <td>217298.968540</td>\n",
       "      <td>6.046875</td>\n",
       "      <td>0.876036</td>\n",
       "      <td>1554.115617</td>\n",
       "      <td>674199.104112</td>\n",
       "      <td>0.985992</td>\n",
       "    </tr>\n",
       "    <tr>\n",
       "      <th>48453001916</th>\n",
       "      <td>205592.998955</td>\n",
       "      <td>5.901531</td>\n",
       "      <td>0.879364</td>\n",
       "      <td>1505.434783</td>\n",
       "      <td>714371.569704</td>\n",
       "      <td>0.980009</td>\n",
       "    </tr>\n",
       "  </tbody>\n",
       "</table>\n",
       "</div>"
      ],
      "text/plain": [
       "              income_index  education_index  white_alone   rent_index  \\\n",
       "geoid                                                                   \n",
       "48453001916  216038.217983         5.824662     0.906592  3142.701405   \n",
       "48453001916  195620.030495         5.974482     0.867913  1897.874673   \n",
       "48453001916  196777.138330         6.024712     0.841978     0.000000   \n",
       "48453001916  205971.206893         6.178441     0.848737     0.000000   \n",
       "48453001916  205590.327169         6.186397     0.832890     0.000000   \n",
       "48453001916  206959.643539         6.145557     0.859659  1416.788423   \n",
       "48453001916  220376.900590         6.148981     0.870528  1173.584900   \n",
       "48453001916  217298.968540         6.046875     0.876036  1554.115617   \n",
       "48453001916  205592.998955         5.901531     0.879364  1505.434783   \n",
       "\n",
       "               value_index  employed  \n",
       "geoid                                 \n",
       "48453001916  490996.576171  0.988698  \n",
       "48453001916  597845.356813  0.962112  \n",
       "48453001916  724128.195215  0.970037  \n",
       "48453001916  731532.250559  0.980185  \n",
       "48453001916  710523.553739  0.984113  \n",
       "48453001916  747896.205138  0.996051  \n",
       "48453001916  752254.838654  0.989986  \n",
       "48453001916  674199.104112  0.985992  \n",
       "48453001916  714371.569704  0.980009  "
      ]
     },
     "execution_count": 26,
     "metadata": {},
     "output_type": "execute_result"
    }
   ],
   "source": [
    "x.loc[48453001916]"
   ]
  },
  {
   "cell_type": "code",
   "execution_count": null,
   "metadata": {
    "collapsed": true
   },
   "outputs": [],
   "source": []
  },
  {
   "cell_type": "code",
   "execution_count": null,
   "metadata": {
    "collapsed": true
   },
   "outputs": [],
   "source": []
  },
  {
   "cell_type": "code",
   "execution_count": null,
   "metadata": {
    "collapsed": true
   },
   "outputs": [],
   "source": []
  },
  {
   "cell_type": "code",
   "execution_count": 16,
   "metadata": {},
   "outputs": [
    {
     "data": {
      "text/html": [
       "<div>\n",
       "<style scoped>\n",
       "    .dataframe tbody tr th:only-of-type {\n",
       "        vertical-align: middle;\n",
       "    }\n",
       "\n",
       "    .dataframe tbody tr th {\n",
       "        vertical-align: top;\n",
       "    }\n",
       "\n",
       "    .dataframe thead th {\n",
       "        text-align: right;\n",
       "    }\n",
       "</style>\n",
       "<table border=\"1\" class=\"dataframe\">\n",
       "  <thead>\n",
       "    <tr style=\"text-align: right;\">\n",
       "      <th></th>\n",
       "      <th>income_index</th>\n",
       "      <th>education_index</th>\n",
       "      <th>white_alone</th>\n",
       "      <th>rent_index</th>\n",
       "      <th>value_index</th>\n",
       "      <th>employed</th>\n",
       "    </tr>\n",
       "  </thead>\n",
       "  <tbody>\n",
       "    <tr>\n",
       "      <th>count</th>\n",
       "      <td>3.123000e+03</td>\n",
       "      <td>3.123000e+03</td>\n",
       "      <td>3.123000e+03</td>\n",
       "      <td>3.123000e+03</td>\n",
       "      <td>3.123000e+03</td>\n",
       "      <td>3.123000e+03</td>\n",
       "    </tr>\n",
       "    <tr>\n",
       "      <th>mean</th>\n",
       "      <td>3.467892e-17</td>\n",
       "      <td>5.616882e-18</td>\n",
       "      <td>9.662460e-16</td>\n",
       "      <td>-4.906596e-16</td>\n",
       "      <td>8.315119e-17</td>\n",
       "      <td>-2.964647e-15</td>\n",
       "    </tr>\n",
       "    <tr>\n",
       "      <th>std</th>\n",
       "      <td>1.000160e+00</td>\n",
       "      <td>1.000160e+00</td>\n",
       "      <td>1.000160e+00</td>\n",
       "      <td>1.000160e+00</td>\n",
       "      <td>1.000160e+00</td>\n",
       "      <td>1.000160e+00</td>\n",
       "    </tr>\n",
       "    <tr>\n",
       "      <th>min</th>\n",
       "      <td>-2.009881e+00</td>\n",
       "      <td>-2.531423e+00</td>\n",
       "      <td>-4.202546e+00</td>\n",
       "      <td>-3.737762e+00</td>\n",
       "      <td>-1.696509e+00</td>\n",
       "      <td>-6.931418e+00</td>\n",
       "    </tr>\n",
       "    <tr>\n",
       "      <th>25%</th>\n",
       "      <td>-7.015586e-01</td>\n",
       "      <td>-7.771712e-01</td>\n",
       "      <td>-5.904487e-01</td>\n",
       "      <td>-6.639054e-01</td>\n",
       "      <td>-6.356295e-01</td>\n",
       "      <td>-4.666847e-01</td>\n",
       "    </tr>\n",
       "    <tr>\n",
       "      <th>50%</th>\n",
       "      <td>-2.057591e-01</td>\n",
       "      <td>8.892251e-02</td>\n",
       "      <td>2.479851e-01</td>\n",
       "      <td>-1.780713e-01</td>\n",
       "      <td>-2.988940e-01</td>\n",
       "      <td>1.725971e-01</td>\n",
       "    </tr>\n",
       "    <tr>\n",
       "      <th>75%</th>\n",
       "      <td>4.601948e-01</td>\n",
       "      <td>7.716397e-01</td>\n",
       "      <td>7.428748e-01</td>\n",
       "      <td>4.883260e-01</td>\n",
       "      <td>3.044597e-01</td>\n",
       "      <td>6.747347e-01</td>\n",
       "    </tr>\n",
       "    <tr>\n",
       "      <th>max</th>\n",
       "      <td>4.776305e+00</td>\n",
       "      <td>2.077267e+00</td>\n",
       "      <td>1.518880e+00</td>\n",
       "      <td>6.153849e+00</td>\n",
       "      <td>5.715703e+00</td>\n",
       "      <td>1.650901e+00</td>\n",
       "    </tr>\n",
       "  </tbody>\n",
       "</table>\n",
       "</div>"
      ],
      "text/plain": [
       "       income_index  education_index   white_alone    rent_index  \\\n",
       "count  3.123000e+03     3.123000e+03  3.123000e+03  3.123000e+03   \n",
       "mean   3.467892e-17     5.616882e-18  9.662460e-16 -4.906596e-16   \n",
       "std    1.000160e+00     1.000160e+00  1.000160e+00  1.000160e+00   \n",
       "min   -2.009881e+00    -2.531423e+00 -4.202546e+00 -3.737762e+00   \n",
       "25%   -7.015586e-01    -7.771712e-01 -5.904487e-01 -6.639054e-01   \n",
       "50%   -2.057591e-01     8.892251e-02  2.479851e-01 -1.780713e-01   \n",
       "75%    4.601948e-01     7.716397e-01  7.428748e-01  4.883260e-01   \n",
       "max    4.776305e+00     2.077267e+00  1.518880e+00  6.153849e+00   \n",
       "\n",
       "        value_index      employed  \n",
       "count  3.123000e+03  3.123000e+03  \n",
       "mean   8.315119e-17 -2.964647e-15  \n",
       "std    1.000160e+00  1.000160e+00  \n",
       "min   -1.696509e+00 -6.931418e+00  \n",
       "25%   -6.356295e-01 -4.666847e-01  \n",
       "50%   -2.988940e-01  1.725971e-01  \n",
       "75%    3.044597e-01  6.747347e-01  \n",
       "max    5.715703e+00  1.650901e+00  "
      ]
     },
     "execution_count": 16,
     "metadata": {},
     "output_type": "execute_result"
    }
   ],
   "source": [
    "from sklearn.preprocessing import StandardScaler\n",
    "scaler = StandardScaler()\n",
    "x_s = pd.DataFrame(scaler.fit_transform(x), index=x.index, columns=x.columns)\n",
    "x_s.describe()"
   ]
  },
  {
   "cell_type": "markdown",
   "metadata": {},
   "source": [
    "## Elbow method"
   ]
  },
  {
   "cell_type": "code",
   "execution_count": 12,
   "metadata": {},
   "outputs": [
    {
     "name": "stdout",
     "output_type": "stream",
     "text": [
      "0\n",
      "1\n",
      "2\n",
      "3\n",
      "4\n",
      "5\n",
      "6\n",
      "7\n",
      "8\n",
      "9\n",
      "10\n",
      "11\n",
      "12\n",
      "13\n",
      "14\n",
      "15\n",
      "16\n",
      "17\n",
      "18\n",
      "19\n"
     ]
    },
    {
     "data": {
      "image/png": "[encoded data removed]",
      "text/plain": [
       "<matplotlib.figure.Figure at 0x2593ef67ba8>"
      ]
     },
     "metadata": {},
     "output_type": "display_data"
    }
   ],
   "source": [
    "from sklearn.cluster import KMeans\n",
    "import scikitplot as skplt\n",
    "from sklearn.metrics import silhouette_score\n",
    "\n",
    "fig, (ax1, ax2) = plt.subplots(1, 2, figsize=(12, 5))\n",
    "for j in range(20):\n",
    "    print(j)\n",
    "    wcss = []\n",
    "    sil = []\n",
    "    for i in range(2, 11):\n",
    "        kmeans = KMeans(n_clusters=i)\n",
    "        kmeans.fit(x_s)\n",
    "        wcss.append(kmeans.inertia_)\n",
    "        sil.append(silhouette_score(x_s, kmeans.labels_))\n",
    "        #skplt.metrics.plot_silhouette(x_s, kmeans.labels_)\n",
    "    ax1.plot(range(2, 11), wcss, color='gray', alpha=0.1)\n",
    "    ax2.plot(range(2, 11), sil, color='gray', alpha=0.1)"
   ]
  },
  {
   "cell_type": "code",
   "execution_count": 9,
   "metadata": {},
   "outputs": [
    {
     "data": {
      "text/plain": [
       "[<matplotlib.lines.Line2D at 0x2593eee6d68>]"
      ]
     },
     "execution_count": 9,
     "metadata": {},
     "output_type": "execute_result"
    },
    {
     "data": {
      "image/png": "[encoded data removed]",
      "text/plain": [
       "<matplotlib.figure.Figure at 0x2593ee77940>"
      ]
     },
     "metadata": {},
     "output_type": "display_data"
    }
   ],
   "source": [
    "fig, (ax1, ax2) = plt.subplots(1, 2, figsize=(12, 5))\n",
    "ax1.plot(range(2, 11), wcss)\n",
    "ax2.plot(range(2, 11), sil)"
   ]
  },
  {
   "cell_type": "code",
   "execution_count": 15,
   "metadata": {},
   "outputs": [
    {
     "name": "stdout",
     "output_type": "stream",
     "text": [
      "[ 0.58580751  0.13547128  0.11569097  0.08623516  0.04969926  0.02709582]\n",
      "[  9.75846744e-01   2.41508193e-02   2.43635681e-06   1.32022406e-11\n",
      "   6.69207479e-13   5.04168240e-14]\n"
     ]
    }
   ],
   "source": [
    "from sklearn.decomposition import PCA\n",
    "\n",
    "pca = PCA()\n",
    "pca.fit(x_s)\n",
    "print(pca.explained_variance_ratio_)\n",
    "pca.fit(x)\n",
    "print(pca.explained_variance_ratio_)"
   ]
  },
  {
   "cell_type": "code",
   "execution_count": 14,
   "metadata": {},
   "outputs": [
    {
     "data": {
      "text/plain": [
       "[<matplotlib.lines.Line2D at 0x2593f123470>]"
      ]
     },
     "execution_count": 14,
     "metadata": {},
     "output_type": "execute_result"
    },
    {
     "data": {
      "image/png": "[encoded data removed]",
      "text/plain": [
       "<matplotlib.figure.Figure at 0x259418d64e0>"
      ]
     },
     "metadata": {},
     "output_type": "display_data"
    }
   ],
   "source": [
    "plt.plot(range(1, 7), pca.explained_variance_)"
   ]
  },
  {
   "cell_type": "code",
   "execution_count": null,
   "metadata": {
    "collapsed": true
   },
   "outputs": [],
   "source": []
  }
 ],
 "metadata": {
  "kernelspec": {
   "display_name": "Python 3",
   "language": "python",
   "name": "python3"
  },
  "language_info": {
   "codemirror_mode": {
    "name": "ipython",
    "version": 3
   },
   "file_extension": ".py",
   "mimetype": "text/x-python",
   "name": "python",
   "nbconvert_exporter": "python",
   "pygments_lexer": "ipython3",
   "version": "3.6.4"
  }
 },
 "nbformat": 4,
 "nbformat_minor": 2
}
