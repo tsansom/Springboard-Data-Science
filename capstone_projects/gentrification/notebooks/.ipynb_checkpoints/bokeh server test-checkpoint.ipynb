{
 "cells": [
  {
   "cell_type": "code",
   "execution_count": 1,
   "metadata": {},
   "outputs": [],
   "source": [
    "from cartopy.io.shapereader import Reader\n",
    "from bokeh.models import ColumnDataSource, HoverTool, LogColorMapper, WidgetBox, ColorMapper, ColorBar, LogTicker, Slider\n",
    "from bokeh.io import output_notebook, push_notebook, show\n",
    "from bokeh.plotting import figure, Figure\n",
    "from bokeh.layouts import column, widgetbox\n",
    "from bokeh.palettes import Viridis256 as palette\n",
    "# from bokeh.palettes import Magma256 as palette\n",
    "from bokeh.models.widgets import Panel, Tabs, Slider, RadioButtonGroup\n",
    "import os\n",
    "import pandas as pd\n",
    "import pickle\n",
    "import numpy as np\n",
    "from ipywidgets import interact, SelectionSlider, Select, ToggleButtons\n",
    "from bokeh.io import curdoc\n",
    "\n",
    "from bokeh.server.server import Server\n",
    "from bokeh.application import Application\n",
    "from bokeh.application.handlers.function import FunctionHandler\n",
    "\n",
    "\n",
    "#output_notebook()"
   ]
  },
  {
   "cell_type": "code",
   "execution_count": 2,
   "metadata": {},
   "outputs": [],
   "source": [
    "pickle_data = open(os.path.join(os.getcwd(), '..', 'data', 'processed', 'clean_data.pickle'), 'rb')\n",
    "data = pickle.load(pickle_data)\n",
    "\n",
    "geoids = list(set(data.index))"
   ]
  },
  {
   "cell_type": "code",
   "execution_count": 3,
   "metadata": {},
   "outputs": [],
   "source": [
    "# read the shapefile\n",
    "tracts = Reader(os.path.join('..', 'shapefiles', 'austin_metro_tracts.shp'))\n",
    "# extract the x's and y's (bokeh preferred format is list of lists)\n",
    "xs, ys, names, tract = [], [], [], []\n",
    "for r, g in zip(tracts.records(), tracts.geometries()):\n",
    "    if int(r.attributes['GEOID']) in geoids:\n",
    "        xs.append(list(g[0].exterior.coords.xy[0]))\n",
    "        ys.append(list(g[0].exterior.coords.xy[1]))\n",
    "        names.append(int(r.attributes['GEOID']))\n",
    "        tract.append(float(r.attributes['GEOID'][-6:]) / 100)"
   ]
  },
  {
   "cell_type": "code",
   "execution_count": 4,
   "metadata": {},
   "outputs": [],
   "source": [
    "# set up the color mapper\n",
    "color_mapper = LogColorMapper(palette=palette)\n",
    "# choose which bokeh tools are included\n",
    "TOOLS = 'pan, wheel_zoom, hover, reset, save'"
   ]
  },
  {
   "cell_type": "code",
   "execution_count": 5,
   "metadata": {},
   "outputs": [],
   "source": [
    "init_year = '2000'\n",
    "init_var = 'income_index'\n",
    "init_title = 'Income'\n",
    "init_name = 'Income Index'"
   ]
  },
  {
   "cell_type": "code",
   "execution_count": 8,
   "metadata": {
    "collapsed": true
   },
   "outputs": [],
   "source": [
    "Slider?"
   ]
  },
  {
   "cell_type": "code",
   "execution_count": null,
   "metadata": {
    "collapsed": true
   },
   "outputs": [],
   "source": []
  }
 ],
 "metadata": {
  "kernelspec": {
   "display_name": "Python 3",
   "language": "python",
   "name": "python3"
  },
  "language_info": {
   "codemirror_mode": {
    "name": "ipython",
    "version": 3
   },
   "file_extension": ".py",
   "mimetype": "text/x-python",
   "name": "python",
   "nbconvert_exporter": "python",
   "pygments_lexer": "ipython3",
   "version": "3.6.4"
  }
 },
 "nbformat": 4,
 "nbformat_minor": 2
}
