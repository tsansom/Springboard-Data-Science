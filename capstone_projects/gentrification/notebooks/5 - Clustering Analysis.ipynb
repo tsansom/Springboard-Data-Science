{
 "cells": [
  {
   "cell_type": "code",
   "execution_count": 7,
   "metadata": {
    "collapsed": true
   },
   "outputs": [],
   "source": [
    "import pandas as pd\n",
    "import os\n",
    "import pickle\n",
    "import numpy as np\n",
    "import matplotlib.pyplot as plt\n",
    "import seaborn as sns\n",
    "\n",
    "from sklearn.decomposition import PCA\n",
    "from sklearn.preprocessing import StandardScaler\n",
    "\n",
    "%matplotlib inline"
   ]
  },
  {
   "cell_type": "code",
   "execution_count": 8,
   "metadata": {
    "collapsed": true
   },
   "outputs": [],
   "source": [
    "pickle_data = open(os.path.join(os.getcwd(), '..', 'data', 'processed', 'clean_data.pickle'), 'rb')\n",
    "data = pickle.load(pickle_data)"
   ]
  },
  {
   "cell_type": "code",
   "execution_count": 9,
   "metadata": {
    "collapsed": true
   },
   "outputs": [],
   "source": [
    "cols = data.columns[1:]"
   ]
  },
  {
   "cell_type": "markdown",
   "metadata": {},
   "source": [
    "First, I'll standardize the data using the StandardScaler class from sklearn. Standardization is extremely important for clustering since euclidean distance is often used as a distance measure between points/clusters. If the data is not standardized prior to performing clustering, features will contribute unequally to the end result. For my dataset, monetary features such as home value are on the order of 100,000, while percentages are on the order of 100. If using euclidean distances for clustering, the percentage features will have very little effect on the final result."
   ]
  },
  {
   "cell_type": "code",
   "execution_count": 10,
   "metadata": {},
   "outputs": [
    {
     "data": {
      "text/html": [
       "<div>\n",
       "<style scoped>\n",
       "    .dataframe tbody tr th:only-of-type {\n",
       "        vertical-align: middle;\n",
       "    }\n",
       "\n",
       "    .dataframe tbody tr th {\n",
       "        vertical-align: top;\n",
       "    }\n",
       "\n",
       "    .dataframe thead th {\n",
       "        text-align: right;\n",
       "    }\n",
       "</style>\n",
       "<table border=\"1\" class=\"dataframe\">\n",
       "  <thead>\n",
       "    <tr style=\"text-align: right;\">\n",
       "      <th></th>\n",
       "      <th>income_index</th>\n",
       "      <th>education_index</th>\n",
       "      <th>white_alone</th>\n",
       "      <th>rent_index</th>\n",
       "      <th>value_index</th>\n",
       "      <th>employed</th>\n",
       "    </tr>\n",
       "    <tr>\n",
       "      <th>geoid</th>\n",
       "      <th></th>\n",
       "      <th></th>\n",
       "      <th></th>\n",
       "      <th></th>\n",
       "      <th></th>\n",
       "      <th></th>\n",
       "    </tr>\n",
       "  </thead>\n",
       "  <tbody>\n",
       "    <tr>\n",
       "      <th>48021950100</th>\n",
       "      <td>-0.312700</td>\n",
       "      <td>-0.986568</td>\n",
       "      <td>0.652318</td>\n",
       "      <td>-1.491379</td>\n",
       "      <td>-0.661901</td>\n",
       "      <td>1.226548</td>\n",
       "    </tr>\n",
       "    <tr>\n",
       "      <th>48021950200</th>\n",
       "      <td>-0.481692</td>\n",
       "      <td>-1.522989</td>\n",
       "      <td>-0.570963</td>\n",
       "      <td>-1.398232</td>\n",
       "      <td>-0.902080</td>\n",
       "      <td>0.795565</td>\n",
       "    </tr>\n",
       "    <tr>\n",
       "      <th>48021950300</th>\n",
       "      <td>-0.167987</td>\n",
       "      <td>-0.926236</td>\n",
       "      <td>0.317202</td>\n",
       "      <td>-1.221345</td>\n",
       "      <td>-0.485497</td>\n",
       "      <td>0.881334</td>\n",
       "    </tr>\n",
       "    <tr>\n",
       "      <th>48021950400</th>\n",
       "      <td>-0.260314</td>\n",
       "      <td>-0.456254</td>\n",
       "      <td>0.021801</td>\n",
       "      <td>-1.026959</td>\n",
       "      <td>-0.623461</td>\n",
       "      <td>1.235095</td>\n",
       "    </tr>\n",
       "    <tr>\n",
       "      <th>48021950600</th>\n",
       "      <td>-0.495846</td>\n",
       "      <td>-1.162868</td>\n",
       "      <td>0.831765</td>\n",
       "      <td>-1.444631</td>\n",
       "      <td>-0.791303</td>\n",
       "      <td>0.843208</td>\n",
       "    </tr>\n",
       "  </tbody>\n",
       "</table>\n",
       "</div>"
      ],
      "text/plain": [
       "             income_index  education_index  white_alone  rent_index  \\\n",
       "geoid                                                                 \n",
       "48021950100     -0.312700        -0.986568     0.652318   -1.491379   \n",
       "48021950200     -0.481692        -1.522989    -0.570963   -1.398232   \n",
       "48021950300     -0.167987        -0.926236     0.317202   -1.221345   \n",
       "48021950400     -0.260314        -0.456254     0.021801   -1.026959   \n",
       "48021950600     -0.495846        -1.162868     0.831765   -1.444631   \n",
       "\n",
       "             value_index  employed  \n",
       "geoid                               \n",
       "48021950100    -0.661901  1.226548  \n",
       "48021950200    -0.902080  0.795565  \n",
       "48021950300    -0.485497  0.881334  \n",
       "48021950400    -0.623461  1.235095  \n",
       "48021950600    -0.791303  0.843208  "
      ]
     },
     "execution_count": 10,
     "metadata": {},
     "output_type": "execute_result"
    }
   ],
   "source": [
    "ss = StandardScaler()\n",
    "data_ss = pd.DataFrame(ss.fit_transform(data[cols]), index=data.index, columns=cols)\n",
    "data_ss.head()"
   ]
  },
  {
   "cell_type": "markdown",
   "metadata": {},
   "source": [
    "Next I'll perform feature reduction using principal component analysis (PCA) for the purpose of visualizing the clustering results. Be reducing the dataset to the two principal components that explain the most amount of variance, I'll be able to create two-dimensional scatter plots of the data which are much easier for the human brain to process."
   ]
  },
  {
   "cell_type": "markdown",
   "metadata": {},
   "source": [
    "First let's see how much variance is explained by each principal component."
   ]
  },
  {
   "cell_type": "code",
   "execution_count": 11,
   "metadata": {},
   "outputs": [
    {
     "name": "stdout",
     "output_type": "stream",
     "text": [
      "Explained Variance:\n",
      "\t[ 0.59930976  0.13426161  0.11502126  0.08095805  0.04631217  0.02413714]\n",
      "Cumulative Explained Variance:\n",
      "\t[ 0.59930976  0.73357137  0.84859263  0.92955068  0.97586286  1.        ]\n"
     ]
    },
    {
     "data": {
      "image/png": "[encoded data removed]",
      "text/plain": [
       "<matplotlib.figure.Figure at 0x2a1cd1c8128>"
      ]
     },
     "metadata": {},
     "output_type": "display_data"
    }
   ],
   "source": [
    "pca = PCA()\n",
    "pca.fit(data_ss)\n",
    "print(f'Explained Variance:\\n\\t{pca.explained_variance_ratio_}')\n",
    "print(f'Cumulative Explained Variance:\\n\\t{pca.explained_variance_ratio_.cumsum()}')\n",
    "\n",
    "fig, ax = plt.subplots(1, 1, figsize=(8, 5))\n",
    "_ = ax.plot(range(1, 7), pca.explained_variance_ratio_)\n",
    "_ = ax.set(xlabel='Number of Principal Components', \n",
    "           ylabel='Percent of Explained Variance',\n",
    "           title='Principal Component Analysis')"
   ]
  },
  {
   "cell_type": "markdown",
   "metadata": {},
   "source": [
    "Two principal components explains about 73% of the variance of the dataset. That's pretty good"
   ]
  },
  {
   "cell_type": "code",
   "execution_count": null,
   "metadata": {
    "collapsed": true
   },
   "outputs": [],
   "source": []
  }
 ],
 "metadata": {
  "kernelspec": {
   "display_name": "Python 3",
   "language": "python",
   "name": "python3"
  },
  "language_info": {
   "codemirror_mode": {
    "name": "ipython",
    "version": 3
   },
   "file_extension": ".py",
   "mimetype": "text/x-python",
   "name": "python",
   "nbconvert_exporter": "python",
   "pygments_lexer": "ipython3",
   "version": "3.6.4"
  },
  "varInspector": {
   "cols": {
    "lenName": 16,
    "lenType": 16,
    "lenVar": 40
   },
   "kernels_config": {
    "python": {
     "delete_cmd_postfix": "",
     "delete_cmd_prefix": "del ",
     "library": "var_list.py",
     "varRefreshCmd": "print(var_dic_list())"
    },
    "r": {
     "delete_cmd_postfix": ") ",
     "delete_cmd_prefix": "rm(",
     "library": "var_list.r",
     "varRefreshCmd": "cat(var_dic_list()) "
    }
   },
   "position": {
    "height": "395px",
    "left": "1548px",
    "right": "20px",
    "top": "121px",
    "width": "352px"
   },
   "types_to_exclude": [
    "module",
    "function",
    "builtin_function_or_method",
    "instance",
    "_Feature"
   ],
   "window_display": false
  }
 },
 "nbformat": 4,
 "nbformat_minor": 2
}
