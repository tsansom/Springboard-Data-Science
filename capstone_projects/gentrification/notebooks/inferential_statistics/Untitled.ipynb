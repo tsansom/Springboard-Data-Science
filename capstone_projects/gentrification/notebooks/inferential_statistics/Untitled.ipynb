{
 "cells": [
  {
   "cell_type": "code",
   "execution_count": 5,
   "metadata": {},
   "outputs": [],
   "source": [
    "import pandas as pd\n",
    "import numpy as np\n",
    "import matplotlib.pyplot as plt\n",
    "import seaborn as sns\n",
    "import os\n",
    "import pickle\n",
    "\n",
    "%matplotlib inline"
   ]
  },
  {
   "cell_type": "code",
   "execution_count": 6,
   "metadata": {},
   "outputs": [],
   "source": [
    "pickle_data = open(os.path.join(os.getcwd(), '..', '..', 'data', 'processed', 'clean_data.pickle'), 'rb')\n",
    "data = pickle.load(pickle_data)"
   ]
  },
  {
   "cell_type": "code",
   "execution_count": 7,
   "metadata": {},
   "outputs": [
    {
     "data": {
      "text/html": [
       "<div>\n",
       "<style scoped>\n",
       "    .dataframe tbody tr th:only-of-type {\n",
       "        vertical-align: middle;\n",
       "    }\n",
       "\n",
       "    .dataframe tbody tr th {\n",
       "        vertical-align: top;\n",
       "    }\n",
       "\n",
       "    .dataframe thead th {\n",
       "        text-align: right;\n",
       "    }\n",
       "</style>\n",
       "<table border=\"1\" class=\"dataframe\">\n",
       "  <thead>\n",
       "    <tr style=\"text-align: right;\">\n",
       "      <th></th>\n",
       "      <th>year</th>\n",
       "      <th>income_index</th>\n",
       "      <th>education_index</th>\n",
       "      <th>white_alone</th>\n",
       "      <th>rent_index</th>\n",
       "      <th>value_index</th>\n",
       "      <th>employed</th>\n",
       "    </tr>\n",
       "    <tr>\n",
       "      <th>geoid</th>\n",
       "      <th></th>\n",
       "      <th></th>\n",
       "      <th></th>\n",
       "      <th></th>\n",
       "      <th></th>\n",
       "      <th></th>\n",
       "      <th></th>\n",
       "    </tr>\n",
       "  </thead>\n",
       "  <tbody>\n",
       "    <tr>\n",
       "      <th>48021950100</th>\n",
       "      <td>2000</td>\n",
       "      <td>73599.981153</td>\n",
       "      <td>3.617289</td>\n",
       "      <td>86.192698</td>\n",
       "      <td>723.087018</td>\n",
       "      <td>153375.729370</td>\n",
       "      <td>98.308865</td>\n",
       "    </tr>\n",
       "    <tr>\n",
       "      <th>48021950200</th>\n",
       "      <td>2000</td>\n",
       "      <td>67668.904461</td>\n",
       "      <td>3.154098</td>\n",
       "      <td>67.591995</td>\n",
       "      <td>752.448335</td>\n",
       "      <td>118748.232408</td>\n",
       "      <td>96.715168</td>\n",
       "    </tr>\n",
       "    <tr>\n",
       "      <th>48021950300</th>\n",
       "      <td>2000</td>\n",
       "      <td>78678.935400</td>\n",
       "      <td>3.669384</td>\n",
       "      <td>81.097069</td>\n",
       "      <td>808.205215</td>\n",
       "      <td>178808.676101</td>\n",
       "      <td>97.032326</td>\n",
       "    </tr>\n",
       "    <tr>\n",
       "      <th>48021950400</th>\n",
       "      <td>2000</td>\n",
       "      <td>75438.539903</td>\n",
       "      <td>4.075207</td>\n",
       "      <td>76.605317</td>\n",
       "      <td>869.478211</td>\n",
       "      <td>158917.899778</td>\n",
       "      <td>98.340471</td>\n",
       "    </tr>\n",
       "    <tr>\n",
       "      <th>48021950600</th>\n",
       "      <td>2000</td>\n",
       "      <td>67172.153161</td>\n",
       "      <td>3.465056</td>\n",
       "      <td>88.921283</td>\n",
       "      <td>737.822784</td>\n",
       "      <td>134719.422878</td>\n",
       "      <td>96.891342</td>\n",
       "    </tr>\n",
       "  </tbody>\n",
       "</table>\n",
       "</div>"
      ],
      "text/plain": [
       "             year  income_index  education_index  white_alone  rent_index  \\\n",
       "geoid                                                                       \n",
       "48021950100  2000  73599.981153         3.617289    86.192698  723.087018   \n",
       "48021950200  2000  67668.904461         3.154098    67.591995  752.448335   \n",
       "48021950300  2000  78678.935400         3.669384    81.097069  808.205215   \n",
       "48021950400  2000  75438.539903         4.075207    76.605317  869.478211   \n",
       "48021950600  2000  67172.153161         3.465056    88.921283  737.822784   \n",
       "\n",
       "               value_index   employed  \n",
       "geoid                                  \n",
       "48021950100  153375.729370  98.308865  \n",
       "48021950200  118748.232408  96.715168  \n",
       "48021950300  178808.676101  97.032326  \n",
       "48021950400  158917.899778  98.340471  \n",
       "48021950600  134719.422878  96.891342  "
      ]
     },
     "execution_count": 7,
     "metadata": {},
     "output_type": "execute_result"
    }
   ],
   "source": [
    "data.head()"
   ]
  },
  {
   "cell_type": "code",
   "execution_count": 8,
   "metadata": {},
   "outputs": [
    {
     "data": {
      "text/plain": [
       "76.27382276155255"
      ]
     },
     "execution_count": 8,
     "metadata": {},
     "output_type": "execute_result"
    }
   ],
   "source": [
    "data['white_alone'].mean()"
   ]
  },
  {
   "cell_type": "markdown",
   "metadata": {},
   "source": [
    "## Significance of Diversity\n",
    "First I'll test whether the diversity of a neighborhood "
   ]
  }
 ],
 "metadata": {
  "kernelspec": {
   "display_name": "Python 3",
   "language": "python",
   "name": "python3"
  },
  "language_info": {
   "codemirror_mode": {
    "name": "ipython",
    "version": 3
   },
   "file_extension": ".py",
   "mimetype": "text/x-python",
   "name": "python",
   "nbconvert_exporter": "python",
   "pygments_lexer": "ipython3",
   "version": "3.6.4"
  },
  "varInspector": {
   "cols": {
    "lenName": 16,
    "lenType": 16,
    "lenVar": 40
   },
   "kernels_config": {
    "python": {
     "delete_cmd_postfix": "",
     "delete_cmd_prefix": "del ",
     "library": "var_list.py",
     "varRefreshCmd": "print(var_dic_list())"
    },
    "r": {
     "delete_cmd_postfix": ") ",
     "delete_cmd_prefix": "rm(",
     "library": "var_list.r",
     "varRefreshCmd": "cat(var_dic_list()) "
    }
   },
   "types_to_exclude": [
    "module",
    "function",
    "builtin_function_or_method",
    "instance",
    "_Feature"
   ],
   "window_display": false
  }
 },
 "nbformat": 4,
 "nbformat_minor": 2
}
