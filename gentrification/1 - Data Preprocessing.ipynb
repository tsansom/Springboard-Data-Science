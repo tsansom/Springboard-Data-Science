{
 "cells": [
  {
   "cell_type": "code",
   "execution_count": 1,
   "metadata": {},
   "outputs": [],
   "source": [
    "import pandas as pd\n",
    "import os"
   ]
  },
  {
   "cell_type": "code",
   "execution_count": 2,
   "metadata": {},
   "outputs": [],
   "source": [
    "raw_data_dir = os.path.join(os.getcwd(), 'data', 'raw')\n",
    "\n",
    "empty_vars = {'income': '', 'education': '', 'race': '',\n",
    "              'household': '', 'rent': '', 'value': ''}\n",
    "\n",
    "acs_data_vars = {'B19001': 'income', 'S1501': 'education', 'B02001': 'race',\n",
    "                 'B11001': 'household', 'B25063': 'rent', 'B25075': 'value'}\n",
    "\n",
    "dec_data_vars = {'P052': 'income', 'QTP20': 'education', 'P007': 'race',\n",
    "                 'QTP10': 'household', 'H062': 'rent', 'H084': 'value'}\n",
    "\n",
    "data_dict = {\n",
    "    '2000': empty_vars.copy(),\n",
    "    '2009': empty_vars.copy(),\n",
    "    '2010': empty_vars.copy(),\n",
    "    '2011': empty_vars.copy(),\n",
    "    '2012': empty_vars.copy(),\n",
    "    '2013': empty_vars.copy(),\n",
    "    '2014': empty_vars.copy(),\n",
    "    '2015': empty_vars.copy(),\n",
    "    '2016': empty_vars.copy()\n",
    "}\n",
    "\n",
    "data = data_dict.copy()\n",
    "\n",
    "for fil in os.listdir(raw_data_dir):\n",
    "    fil_spl = fil.split('_')\n",
    "    if fil_spl[3] in acs_data_vars.keys():\n",
    "        data_dict['20'+fil_spl[1]][acs_data_vars[fil_spl[3]]] = os.path.join(raw_data_dir, fil)\n",
    "    elif fil_spl[3] in dec_data_vars.keys():\n",
    "        data_dict['20'+fil_spl[1]][dec_data_vars[fil_spl[3]]] = os.path.join(raw_data_dir, fil)\n",
    "    else:\n",
    "        print('Unexpected file not processed: {}'.format(fil))"
   ]
  },
  {
   "cell_type": "code",
   "execution_count": 7,
   "metadata": {},
   "outputs": [],
   "source": [
    "geoid_2000 = pd.read_csv(data_dict['2000']['income'], skiprows=1)['Id2']\n",
    "geoid_2010 = pd.read_csv(data_dict['2016']['income'], skiprows=1)['Id2']\n",
    "\n",
    "removed = list(set(geoid_2000) - set(geoid_2010))\n",
    "added = list(set(geoid_2010) - set(geoid_2000))\n",
    "\n",
    "tract_relations = pd.read_csv(os.path.join(os.getcwd(), 'census_tract_shapefile', 'census_tract_relation_file.csv'),\n",
    "                              usecols=[1, 2, 3, 6, 11, 12, 15, 25, 26])\n",
    "tract_relations = tract_relations[tract_relations['county00'].isin([21, 55, 209, 453, 491])]\n",
    "\n",
    "need_to_change = tract_relations[tract_relations['geoid00'].isin(removed)]\n",
    "need_to_change = need_to_change[need_to_change['geoid10'].isin(added)]\n",
    "need_to_change = need_to_change[need_to_change['poppct00'] > 0]\n",
    "need_to_change = need_to_change[need_to_change['poppct10'] > 1]\n",
    "\n",
    "need_to_change.to_csv(os.path.join(os.getcwd(), 'census_tract_shapefile', 'need_to_change.csv'))\n",
    "\n",
    "merged = need_to_change[need_to_change['poppct00'] > 95]\n",
    "split = need_to_change[need_to_change['poppct10'] > 95]"
   ]
  },
  {
   "cell_type": "code",
   "execution_count": 8,
   "metadata": {},
   "outputs": [],
   "source": [
    "def fix_tracts(df):\n",
    "    pass"
   ]
  },
  {
   "cell_type": "code",
   "execution_count": null,
   "metadata": {},
   "outputs": [],
   "source": [
    "def fill_missing(data):\n",
    "    '''\n",
    "    data should be a dictionary of dataframes\n",
    "    '''"
   ]
  },
  {
   "cell_type": "code",
   "execution_count": 9,
   "metadata": {
    "scrolled": true
   },
   "outputs": [],
   "source": [
    "def read_income(year):\n",
    "    if year == '2000':\n",
    "        usecols = [1, 3, 4, 5, 6, 7, 8, 9, 10, 11, \n",
    "                   12, 13, 14, 15, 16, 17, 18, 19]\n",
    "    else:\n",
    "        usecols=[1, 3, 5, 7, 9, 11, 13, 15, 17, 19,\n",
    "                 21, 23, 25, 27, 29, 31, 33, 35]\n",
    "    income = pd.read_csv(data_dict[year]['income'], skiprows=1, usecols=usecols)\n",
    "    income.index = income.pop('Id2')\n",
    "    income.index.name = 'geoid'\n",
    "    income.columns = ['total', '<10k', '[10k-15k)', '[15k-20k)',\n",
    "                      '[20k-25k)', '[25k-30k)', '[30k-35k)', '[35k-40k)', '[40k-45k)',\n",
    "                      '[45k-50k)', '[50k-60k)', '[60k-75k)', '[75k-100k)', '[100k-125k)',\n",
    "                      '[125k-150k)', '[150k-200k)', '>200k']\n",
    "    return income"
   ]
  },
  {
   "cell_type": "code",
   "execution_count": 55,
   "metadata": {},
   "outputs": [],
   "source": [
    "def read_education(year):\n",
    "    if year == '2000':\n",
    "        usecols = [3, 20, 23, 26, 29, 32, 35, 38, 41, 44, 47, 50, 53]\n",
    "    elif year in ['2009', '2010', '2011', '2012', '2013']:\n",
    "        usecols = [1, 33, 39, 45, 51, 57, 63, 69, 75]\n",
    "    elif year == '2014':\n",
    "        usecols = [1, 8, 9, 10, 11, 12, 13, 14, 15]\n",
    "    else:\n",
    "        usecols = [1, 13, 15, 17, 19, 21, 23, 25, 27]\n",
    "    \n",
    "    education = pd.read_csv(data_dict[year]['education'], skiprows=1, usecols=usecols, na_values=['-'])\n",
    "    education.index = education.pop('Id2')\n",
    "    education.index.name = 'geoid'\n",
    "    \n",
    "    if year == '2000':\n",
    "        education.columns = ['total', '<5', '5-8', '9-12', 'high_school', 'some_college_1', \n",
    "                             'some_college_2', 'associate', 'bachelor', 'master', \n",
    "                             'professional', 'doctorate']\n",
    "        education['<9'] = education.pop('<5') + education.pop('5-8')\n",
    "        education['some_college'] = education.pop('some_college_1') + education.pop('some_college_2')\n",
    "        education['graduate'] = education.pop('master') + education.pop('professional') \\\n",
    "                                + education.pop('doctorate')\n",
    "        education = education[['total', '<9', '9-12', 'high_school', 'some_college',\n",
    "                               'associate', 'bachelor', 'graduate']]\n",
    "    \n",
    "    elif year in ['2015', '2016']:\n",
    "        education.columns = ['total', '<9', '9-12', 'high_school', 'some_college',\n",
    "                             'associate', 'bachelor', 'graduate']\n",
    "    \n",
    "    else:\n",
    "        education.columns = ['total', '<9', '9-12', 'high_school', 'some_college',\n",
    "                             'associate', 'bachelor', 'graduate']\n",
    "        education.fillna(0, inplace=True) #not actually missing - Austin-Bergrstrom Intl. Airport\n",
    "        perc_cols = education.columns[1:]\n",
    "        for c in perc_cols:\n",
    "            education[c] = round(education[c] / 100 * education['total'], 0).astype('int')\n",
    "        \n",
    "            \n",
    "    return education"
   ]
  },
  {
   "cell_type": "code",
   "execution_count": 56,
   "metadata": {},
   "outputs": [
    {
     "name": "stdout",
     "output_type": "stream",
     "text": [
      "<class 'pandas.core.frame.DataFrame'>\n",
      "Int64Index: 350 entries, 48021950100 to 48491021603\n",
      "Data columns (total 8 columns):\n",
      "total           350 non-null int64\n",
      "<9              350 non-null int64\n",
      "9-12            350 non-null int64\n",
      "high_school     350 non-null int64\n",
      "some_college    350 non-null int64\n",
      "associate       350 non-null int64\n",
      "bachelor        350 non-null int64\n",
      "graduate        350 non-null int64\n",
      "dtypes: int64(8)\n",
      "memory usage: 24.6 KB\n"
     ]
    }
   ],
   "source": [
    "read_education('2010').info()"
   ]
  },
  {
   "cell_type": "code",
   "execution_count": null,
   "metadata": {},
   "outputs": [],
   "source": []
  }
 ],
 "metadata": {
  "kernelspec": {
   "display_name": "Python 3",
   "language": "python",
   "name": "python3"
  },
  "language_info": {
   "codemirror_mode": {
    "name": "ipython",
    "version": 3
   },
   "file_extension": ".py",
   "mimetype": "text/x-python",
   "name": "python",
   "nbconvert_exporter": "python",
   "pygments_lexer": "ipython3",
   "version": "3.6.4"
  }
 },
 "nbformat": 4,
 "nbformat_minor": 2
}
