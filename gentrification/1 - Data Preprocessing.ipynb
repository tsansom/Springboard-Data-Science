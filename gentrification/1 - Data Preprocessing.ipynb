{
 "cells": [
  {
   "cell_type": "code",
   "execution_count": 1,
   "metadata": {
    "collapsed": true
   },
   "outputs": [],
   "source": [
    "import pandas as pd\n",
    "import os"
   ]
  },
  {
   "cell_type": "code",
   "execution_count": 2,
   "metadata": {
    "collapsed": true
   },
   "outputs": [],
   "source": [
    "raw_data_dir = os.path.join(os.getcwd(), 'data', 'raw')\n",
    "\n",
    "empty_vars = {'income': '', 'education': '', 'race': '',\n",
    "              'household': '', 'rent': '', 'value': ''}\n",
    "\n",
    "acs_data_vars = {'B19001': 'income', 'S1501': 'education', 'B02001': 'race',\n",
    "                 'B11001': 'household', 'B25063': 'rent', 'B25075': 'value'}\n",
    "\n",
    "dec_data_vars = {'P052': 'income', 'QTP20': 'education', 'P007': 'race',\n",
    "                 'QTP10': 'household', 'H062': 'rent', 'H084': 'value'}\n",
    "\n",
    "data_dict = {\n",
    "    '2000': empty_vars.copy(),\n",
    "    '2009': empty_vars.copy(),\n",
    "    '2010': empty_vars.copy(),\n",
    "    '2011': empty_vars.copy(),\n",
    "    '2012': empty_vars.copy(),\n",
    "    '2013': empty_vars.copy(),\n",
    "    '2014': empty_vars.copy(),\n",
    "    '2015': empty_vars.copy(),\n",
    "    '2016': empty_vars.copy()\n",
    "}\n",
    "\n",
    "#data = data_dict.copy()\n",
    "\n",
    "for fil in os.listdir(raw_data_dir):\n",
    "    fil_spl = fil.split('_')\n",
    "    if fil_spl[3] in acs_data_vars.keys():\n",
    "        data_dict['20'+fil_spl[1]][acs_data_vars[fil_spl[3]]] = os.path.join(raw_data_dir, fil)\n",
    "    elif fil_spl[3] in dec_data_vars.keys():\n",
    "        data_dict['20'+fil_spl[1]][dec_data_vars[fil_spl[3]]] = os.path.join(raw_data_dir, fil)\n",
    "    else:\n",
    "        print('Unexpected file not processed: {}'.format(fil))"
   ]
  },
  {
   "cell_type": "code",
   "execution_count": 3,
   "metadata": {
    "collapsed": true
   },
   "outputs": [],
   "source": [
    "geoid_2000 = pd.read_csv(data_dict['2000']['income'], skiprows=1)['Id2']\n",
    "geoid_2010 = pd.read_csv(data_dict['2016']['income'], skiprows=1)['Id2']\n",
    "\n",
    "removed = list(set(geoid_2000) - set(geoid_2010))\n",
    "added = list(set(geoid_2010) - set(geoid_2000))\n",
    "\n",
    "tract_relations = pd.read_csv(os.path.join(os.getcwd(), 'census_tract_shapefile', 'census_tract_relation_file.csv'),\n",
    "                              usecols=[1, 2, 3, 6, 11, 12, 15, 25, 26])\n",
    "tract_relations = tract_relations[tract_relations['county00'].isin([21, 55, 209, 453, 491])]\n",
    "\n",
    "need_to_change = tract_relations[tract_relations['geoid00'].isin(removed)]\n",
    "need_to_change = need_to_change[need_to_change['geoid10'].isin(added)]\n",
    "need_to_change = need_to_change[need_to_change['poppct00'] > 0]\n",
    "need_to_change = need_to_change[need_to_change['poppct10'] > 1]\n",
    "\n",
    "need_to_change.to_csv(os.path.join(os.getcwd(), 'census_tract_shapefile', 'need_to_change.csv'))\n",
    "\n",
    "merged = need_to_change[need_to_change['poppct00'] > 95]\n",
    "split = need_to_change[need_to_change['poppct10'] > 95]"
   ]
  },
  {
   "cell_type": "code",
   "execution_count": 4,
   "metadata": {
    "collapsed": true
   },
   "outputs": [],
   "source": [
    "def fix_tracts(df):\n",
    "    pass"
   ]
  },
  {
   "cell_type": "code",
   "execution_count": 6,
   "metadata": {
    "collapsed": true,
    "scrolled": true
   },
   "outputs": [],
   "source": [
    "def read_income(year):\n",
    "    if year == '2000':\n",
    "        usecols = [1, 3, 4, 5, 6, 7, 8, 9, 10, 11, \n",
    "                   12, 13, 14, 15, 16, 17, 18, 19]\n",
    "    else:\n",
    "        usecols=[1, 3, 5, 7, 9, 11, 13, 15, 17, 19,\n",
    "                 21, 23, 25, 27, 29, 31, 33, 35]\n",
    "    income = pd.read_csv(data_dict[year]['income'], skiprows=1, usecols=usecols)\n",
    "    income.index = income.pop('Id2')\n",
    "    income.index.name = 'geoid'\n",
    "    income.columns = ['total', '<10k', '[10k-15k)', '[15k-20k)',\n",
    "                      '[20k-25k)', '[25k-30k)', '[30k-35k)', '[35k-40k)', '[40k-45k)',\n",
    "                      '[45k-50k)', '[50k-60k)', '[60k-75k)', '[75k-100k)', '[100k-125k)',\n",
    "                      '[125k-150k)', '[150k-200k)', '>200k']\n",
    "    '''\n",
    "    still need to fix tracts for 2000 and 2009\n",
    "    '''\n",
    "    return income"
   ]
  },
  {
   "cell_type": "code",
   "execution_count": 7,
   "metadata": {
    "collapsed": true
   },
   "outputs": [],
   "source": [
    "def read_education(year):\n",
    "    if year == '2000':\n",
    "        usecols = [3, 20, 23, 26, 29, 32, 35, 38, 41, 44, 47, 50, 53]\n",
    "    elif year in ['2009', '2010', '2011', '2012', '2013']:\n",
    "        usecols = [1, 33, 39, 45, 51, 57, 63, 69, 75]\n",
    "    elif year == '2014':\n",
    "        usecols = [1, 8, 9, 10, 11, 12, 13, 14, 15]\n",
    "    else:\n",
    "        usecols = [1, 13, 15, 17, 19, 21, 23, 25, 27]\n",
    "    \n",
    "    education = pd.read_csv(data_dict[year]['education'], skiprows=1, usecols=usecols, na_values=['-'])\n",
    "    education.index = education.pop('Id2')\n",
    "    education.index.name = 'geoid'\n",
    "    \n",
    "    if year == '2000':\n",
    "        education.columns = ['total', '<5', '5-8', '9-12', 'high_school', 'some_college_1', \n",
    "                             'some_college_2', 'associate', 'bachelor', 'master', \n",
    "                             'professional', 'doctorate']\n",
    "        education['<9'] = education.pop('<5') + education.pop('5-8')\n",
    "        education['some_college'] = education.pop('some_college_1') + education.pop('some_college_2')\n",
    "        education['graduate'] = education.pop('master') + education.pop('professional') \\\n",
    "                                + education.pop('doctorate')\n",
    "        education = education[['total', '<9', '9-12', 'high_school', 'some_college',\n",
    "                               'associate', 'bachelor', 'graduate']]\n",
    "    \n",
    "    elif year in ['2015', '2016']:\n",
    "        education.columns = ['total', '<9', '9-12', 'high_school', 'some_college',\n",
    "                             'associate', 'bachelor', 'graduate']\n",
    "    \n",
    "    else:\n",
    "        education.columns = ['total', '<9', '9-12', 'high_school', 'some_college',\n",
    "                             'associate', 'bachelor', 'graduate']\n",
    "        education.fillna(0, inplace=True) #not actually missing - Austin-Bergrstrom Intl. Airport\n",
    "        perc_cols = education.columns[1:]\n",
    "        for c in perc_cols:\n",
    "            education[c] = round(education[c] / 100 * education['total'], 0).astype('int')\n",
    "        \n",
    "    '''\n",
    "    fix tracts for 2000 and 2009\n",
    "    '''\n",
    "    return education"
   ]
  },
  {
   "cell_type": "code",
   "execution_count": 8,
   "metadata": {},
   "outputs": [],
   "source": [
    "def read_race(year):\n",
    "    if year == '2000':\n",
    "        usecols = [1, 3, 4]\n",
    "    else:\n",
    "        usecols = [1, 3, 5]\n",
    "    race = pd.read_csv(data_dict[year]['race'], skiprows=1, usecols=usecols)\n",
    "    race.index = race.pop('Id2')\n",
    "    race.index.name = 'geoid'\n",
    "    race.columns = ['total', 'white_alone']\n",
    "    \n",
    "    '''\n",
    "    fix tracts for 2000 and 2009, convert to percent for all\n",
    "    '''\n",
    "    \n",
    "    return race"
   ]
  },
  {
   "cell_type": "code",
   "execution_count": 9,
   "metadata": {},
   "outputs": [],
   "source": [
    "def read_household(year):\n",
    "    if year == '2000':\n",
    "        usecols = [3, 5, 7]\n",
    "    else:\n",
    "        usecols = [1, 3, 5]\n",
    "    household = pd.read_csv(data_dict[year]['household'], skiprows=1, usecols=usecols)\n",
    "    household.index = household.pop('Id2')\n",
    "    household.index.name = 'geoid'\n",
    "    household.columns = ['total_households', 'family_households']\n",
    "    \n",
    "    '''\n",
    "    fix tracts for 2000 and 2009, convert to percent for all\n",
    "    '''\n",
    "    \n",
    "    return household"
   ]
  },
  {
   "cell_type": "code",
   "execution_count": 10,
   "metadata": {},
   "outputs": [],
   "source": [
    "def read_rent(year):\n",
    "    if year == '2000':\n",
    "        usecols = [1, 4, 5, 6, 7, 8, 9, 10, 11, 12, 13, 14, 15, 16, \n",
    "                   17, 18, 19, 20, 21, 22, 23, 24, 25]\n",
    "    elif year in ['2009', '2010', '2011', '2012', '2013', '2014']:\n",
    "        usecols = [1, 5, 7, 9, 11, 13, 15, 17, 19, 21, 23, s25, \n",
    "                   27, 29, 31, 33, 35, 37, 39, 41, 43, 45, 47]\n",
    "    else:\n",
    "        usecols=[1, 5, 7, 9, 11, 13, 15, 17, 19, 21, 23, 25, \n",
    "                 27, 29, 31, 33, 35, 37, 39, 41, 43, 45, 47, 49, \n",
    "                 51, 53]\n",
    "    rent = pd.read_csv(data_dict[year]['rent'], skiprows=1, usecols=usecols)\n",
    "    rent.index = rent.pop('Id2')\n",
    "    rent.index.name = 'geoid'\n",
    "    if year in ['2015', '2016']:\n",
    "        rent['>2000'] = rent[rent.columns[21:25]].sum(axis=1)\n",
    "        rent.drop(rent.columns[[21, 22, 23, 24]], axis=1, inplace=True)\n",
    "    \n",
    "    rent.columns = ['total', '<100', '[100-150)', '[150-200)', '[200-250)',\n",
    "                    '[250-300)', '[300-350)', '[350-400)', '[400-450)', '[450-500)', '[500-550)',\n",
    "                    '[550-600)', '[600-650)', '[650-700)', '[700-750)', '[750-800)', '[800-900)',\n",
    "                    '[900-1000)', '[1000-1250)', '[1250-1500)', '[1500-2000)', '>2000']\n",
    "    \n",
    "    '''\n",
    "    fix tracts for 2000 and 2009\n",
    "    '''\n",
    "    \n",
    "    return rent"
   ]
  },
  {
   "cell_type": "code",
   "execution_count": 11,
   "metadata": {
    "collapsed": true
   },
   "outputs": [],
   "source": [
    "def read_value(year):\n",
    "    if year == '2000':\n",
    "        usecols = [1, 3, 4, 5, 6, 7, 8, 9, 10, 11, 12, 13, 14, 15, \n",
    "                   16, 17, 18, 19, 20, 21, 22, 23, 24, 25, 26, 27]\n",
    "    elif year in ['2009', '2010', '2011', '2012', '2013', '2014']:\n",
    "        usecols = [1, 3, 5, 7, 9, 11, 13, 15, 17, 19, 21, 23, 25, 27, \n",
    "                   29, 31, 33, 35, 37, 39, 41, 43, 45, 47, 49, 51]\n",
    "    else:\n",
    "        usecols = [1, 3, 5, 7, 9, 11, 13, 15, 17, 19, 21, 23, 25, 27, \n",
    "                   29, 31, 33, 35, 37, 39, 41, 43, 45, 47, 49, 51, 53, 55]\n",
    "    \n",
    "    value = pd.read_csv(data_dict[year]['value'], skiprows=1, usecols=usecols)\n",
    "    value.index = value.pop('Id2')\n",
    "    value.index.name = 'geoid'\n",
    "    \n",
    "    if year in ['2015', '2016']:\n",
    "        value['>1M'] = value[value.columns[25:28]].sum(axis=1)\n",
    "        value.drop(value.columns[[25, 26, 27]], axis=1, inplace=True)\n",
    "    \n",
    "    value.columns = ['total', '<10k', '[10k-15k)', '[15k-20k)', '[20k-25k)', \n",
    "                     '[25k-30k)', '[30k-35k)', '[35k-40k)', '[40k-50k)', '[50k-60k)', '[60k-70k)', \n",
    "                     '[70k-80k)', '[80k-90k)', '[90k-100k)', '[100k-125k)', '[125k-150k)', '[150k-175k)', \n",
    "                     '[175k-200k)', '[200k-250k)', '[250k-300k)', '[300k-400k)', '[400k-500k)', \n",
    "                     '[500k-750k)', '[750k-1M)', '>1M']\n",
    "    \n",
    "    '''\n",
    "    fix tracts for 2000 and 2009\n",
    "    '''\n",
    "    \n",
    "    return value"
   ]
  },
  {
   "cell_type": "code",
   "execution_count": 12,
   "metadata": {},
   "outputs": [],
   "source": [
    "data = {\n",
    "    '2000': empty_vars.copy(),\n",
    "    '2009': empty_vars.copy(),\n",
    "    '2010': empty_vars.copy(),\n",
    "    '2011': empty_vars.copy(),\n",
    "    '2012': empty_vars.copy(),\n",
    "    '2013': empty_vars.copy(),\n",
    "    '2014': empty_vars.copy(),\n",
    "    '2015': empty_vars.copy(),\n",
    "    '2016': empty_vars.copy()\n",
    "}\n",
    "\n",
    "read_funs = [read_income, read_education, read_race, read_household, read_rent, read_value]\n",
    "read_vars = ['income', 'education', 'race', 'household', 'rent', 'value']\n",
    "\n",
    "for key in data.keys():\n",
    "    for f, v in zip(read_funs, read_vars):\n",
    "        data[key][v] = f(key)"
   ]
  },
  {
   "cell_type": "code",
   "execution_count": null,
   "metadata": {
    "collapsed": true
   },
   "outputs": [],
   "source": []
  }
 ],
 "metadata": {
  "kernelspec": {
   "display_name": "Python 3",
   "language": "python",
   "name": "python3"
  },
  "language_info": {
   "codemirror_mode": {
    "name": "ipython",
    "version": 3
   },
   "file_extension": ".py",
   "mimetype": "text/x-python",
   "name": "python",
   "nbconvert_exporter": "python",
   "pygments_lexer": "ipython3",
   "version": "3.6.3"
  }
 },
 "nbformat": 4,
 "nbformat_minor": 2
}
